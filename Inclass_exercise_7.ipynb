{
  "nbformat": 4,
  "nbformat_minor": 0,
  "metadata": {
    "colab": {
      "name": "Inclass_exercise_7.ipynb",
      "provenance": [],
      "authorship_tag": "ABX9TyOSv5fUA1GRefNydLNS7UBJ",
      "include_colab_link": true
    },
    "kernelspec": {
      "name": "python3",
      "display_name": "Python 3"
    },
    "language_info": {
      "name": "python"
    }
  },
  "cells": [
    {
      "cell_type": "markdown",
      "metadata": {
        "id": "view-in-github",
        "colab_type": "text"
      },
      "source": [
        "<a href=\"https://colab.research.google.com/github/AneesahAneesah/aneesah_INFO5731_Spring2021/blob/main/Inclass_exercise_7.ipynb\" target=\"_parent\"><img src=\"https://colab.research.google.com/assets/colab-badge.svg\" alt=\"Open In Colab\"/></a>"
      ]
    },
    {
      "cell_type": "code",
      "metadata": {
        "colab": {
          "base_uri": "https://localhost:8080/"
        },
        "id": "BqiStwjySuUS",
        "outputId": "f43d0af1-fc32-4e10-918f-67c8864d75c5"
      },
      "source": [
        "import pandas as pd\n",
        "import requests\n",
        "from bs4 import BeautifulSoup\n",
        "\n",
        "def insertarray(num,array_ref):\n",
        "\n",
        "  for i in num:\n",
        "\n",
        "    array_ref.append(i.text)\n",
        "\n",
        "title=[]\n",
        "\n",
        "for j in range(0,100,10):\n",
        "\n",
        "  URL=\"http://citeseerx.ist.psu.edu/search?q=data+science&t=doc&sort=rlv&start=\"+str(j)\n",
        "  pages=requests.get(URL,headers={'User-Agent':'Chrome/85.0.4183.121'})\n",
        "  beau_soup = BeautifulSoup(pages.content, 'html.parser')\n",
        "  insertarray(beau_soup.find_all('a', class_='remove doc_details'),title)\n",
        "\n",
        "print(title)\n",
        "df = pd.DataFrame (title,columns=['title'])"
      ],
      "execution_count": 8,
      "outputs": [
        {
          "output_type": "stream",
          "text": [
            "['\\nData Streams: Algorithms and Applications\\n                  ', '\\n                  Bayesian Data Analysis\\n                  ', '\\n                  Voronoi diagrams -- a survey of a fundamental geometric data structure\\n                  ', '\\n                  From Data Mining to Knowledge Discovery in Databases.\\n                  ', '\\n                  Survey of clustering algorithms\\n                  ', '\\n                  Thresholding of statistical maps in functional neuroimaging using the false discovery rate.\\n                  ', '\\n                  Maintaining knowledge about temporal intervals\\n                  ', '\\n                  Status quo bias in decision making\\n                  ', '\\n                  Rough Sets.\\n                  ', '\\n                  Modeling TCP Throughput: A Simple Model and its Empirical Validation\\n                  ', '\\n                  Compressive sampling\\n                  ', '\\n                  Search and replication in unstructured peer-to-peer networks\\n                  ', '\\n                  Dynamic Bayesian Networks: Representation, Inference and Learning\\n                  ', '\\n                  Motivational and self-regulated learning components of classroom academic performance\\n                  ', '\\n                  Probabilistic Inference Using Markov Chain Monte Carlo Methods\\n                  ', '\\n                  A theory of social comparison processes,”\\n                  ', '\\n                  Group formation in large social networks: membership, growth, and evolution\\n                  ', '\\n                  Illusion and well-being: A social psychological perspective on mental health.\\n                  ', '\\n                  Analyzing Incomplete Political Science Data: An Alternative Algorithm for Multiple Imputation\\n                  ', '\\n                  Natural Selection\\n                  ', '\\n                  Foreign Direct Investment and Relative Wages: Evidence from Mexico’s Maquiladoras\\n                  ', '\\n                  Indexing and Querying XML Data for Regular Path Expressions\\n                  ', '\\n                  A survey of data provenance in e-science\\n', '\\n                  A Survey of Affect Recognition Methods: Audio, Visual, and Spontaneous Expressions\\n                  ', '\\n                  The earth is round (p < .05\\n                  ', '\\n                  Citizens as sensors: the world of volunteered geography.”\\n                  ', '\\n                   Mechanism Design for Data Science\\n', '\\n                  Foundations of data science\\n', '\\n                  Foundations of data science\\n', '\\nData Sciences UK Ltd.\\n                  ', '\\n                  EMI Music Data Science\\n', '\\nData Sciences Laboratory\\n                  ', '\\n                  INTRODUCTION TO DATA SCIENCE\\n', '\\n                  Database Mining: A Performance Perspective\\n                  ', '\\n                  Functional Data Structures\\n                  ', '\\n                  Towards Cognitive Automation of Data Science\\n', '\\n                  My Solution to the EMC Data Science Global\\n                  ', '\\n                  MOOCdb: Developing Data Standards for MOOC Data Science\\n', '\\n                  A survey of outlier detection methodologies\\n                  ', '\\n                  Gender, Agricultural Productivity and the Theory of the Household\\n                  ', '\\n                  SPARSKIT: a basic tool kit for sparse matrix computations - Version 2\\n                  ', '\\n                  On Clustering Validation Techniques\\n                  ', '\\n                  Chief. Data Sciences Division1\\n                  ', '\\n                  Industrial development in cities\\n                  ', '\\n                  Parallel Computing for Data Science with Examples in R and Beyond\\n                  ', '\\nData Science in the Statistics Curricula: Preparing Students to \"Think with Data\"\\n                  ', '\\n                  Guest Editorial EDITOR’S COMMENTS The Business of Business Data Science in IS Journals\\n                  ', '\\n                  Reconstructing past climate from noisy data. Science 306: 679–682\\n                  ', '\\n                  A Critique of Software Defect Prediction Models\\n                  ', '\\n                  A new approach to abstract syntax with variable binding\\n                  ', '\\n                  Stochastic global optimization\\n                  ', '\\n                  Fidelity and yield in a volcano monitoring sensor network\\n                  ', '\\n                  The Netflix Prize\\n                  ', '\\n                  A rational analysis of the selection task as optimal data selection\\n                  ', '\\n                  A Tutorial on (Co)Algebras and (Co)Induction\\n                  ', '\\n                  Statistical Analysis of a Telephone Call Center: A Queueing Science Perspective\\n                  ', '\\n                  1 Data Science and Mass Media: Seeking a Hermeneutic Ethics of Information\\n                  ', '\\n                  Editorial—Big Data, Data Science, and Analytics: The Opportunity and Challenge for Is Research\\n                  ', '\\n                  Deep Feature Synthesis: Towards Automating Data Science Endeavors\\n                  ', '\\nData Science and Distributed Intelligence: Recent Developments and Future Insights\\n                  ', '\\nDATA SCIENCE AND ITS RELATIONSHIP TO BIG DATA AND DATA-DRIVEN DECISION MAKING ORIGINAL ARTICLE\\n                  ', '\\n                  •\\u202f Organic data science 4. Closing thoughts\\n                  ', '\\n                  e-Infrastructure Requirements for Big Data Science\\n', '\\n                  The Electronic Universe: Network Delivery of Data, Science and Discovery\\n                  ', '\\n                  Editorial: special issue on learning from imbalanced data sets\\n                  ', '\\n                  ICML 2014 AutoML Workshop Cognitive Automation of Data Science\\n', '\\n                  Matrix Completion with Noise\\n                  ', '\\n                  Qualitative Case Study Methodology: Study Design and Implementation for Novice Researchers\\n                  ', '\\n                  The Investment behavior and performance of various investor\\n                  ', '\\n                  E-commerce: The role of familiarity and trust\\n                  ', '\\n                  A Software Interface for Supporting the Application of Data Science to Optimisation\\n                  ', '\\n                  Technology Probes: Inspiring Design for and with Families\\n                  ', '\\n                  TEACHING PRECURSORS TO DATA SCIENCE IN INTRODUCTORY AND SECOND COURSES IN STATISTICS\\n                  ', '\\nData Science of the People, for the People, by the People: A Viewpoint on an Emerging Dichotomy\\n                  ', '\\nData Science Study Protocols for Investigating Lifetime and Degradation of PV Technology Systems\\n                  ', '\\n                  Maps of random walks on complex networks reveal community structure\\n                  ', '\\n                  A Macroscope in the Redwoods\\n                  ', '\\n                  Thrust Area in Data Science-Big Data and Data Analytics\\n                  ', '\\n                  With their book XML and Web Technologies for Data Sciences with R, Deborah Nolan and\\n                  ', '\\nData Management and Transfer in High-Performance Computational Grid Environments\\n                  ', '\\n                  A new approach to decoding life: systems biology\\n                  ', '\\n                  Geometry for the selfish herd.\\n                  ', '\\n                  PERSPECTIVE Let&aposs Make Gender Diversity in Data Science a Priority Right from the Start\\n                  ', '\\nDataHub: Collaborative Data Science & Dataset Version Management at Scale\\n                  ', '\\n                  To be published in Data Science Journal, 2005 Digital Object Identifiers for scientific data\\n', '\\n                  OkCupid Data for Introductory Statistics and Data Science Courses\\n                  ', '\\n                  The Role of Income Aspirations in Individual Happiness\\n                  ', '\\n                  Predicting tie strength with social media\\n                  ', '\\n                  Intel “Big Data ” Science and Technology Center Vision and Execution Plan\\n                  ', '\\n                  Teaching Parallelism Without Programming: A Data Science Curriculum for Non-CS Students\\n                  ', '\\n                   How Computational Statistics Became the Backbone of Modern Data Science\\n', '\\n                  Efficient Search for Approximate Nearest Neighbor in High Dimensional Spaces\\n                  ', '\\n                  Model selection in ecology and evolution.\\n                  ', '\\n                  Local Ground:\\xa0 A\\xa0Toolkit\\xa0Supporting\\xa0Metarepresentational Competence in\\xa0Data\\xa0Science\\n', '\\n                  Visual Exploration of Formal Requirements for Data Science Demand Analysis\\n                  ', '\\n                  Earth Data, Science Writing, and Peer Review page 1 Earth Data, Science Writing, and Peer Review in a Large General Education Oceanography Class\\n                  ', '\\n                  An Online Algorithm for Segmenting Time Series\\n                  ', '\\n                  OUTLINE AND EXERCISES FOR A NOVEL INTRODUCTORY COURSE IN DATA SCIENCE AND VISUALIZATION\\n                  ', '\\n                   Computational Data Sciences for Actionable Insights on Climate Extremes and Uncertainty\\n                  ', '\\n                  The New Computational and Data Sciences Undergraduate Program at George Mason University 1 Data-Intensive Science: A New Vision for Science Education\\n                  ']\n"
          ],
          "name": "stdout"
        }
      ]
    },
    {
      "cell_type": "code",
      "metadata": {
        "colab": {
          "base_uri": "https://localhost:8080/"
        },
        "id": "-m9GW3mmVGAA",
        "outputId": "3ca61a00-0df2-4203-e4e4-a2b24de59708"
      },
      "source": [
        "pip install pyLDAvis"
      ],
      "execution_count": 9,
      "outputs": [
        {
          "output_type": "stream",
          "text": [
            "Collecting pyLDAvis\n",
            "\u001b[?25l  Downloading https://files.pythonhosted.org/packages/24/38/6d81eff34c84c9158d3b7c846bff978ac88b0c2665548941946d3d591158/pyLDAvis-3.2.2.tar.gz (1.7MB)\n",
            "\r\u001b[K     |▏                               | 10kB 16.8MB/s eta 0:00:01\r\u001b[K     |▍                               | 20kB 19.8MB/s eta 0:00:01\r\u001b[K     |▋                               | 30kB 10.8MB/s eta 0:00:01\r\u001b[K     |▉                               | 40kB 9.4MB/s eta 0:00:01\r\u001b[K     |█                               | 51kB 7.9MB/s eta 0:00:01\r\u001b[K     |█▏                              | 61kB 7.9MB/s eta 0:00:01\r\u001b[K     |█▍                              | 71kB 8.2MB/s eta 0:00:01\r\u001b[K     |█▋                              | 81kB 8.6MB/s eta 0:00:01\r\u001b[K     |█▉                              | 92kB 8.2MB/s eta 0:00:01\r\u001b[K     |██                              | 102kB 8.5MB/s eta 0:00:01\r\u001b[K     |██▏                             | 112kB 8.5MB/s eta 0:00:01\r\u001b[K     |██▍                             | 122kB 8.5MB/s eta 0:00:01\r\u001b[K     |██▋                             | 133kB 8.5MB/s eta 0:00:01\r\u001b[K     |██▉                             | 143kB 8.5MB/s eta 0:00:01\r\u001b[K     |███                             | 153kB 8.5MB/s eta 0:00:01\r\u001b[K     |███▏                            | 163kB 8.5MB/s eta 0:00:01\r\u001b[K     |███▍                            | 174kB 8.5MB/s eta 0:00:01\r\u001b[K     |███▋                            | 184kB 8.5MB/s eta 0:00:01\r\u001b[K     |███▊                            | 194kB 8.5MB/s eta 0:00:01\r\u001b[K     |████                            | 204kB 8.5MB/s eta 0:00:01\r\u001b[K     |████▏                           | 215kB 8.5MB/s eta 0:00:01\r\u001b[K     |████▍                           | 225kB 8.5MB/s eta 0:00:01\r\u001b[K     |████▋                           | 235kB 8.5MB/s eta 0:00:01\r\u001b[K     |████▊                           | 245kB 8.5MB/s eta 0:00:01\r\u001b[K     |█████                           | 256kB 8.5MB/s eta 0:00:01\r\u001b[K     |█████▏                          | 266kB 8.5MB/s eta 0:00:01\r\u001b[K     |█████▍                          | 276kB 8.5MB/s eta 0:00:01\r\u001b[K     |█████▋                          | 286kB 8.5MB/s eta 0:00:01\r\u001b[K     |█████▊                          | 296kB 8.5MB/s eta 0:00:01\r\u001b[K     |██████                          | 307kB 8.5MB/s eta 0:00:01\r\u001b[K     |██████▏                         | 317kB 8.5MB/s eta 0:00:01\r\u001b[K     |██████▍                         | 327kB 8.5MB/s eta 0:00:01\r\u001b[K     |██████▌                         | 337kB 8.5MB/s eta 0:00:01\r\u001b[K     |██████▊                         | 348kB 8.5MB/s eta 0:00:01\r\u001b[K     |███████                         | 358kB 8.5MB/s eta 0:00:01\r\u001b[K     |███████▏                        | 368kB 8.5MB/s eta 0:00:01\r\u001b[K     |███████▍                        | 378kB 8.5MB/s eta 0:00:01\r\u001b[K     |███████▌                        | 389kB 8.5MB/s eta 0:00:01\r\u001b[K     |███████▊                        | 399kB 8.5MB/s eta 0:00:01\r\u001b[K     |████████                        | 409kB 8.5MB/s eta 0:00:01\r\u001b[K     |████████▏                       | 419kB 8.5MB/s eta 0:00:01\r\u001b[K     |████████▍                       | 430kB 8.5MB/s eta 0:00:01\r\u001b[K     |████████▌                       | 440kB 8.5MB/s eta 0:00:01\r\u001b[K     |████████▊                       | 450kB 8.5MB/s eta 0:00:01\r\u001b[K     |█████████                       | 460kB 8.5MB/s eta 0:00:01\r\u001b[K     |█████████▏                      | 471kB 8.5MB/s eta 0:00:01\r\u001b[K     |█████████▎                      | 481kB 8.5MB/s eta 0:00:01\r\u001b[K     |█████████▌                      | 491kB 8.5MB/s eta 0:00:01\r\u001b[K     |█████████▊                      | 501kB 8.5MB/s eta 0:00:01\r\u001b[K     |██████████                      | 512kB 8.5MB/s eta 0:00:01\r\u001b[K     |██████████▏                     | 522kB 8.5MB/s eta 0:00:01\r\u001b[K     |██████████▎                     | 532kB 8.5MB/s eta 0:00:01\r\u001b[K     |██████████▌                     | 542kB 8.5MB/s eta 0:00:01\r\u001b[K     |██████████▊                     | 552kB 8.5MB/s eta 0:00:01\r\u001b[K     |███████████                     | 563kB 8.5MB/s eta 0:00:01\r\u001b[K     |███████████▏                    | 573kB 8.5MB/s eta 0:00:01\r\u001b[K     |███████████▎                    | 583kB 8.5MB/s eta 0:00:01\r\u001b[K     |███████████▌                    | 593kB 8.5MB/s eta 0:00:01\r\u001b[K     |███████████▊                    | 604kB 8.5MB/s eta 0:00:01\r\u001b[K     |████████████                    | 614kB 8.5MB/s eta 0:00:01\r\u001b[K     |████████████                    | 624kB 8.5MB/s eta 0:00:01\r\u001b[K     |████████████▎                   | 634kB 8.5MB/s eta 0:00:01\r\u001b[K     |████████████▌                   | 645kB 8.5MB/s eta 0:00:01\r\u001b[K     |████████████▊                   | 655kB 8.5MB/s eta 0:00:01\r\u001b[K     |█████████████                   | 665kB 8.5MB/s eta 0:00:01\r\u001b[K     |█████████████                   | 675kB 8.5MB/s eta 0:00:01\r\u001b[K     |█████████████▎                  | 686kB 8.5MB/s eta 0:00:01\r\u001b[K     |█████████████▌                  | 696kB 8.5MB/s eta 0:00:01\r\u001b[K     |█████████████▊                  | 706kB 8.5MB/s eta 0:00:01\r\u001b[K     |██████████████                  | 716kB 8.5MB/s eta 0:00:01\r\u001b[K     |██████████████                  | 727kB 8.5MB/s eta 0:00:01\r\u001b[K     |██████████████▎                 | 737kB 8.5MB/s eta 0:00:01\r\u001b[K     |██████████████▌                 | 747kB 8.5MB/s eta 0:00:01\r\u001b[K     |██████████████▊                 | 757kB 8.5MB/s eta 0:00:01\r\u001b[K     |██████████████▉                 | 768kB 8.5MB/s eta 0:00:01\r\u001b[K     |███████████████                 | 778kB 8.5MB/s eta 0:00:01\r\u001b[K     |███████████████▎                | 788kB 8.5MB/s eta 0:00:01\r\u001b[K     |███████████████▌                | 798kB 8.5MB/s eta 0:00:01\r\u001b[K     |███████████████▊                | 808kB 8.5MB/s eta 0:00:01\r\u001b[K     |███████████████▉                | 819kB 8.5MB/s eta 0:00:01\r\u001b[K     |████████████████                | 829kB 8.5MB/s eta 0:00:01\r\u001b[K     |████████████████▎               | 839kB 8.5MB/s eta 0:00:01\r\u001b[K     |████████████████▌               | 849kB 8.5MB/s eta 0:00:01\r\u001b[K     |████████████████▊               | 860kB 8.5MB/s eta 0:00:01\r\u001b[K     |████████████████▉               | 870kB 8.5MB/s eta 0:00:01\r\u001b[K     |█████████████████               | 880kB 8.5MB/s eta 0:00:01\r\u001b[K     |█████████████████▎              | 890kB 8.5MB/s eta 0:00:01\r\u001b[K     |█████████████████▌              | 901kB 8.5MB/s eta 0:00:01\r\u001b[K     |█████████████████▋              | 911kB 8.5MB/s eta 0:00:01\r\u001b[K     |█████████████████▉              | 921kB 8.5MB/s eta 0:00:01\r\u001b[K     |██████████████████              | 931kB 8.5MB/s eta 0:00:01\r\u001b[K     |██████████████████▎             | 942kB 8.5MB/s eta 0:00:01\r\u001b[K     |██████████████████▌             | 952kB 8.5MB/s eta 0:00:01\r\u001b[K     |██████████████████▋             | 962kB 8.5MB/s eta 0:00:01\r\u001b[K     |██████████████████▉             | 972kB 8.5MB/s eta 0:00:01\r\u001b[K     |███████████████████             | 983kB 8.5MB/s eta 0:00:01\r\u001b[K     |███████████████████▎            | 993kB 8.5MB/s eta 0:00:01\r\u001b[K     |███████████████████▌            | 1.0MB 8.5MB/s eta 0:00:01\r\u001b[K     |███████████████████▋            | 1.0MB 8.5MB/s eta 0:00:01\r\u001b[K     |███████████████████▉            | 1.0MB 8.5MB/s eta 0:00:01\r\u001b[K     |████████████████████            | 1.0MB 8.5MB/s eta 0:00:01\r\u001b[K     |████████████████████▎           | 1.0MB 8.5MB/s eta 0:00:01\r\u001b[K     |████████████████████▍           | 1.1MB 8.5MB/s eta 0:00:01\r\u001b[K     |████████████████████▋           | 1.1MB 8.5MB/s eta 0:00:01\r\u001b[K     |████████████████████▉           | 1.1MB 8.5MB/s eta 0:00:01\r\u001b[K     |█████████████████████           | 1.1MB 8.5MB/s eta 0:00:01\r\u001b[K     |█████████████████████▎          | 1.1MB 8.5MB/s eta 0:00:01\r\u001b[K     |█████████████████████▍          | 1.1MB 8.5MB/s eta 0:00:01\r\u001b[K     |█████████████████████▋          | 1.1MB 8.5MB/s eta 0:00:01\r\u001b[K     |█████████████████████▉          | 1.1MB 8.5MB/s eta 0:00:01\r\u001b[K     |██████████████████████          | 1.1MB 8.5MB/s eta 0:00:01\r\u001b[K     |██████████████████████▎         | 1.1MB 8.5MB/s eta 0:00:01\r\u001b[K     |██████████████████████▍         | 1.2MB 8.5MB/s eta 0:00:01\r\u001b[K     |██████████████████████▋         | 1.2MB 8.5MB/s eta 0:00:01\r\u001b[K     |██████████████████████▉         | 1.2MB 8.5MB/s eta 0:00:01\r\u001b[K     |███████████████████████         | 1.2MB 8.5MB/s eta 0:00:01\r\u001b[K     |███████████████████████▏        | 1.2MB 8.5MB/s eta 0:00:01\r\u001b[K     |███████████████████████▍        | 1.2MB 8.5MB/s eta 0:00:01\r\u001b[K     |███████████████████████▋        | 1.2MB 8.5MB/s eta 0:00:01\r\u001b[K     |███████████████████████▉        | 1.2MB 8.5MB/s eta 0:00:01\r\u001b[K     |████████████████████████        | 1.2MB 8.5MB/s eta 0:00:01\r\u001b[K     |████████████████████████▏       | 1.2MB 8.5MB/s eta 0:00:01\r\u001b[K     |████████████████████████▍       | 1.3MB 8.5MB/s eta 0:00:01\r\u001b[K     |████████████████████████▋       | 1.3MB 8.5MB/s eta 0:00:01\r\u001b[K     |████████████████████████▉       | 1.3MB 8.5MB/s eta 0:00:01\r\u001b[K     |█████████████████████████       | 1.3MB 8.5MB/s eta 0:00:01\r\u001b[K     |█████████████████████████▏      | 1.3MB 8.5MB/s eta 0:00:01\r\u001b[K     |█████████████████████████▍      | 1.3MB 8.5MB/s eta 0:00:01\r\u001b[K     |█████████████████████████▋      | 1.3MB 8.5MB/s eta 0:00:01\r\u001b[K     |█████████████████████████▉      | 1.3MB 8.5MB/s eta 0:00:01\r\u001b[K     |██████████████████████████      | 1.3MB 8.5MB/s eta 0:00:01\r\u001b[K     |██████████████████████████▏     | 1.4MB 8.5MB/s eta 0:00:01\r\u001b[K     |██████████████████████████▍     | 1.4MB 8.5MB/s eta 0:00:01\r\u001b[K     |██████████████████████████▋     | 1.4MB 8.5MB/s eta 0:00:01\r\u001b[K     |██████████████████████████▉     | 1.4MB 8.5MB/s eta 0:00:01\r\u001b[K     |███████████████████████████     | 1.4MB 8.5MB/s eta 0:00:01\r\u001b[K     |███████████████████████████▏    | 1.4MB 8.5MB/s eta 0:00:01\r\u001b[K     |███████████████████████████▍    | 1.4MB 8.5MB/s eta 0:00:01\r\u001b[K     |███████████████████████████▋    | 1.4MB 8.5MB/s eta 0:00:01\r\u001b[K     |███████████████████████████▉    | 1.4MB 8.5MB/s eta 0:00:01\r\u001b[K     |████████████████████████████    | 1.4MB 8.5MB/s eta 0:00:01\r\u001b[K     |████████████████████████████▏   | 1.5MB 8.5MB/s eta 0:00:01\r\u001b[K     |████████████████████████████▍   | 1.5MB 8.5MB/s eta 0:00:01\r\u001b[K     |████████████████████████████▋   | 1.5MB 8.5MB/s eta 0:00:01\r\u001b[K     |████████████████████████████▊   | 1.5MB 8.5MB/s eta 0:00:01\r\u001b[K     |█████████████████████████████   | 1.5MB 8.5MB/s eta 0:00:01\r\u001b[K     |█████████████████████████████▏  | 1.5MB 8.5MB/s eta 0:00:01\r\u001b[K     |█████████████████████████████▍  | 1.5MB 8.5MB/s eta 0:00:01\r\u001b[K     |█████████████████████████████▋  | 1.5MB 8.5MB/s eta 0:00:01\r\u001b[K     |█████████████████████████████▊  | 1.5MB 8.5MB/s eta 0:00:01\r\u001b[K     |██████████████████████████████  | 1.5MB 8.5MB/s eta 0:00:01\r\u001b[K     |██████████████████████████████▏ | 1.6MB 8.5MB/s eta 0:00:01\r\u001b[K     |██████████████████████████████▍ | 1.6MB 8.5MB/s eta 0:00:01\r\u001b[K     |██████████████████████████████▋ | 1.6MB 8.5MB/s eta 0:00:01\r\u001b[K     |██████████████████████████████▊ | 1.6MB 8.5MB/s eta 0:00:01\r\u001b[K     |███████████████████████████████ | 1.6MB 8.5MB/s eta 0:00:01\r\u001b[K     |███████████████████████████████▏| 1.6MB 8.5MB/s eta 0:00:01\r\u001b[K     |███████████████████████████████▍| 1.6MB 8.5MB/s eta 0:00:01\r\u001b[K     |███████████████████████████████▌| 1.6MB 8.5MB/s eta 0:00:01\r\u001b[K     |███████████████████████████████▊| 1.6MB 8.5MB/s eta 0:00:01\r\u001b[K     |████████████████████████████████| 1.6MB 8.5MB/s eta 0:00:01\r\u001b[K     |████████████████████████████████| 1.7MB 8.5MB/s \n",
            "\u001b[?25hRequirement already satisfied: wheel>=0.23.0 in /usr/local/lib/python3.7/dist-packages (from pyLDAvis) (0.36.2)\n",
            "Requirement already satisfied: numpy>=1.9.2 in /usr/local/lib/python3.7/dist-packages (from pyLDAvis) (1.19.5)\n",
            "Requirement already satisfied: scipy>=0.18.0 in /usr/local/lib/python3.7/dist-packages (from pyLDAvis) (1.4.1)\n",
            "Requirement already satisfied: joblib>=0.8.4 in /usr/local/lib/python3.7/dist-packages (from pyLDAvis) (1.0.1)\n",
            "Requirement already satisfied: jinja2>=2.7.2 in /usr/local/lib/python3.7/dist-packages (from pyLDAvis) (2.11.3)\n",
            "Requirement already satisfied: numexpr in /usr/local/lib/python3.7/dist-packages (from pyLDAvis) (2.7.3)\n",
            "Requirement already satisfied: future in /usr/local/lib/python3.7/dist-packages (from pyLDAvis) (0.16.0)\n",
            "Collecting funcy\n",
            "  Downloading https://files.pythonhosted.org/packages/66/89/479de0afbbfb98d1c4b887936808764627300208bb771fcd823403645a36/funcy-1.15-py2.py3-none-any.whl\n",
            "Requirement already satisfied: pandas>=0.17.0 in /usr/local/lib/python3.7/dist-packages (from pyLDAvis) (1.1.5)\n",
            "Requirement already satisfied: MarkupSafe>=0.23 in /usr/local/lib/python3.7/dist-packages (from jinja2>=2.7.2->pyLDAvis) (1.1.1)\n",
            "Requirement already satisfied: pytz>=2017.2 in /usr/local/lib/python3.7/dist-packages (from pandas>=0.17.0->pyLDAvis) (2018.9)\n",
            "Requirement already satisfied: python-dateutil>=2.7.3 in /usr/local/lib/python3.7/dist-packages (from pandas>=0.17.0->pyLDAvis) (2.8.1)\n",
            "Requirement already satisfied: six>=1.5 in /usr/local/lib/python3.7/dist-packages (from python-dateutil>=2.7.3->pandas>=0.17.0->pyLDAvis) (1.15.0)\n",
            "Building wheels for collected packages: pyLDAvis\n",
            "  Building wheel for pyLDAvis (setup.py) ... \u001b[?25l\u001b[?25hdone\n",
            "  Created wheel for pyLDAvis: filename=pyLDAvis-3.2.2-py2.py3-none-any.whl size=135593 sha256=14e95937c013f5af78861224d84da078e23186e364df28ae33be14900be2792f\n",
            "  Stored in directory: /root/.cache/pip/wheels/74/df/b6/97234c8446a43be05c9a8687ee0db1f1b5ade5f27729187eae\n",
            "Successfully built pyLDAvis\n",
            "Installing collected packages: funcy, pyLDAvis\n",
            "Successfully installed funcy-1.15 pyLDAvis-3.2.2\n"
          ],
          "name": "stdout"
        }
      ]
    },
    {
      "cell_type": "code",
      "metadata": {
        "colab": {
          "base_uri": "https://localhost:8080/"
        },
        "id": "VL1u8npRVRzp",
        "outputId": "8fc2a169-622d-4ca7-a788-7899de8dcd20"
      },
      "source": [
        "import nltk\n",
        "nltk.download('stopwords')"
      ],
      "execution_count": 10,
      "outputs": [
        {
          "output_type": "stream",
          "text": [
            "[nltk_data] Downloading package stopwords to /root/nltk_data...\n",
            "[nltk_data]   Unzipping corpora/stopwords.zip.\n"
          ],
          "name": "stdout"
        },
        {
          "output_type": "execute_result",
          "data": {
            "text/plain": [
              "True"
            ]
          },
          "metadata": {
            "tags": []
          },
          "execution_count": 10
        }
      ]
    },
    {
      "cell_type": "code",
      "metadata": {
        "colab": {
          "base_uri": "https://localhost:8080/"
        },
        "id": "429nZX2rVYvn",
        "outputId": "6502645c-e2f2-468b-9bbd-e59e6c4bb670"
      },
      "source": [
        "import re\n",
        "import numpy as np\n",
        "import pandas as pd\n",
        "from pprint import pprint\n",
        "import gensim\n",
        "import gensim.corpora as corpora\n",
        "from gensim.utils import simple_preprocess\n",
        "from gensim.models import CoherenceModel\n",
        "import spacy\n",
        "import pyLDAvis\n",
        "import pyLDAvis.gensim  \n",
        "import matplotlib.pyplot as plt\n",
        "%matplotlib inline\n",
        "import logging\n",
        "logging.basicConfig(format='%(asctime)s : %(levelname)s : %(message)s', level=logging.ERROR)\n",
        "import warnings\n",
        "warnings.filterwarnings(\"ignore\",category=DeprecationWarning)"
      ],
      "execution_count": 11,
      "outputs": [
        {
          "output_type": "stream",
          "text": [
            "/usr/local/lib/python3.7/dist-packages/past/types/oldstr.py:5: DeprecationWarning: Using or importing the ABCs from 'collections' instead of from 'collections.abc' is deprecated since Python 3.3,and in 3.9 it will stop working\n",
            "  from collections import Iterable\n"
          ],
          "name": "stderr"
        }
      ]
    },
    {
      "cell_type": "code",
      "metadata": {
        "id": "z2kf_K8GVidN"
      },
      "source": [
        "from nltk.corpus import stopwords\n",
        "stop_words = stopwords.words('english')\n",
        "stop_words.extend(['from', 'subject', 're', 'edu', 'use']) "
      ],
      "execution_count": 13,
      "outputs": []
    },
    {
      "cell_type": "code",
      "metadata": {
        "colab": {
          "base_uri": "https://localhost:8080/"
        },
        "id": "muMTrhqDW00m",
        "outputId": "9072cd77-31b4-467e-f694-aff4f3867c6e"
      },
      "source": [
        "def sent_to_words(sentences):\n",
        "    for sentence in sentences:\n",
        "        yield(gensim.utils.simple_preprocess(str(sentence), deacc=True))  \n",
        "data_words = list(sent_to_words(titles))\n",
        "bigram = gensim.models.Phrases(data_words, min_count=5, threshold=100)\n",
        "bigram_mod = gensim.models.phrases.Phraser(bigram)\n",
        "\n",
        "print(data_words[:1])\n",
        "def remove_stopwords(texts):\n",
        "    return [[word for word in simple_preprocess(str(doc)) if word not in stop_words] for doc in texts]\n",
        "\n",
        "def lemmatization(texts, allowed_postags=['NOUN', 'ADJ', 'VERB', 'ADV']):\n",
        "    \"\"\"https://spacy.io/api/annotation\"\"\"\n",
        "    texts_out = []\n",
        "\n",
        "    for n in texts:\n",
        "\n",
        "        doc = nlp(\" \".join(n)) \n",
        "        texts_out.append([token.lemma_ for token in doc if token.pos_ in allowed_postags])\n",
        "\n",
        "    return texts_out"
      ],
      "execution_count": 20,
      "outputs": [
        {
          "output_type": "stream",
          "text": [
            "[['data', 'streams', 'algorithms', 'and', 'applications']]\n"
          ],
          "name": "stdout"
        }
      ]
    },
    {
      "cell_type": "code",
      "metadata": {
        "colab": {
          "base_uri": "https://localhost:8080/"
        },
        "id": "u8yP1u1HW6An",
        "outputId": "d02b3500-e154-400e-f1df-96519cdfa2c0"
      },
      "source": [
        "def m_bigrams(texts):\n",
        "    return [bigram_mod[doc] for doc in texts]\n",
        "\n",
        "data_words = remove_stopwords(data_words)\n",
        "data_bigrams = m_bigrams(data_words)\n",
        "nlp = spacy.load('en', disable=['parser', 'ner'])\n",
        "data_lem = lemmatization(data_bigrams, allowed_postags=['NOUN', 'ADJ', 'VERB', 'ADV'])\n",
        "\n",
        "print(data_lem[:1])\n",
        "id_word = corpora.Dictionary(data_lem)\n",
        "\n",
        "texts = data_lem\n",
        "corpus = [id_word.doc2bow(text) for text in texts]\n",
        "\n",
        "print(corpus[:1])\n",
        "lda_model = gensim.models.ldamodel.LdaModel(corpus=corpus,\n",
        "                                           id2word=id_word,\n",
        "                                           num_topics=100, \n",
        "                                           random_state=100,\n",
        "                                           update_every=1,\n",
        "                                           chunksize=100,\n",
        "                                           passes=10,\n",
        "                                           alpha='auto',\n",
        "                                           per_word_topics=True)\n",
        "\n",
        "pprint(lda_model.print_topics())\n",
        "doc_lda = lda_model[corpus]"
      ],
      "execution_count": 22,
      "outputs": [
        {
          "output_type": "stream",
          "text": [
            "[[]]\n",
            "[[]]\n"
          ],
          "name": "stdout"
        },
        {
          "output_type": "stream",
          "text": [
            "/usr/local/lib/python3.7/dist-packages/gensim/models/ldamodel.py:1023: RuntimeWarning: divide by zero encountered in log\n",
            "  diff = np.log(self.expElogbeta)\n"
          ],
          "name": "stderr"
        },
        {
          "output_type": "stream",
          "text": [
            "[(36,\n",
            "  '0.003*\"application\" + 0.003*\"various\" + 0.003*\"probe\" + 0.003*\"inspire\" + '\n",
            "  '0.003*\"family\" + 0.003*\"support\" + 0.003*\"optimisation\" + 0.003*\"interface\" '\n",
            "  '+ 0.003*\"course\" + 0.003*\"study\"'),\n",
            " (15,\n",
            "  '0.003*\"application\" + 0.003*\"various\" + 0.003*\"probe\" + 0.003*\"inspire\" + '\n",
            "  '0.003*\"family\" + 0.003*\"support\" + 0.003*\"optimisation\" + 0.003*\"interface\" '\n",
            "  '+ 0.003*\"course\" + 0.003*\"study\"'),\n",
            " (20,\n",
            "  '0.003*\"application\" + 0.003*\"various\" + 0.003*\"probe\" + 0.003*\"inspire\" + '\n",
            "  '0.003*\"family\" + 0.003*\"support\" + 0.003*\"optimisation\" + 0.003*\"interface\" '\n",
            "  '+ 0.003*\"course\" + 0.003*\"study\"'),\n",
            " (7,\n",
            "  '0.003*\"application\" + 0.003*\"various\" + 0.003*\"probe\" + 0.003*\"inspire\" + '\n",
            "  '0.003*\"family\" + 0.003*\"support\" + 0.003*\"optimisation\" + 0.003*\"interface\" '\n",
            "  '+ 0.003*\"course\" + 0.003*\"study\"'),\n",
            " (42,\n",
            "  '0.003*\"application\" + 0.003*\"various\" + 0.003*\"probe\" + 0.003*\"inspire\" + '\n",
            "  '0.003*\"family\" + 0.003*\"support\" + 0.003*\"optimisation\" + 0.003*\"interface\" '\n",
            "  '+ 0.003*\"course\" + 0.003*\"study\"'),\n",
            " (46,\n",
            "  '0.003*\"application\" + 0.003*\"various\" + 0.003*\"probe\" + 0.003*\"inspire\" + '\n",
            "  '0.003*\"family\" + 0.003*\"support\" + 0.003*\"optimisation\" + 0.003*\"interface\" '\n",
            "  '+ 0.003*\"course\" + 0.003*\"study\"'),\n",
            " (43,\n",
            "  '0.003*\"application\" + 0.003*\"various\" + 0.003*\"probe\" + 0.003*\"inspire\" + '\n",
            "  '0.003*\"family\" + 0.003*\"support\" + 0.003*\"optimisation\" + 0.003*\"interface\" '\n",
            "  '+ 0.003*\"course\" + 0.003*\"study\"'),\n",
            " (4,\n",
            "  '0.003*\"application\" + 0.003*\"various\" + 0.003*\"probe\" + 0.003*\"inspire\" + '\n",
            "  '0.003*\"family\" + 0.003*\"support\" + 0.003*\"optimisation\" + 0.003*\"interface\" '\n",
            "  '+ 0.003*\"course\" + 0.003*\"study\"'),\n",
            " (78,\n",
            "  '0.003*\"application\" + 0.003*\"various\" + 0.003*\"probe\" + 0.003*\"inspire\" + '\n",
            "  '0.003*\"family\" + 0.003*\"support\" + 0.003*\"optimisation\" + 0.003*\"interface\" '\n",
            "  '+ 0.003*\"course\" + 0.003*\"study\"'),\n",
            " (65,\n",
            "  '0.003*\"application\" + 0.003*\"various\" + 0.003*\"probe\" + 0.003*\"inspire\" + '\n",
            "  '0.003*\"family\" + 0.003*\"support\" + 0.003*\"optimisation\" + 0.003*\"interface\" '\n",
            "  '+ 0.003*\"course\" + 0.003*\"study\"'),\n",
            " (18,\n",
            "  '0.078*\"knowledge\" + 0.078*\"discovery\" + 0.078*\"system\" + 0.078*\"life\" + '\n",
            "  '0.078*\"decode\" + 0.078*\"new\" + 0.078*\"approach\" + 0.078*\"biology\" + '\n",
            "  '0.078*\"mining\" + 0.078*\"database\"'),\n",
            " (84,\n",
            "  '0.155*\"science\" + 0.155*\"datum\" + 0.155*\"automation\" + 0.155*\"cognitive\" + '\n",
            "  '0.078*\"workshop\" + 0.078*\"web\" + 0.001*\"probe\" + 0.001*\"family\" + '\n",
            "  '0.001*\"course\" + 0.001*\"technology\"'),\n",
            " (68,\n",
            "  '0.155*\"science\" + 0.155*\"foundation\" + 0.155*\"datum\" + 0.078*\"methodology\" '\n",
            "  '+ 0.078*\"outlier\" + 0.078*\"detection\" + 0.078*\"survey\" + 0.001*\"behavior\" + '\n",
            "  '0.001*\"technology\" + 0.001*\"probe\"'),\n",
            " (11,\n",
            "  '0.112*\"science\" + 0.075*\"datum\" + 0.075*\"writing\" + 0.075*\"review\" + '\n",
            "  '0.074*\"peer\" + 0.038*\"example\" + 0.038*\"computing\" + 0.038*\"technique\" + '\n",
            "  '0.038*\"validation\" + 0.038*\"parallel\"'),\n",
            " (53,\n",
            "  '0.119*\"peer\" + 0.060*\"learning\" + 0.060*\"inference\" + 0.060*\"dynamic\" + '\n",
            "  '0.060*\"replication\" + 0.060*\"inspire\" + 0.060*\"family\" + 0.060*\"network\" + '\n",
            "  '0.060*\"technology\" + 0.060*\"search\"'),\n",
            " (57,\n",
            "  '0.072*\"interface\" + 0.072*\"science\" + 0.072*\"rough\" + 0.072*\"set\" + '\n",
            "  '0.072*\"support\" + 0.072*\"software\" + 0.072*\"optimisation\" + 0.072*\"making\" '\n",
            "  '+ 0.072*\"datum\" + 0.072*\"decision\"'),\n",
            " (61,\n",
            "  '0.068*\"science\" + 0.068*\"competence\" + 0.068*\"ground\" + 0.068*\"datum\" + '\n",
            "  '0.068*\"division\" + 0.068*\"local\" + 0.068*\"toolkit\" + 0.068*\"support\" + '\n",
            "  '0.067*\"volunteer\" + 0.067*\"geography\"'),\n",
            " (98,\n",
            "  '0.334*\"science\" + 0.135*\"new\" + 0.068*\"introduction\" + '\n",
            "  '0.068*\"computational\" + 0.068*\"education\" + 0.068*\"vision\" + '\n",
            "  '0.068*\"intensive\" + 0.001*\"support\" + 0.001*\"optimisation\" + '\n",
            "  '0.001*\"family\"'),\n",
            " (89,\n",
            "  '0.081*\"study\" + 0.040*\"design\" + 0.040*\"novice\" + 0.040*\"computation\" + '\n",
            "  '0.040*\"kit\" + 0.040*\"matrix\" + 0.040*\"sparse\" + 0.040*\"version\" + '\n",
            "  '0.040*\"perspective\" + 0.040*\"implementation\"'),\n",
            " (56,\n",
            "  '0.245*\"datum\" + 0.134*\"science\" + 0.067*\"big\" + 0.045*\"analytic\" + '\n",
            "  '0.022*\"original\" + 0.022*\"article\" + 0.022*\"drive\" + 0.022*\"feature\" + '\n",
            "  '0.022*\"relationship\" + 0.022*\"make\"')]\n"
          ],
          "name": "stdout"
        }
      ]
    },
    {
      "cell_type": "markdown",
      "metadata": {
        "id": "ZJIT7XA6eBFf"
      },
      "source": [
        "**Summarization of LDA Topics**\n",
        "\n",
        "The LDA algorithm actually performs more than just text summarization; it also discovers recurring topics in a document collection. \n",
        "By extracting a few topics common to review groups, discover the features of the product.\n",
        "Reorganize pictures based on the topics associated with their description texts.\n",
        "Retrieving defetcts of surveys\n",
        "Retrieving information efficiently using customized linguistics\n",
        "Detecting the common topics in a newspaper helps to identify the journal orientation and the trend of the day.\n",
        "Computer unified assistance for statistical biomedicine architecture\n",
        "Processing medical information using NLP\n",
        "Generating current engineering software models using NLP\n",
        "Base for Art labelling platform technique using NLP\n",
        "\n"
      ]
    },
    {
      "cell_type": "code",
      "metadata": {
        "id": "8vubLqTgZrwm"
      },
      "source": [
        "import os.path\n",
        "from gensim import corpora\n",
        "from gensim.models import LsiModel\n",
        "from nltk.tokenize import RegexpTokenizer\n",
        "from nltk.corpus import stopwords\n",
        "from nltk.stem.porter import PorterStemmer\n",
        "from gensim.models.coherencemodel import CoherenceModel\n",
        "import matplotlib.pyplot as plt"
      ],
      "execution_count": 28,
      "outputs": []
    },
    {
      "cell_type": "code",
      "metadata": {
        "id": "8TtYjEUpa0yC"
      },
      "source": [
        "def preprocess_data(docu_set):\n",
        "    \"\"\"\n",
        "    Input  : docuemnt list\n",
        "    Purpose: preprocess text (tokenize, removing stopwords, and stemming)\n",
        "    Output : preprocessed text\n",
        "    \"\"\"\n",
        "    tokenizer = RegexpTokenizer(r'\\w+')\n",
        "    english_stopwords = set(stopwords.words('english'))\n",
        "    porter_stemmer = PorterStemmer()\n",
        "    texts = []\n",
        "\n",
        "    for i in docu_set:\n",
        "\n",
        "        raw = i.lower()\n",
        "        tokens = tokenizer.tokenize(raw)\n",
        "        stopped_tokens = [i for i in tokens if not i in english_stopwords]\n",
        "        stemmed_tokens = [porter_stemmer.stem(i) for i in stopped_tokens]\n",
        "        texts.append(stemmed_tokens)\n",
        "        \n",
        "    return texts"
      ],
      "execution_count": 31,
      "outputs": []
    },
    {
      "cell_type": "code",
      "metadata": {
        "id": "dMGoVFToa4pC"
      },
      "source": [
        "def prepare_corpus(doc_clean):\n",
        "    \"\"\"\n",
        "    Input  : clean document\n",
        "    Purpose: create term dictionary of our courpus and Converting list of documents (corpus) into Document Term Matrix\n",
        "    Output : term dictionary and Document Term Matrix\n",
        "    \"\"\"\n",
        "    dictionary = corpora.Dictionary(doc_clean)\n",
        "    document_term_matrix = [dictionary.doc2bow(doc) for doc in doc_clean]\n",
        "    return dictionary,document_term_matrix"
      ],
      "execution_count": 32,
      "outputs": []
    },
    {
      "cell_type": "code",
      "metadata": {
        "id": "hvh-hchUa8s2"
      },
      "source": [
        "def create_gensim_lsa_model(doc_clean,number_of_topics,words):\n",
        "    \"\"\"\n",
        "    Input  : clean document, number of topics and number of words associated with each topic\n",
        "    Purpose: create LSA model using gensim\n",
        "    Output : return LSA model\n",
        "    \"\"\"\n",
        "    dictionary,document_term_matrix=prepare_corpus(doc_clean)\n",
        "    lsamodel = LsiModel(document_term_matrix, num_topics=number_of_topics, id2word = dictionary)  \n",
        "    print(lsamodel.print_topics(num_topics=number_of_topics, num_words=words))\n",
        "    return lsamodel"
      ],
      "execution_count": 33,
      "outputs": []
    },
    {
      "cell_type": "code",
      "metadata": {
        "id": "eNZBH2WHbCaI"
      },
      "source": [
        "def compute_coherence(dictionary, document_term_matrix, doc_clean, stop, start=2, step=3):\n",
        "    \"\"\"\n",
        "    Input   : dictionary : Gensim dictionary\n",
        "              corpus : Gensim corpus\n",
        "              texts : List of input texts\n",
        "              stop : Max num of topics\n",
        "    purpose : Compute c_v coherence for various number of topics\n",
        "    Output  : model_list : List of LSA topic models\n",
        "              coherence_values : Coherence values corresponding to the LDA model with respective number of topics\n",
        "    \"\"\"\n",
        "    coherence_values = []\n",
        "    model_list = []\n",
        "\n",
        "    for num_topics in range(start, stop, step):\n",
        "\n",
        "      model = LsiModel(document_term_matrix, num_topics, id2word = dictionary)  # train model\n",
        "      model_list.append(model)\n",
        "      coherencemodel = CoherenceModel(model=model, texts=doc_clean, dictionary=dictionary, coherence='c_v')\n",
        "      coherence_values.append(coherencemodel.get_coherence())\n",
        "      \n",
        "    return model_list, coherence_values"
      ],
      "execution_count": 34,
      "outputs": []
    },
    {
      "cell_type": "code",
      "metadata": {
        "id": "AS2kY5kbbGGW"
      },
      "source": [
        "def graph(doc_clean,start, stop, step):\n",
        "\n",
        "    dictionary,document_term_matrix=prepare_corpus(doc_clean)\n",
        "    model_list, coherence_values = compute_coherence(dictionary, document_term_matrix,doc_clean,stop, start, step)\n",
        "    \n",
        "    x = range(start, stop, step)\n",
        "    plt.plot(x, coherence_values)\n",
        "    plt.xlabel(\"Topics number\")\n",
        "    plt.ylabel(\"Coherence score\")\n",
        "    plt.legend((\"coherence_values\"), loc='best')\n",
        "    plt.show()"
      ],
      "execution_count": 37,
      "outputs": []
    },
    {
      "cell_type": "code",
      "metadata": {
        "colab": {
          "base_uri": "https://localhost:8080/",
          "height": 279
        },
        "id": "shSaIx5kbJze",
        "outputId": "f58ef468-ffaa-4af7-f971-46ae9aaa0532"
      },
      "source": [
        "\n",
        "start,stop,step=2,12,1\n",
        "clean_text=preprocess_data(titles)\n",
        "graph(clean_text,start,stop,step)"
      ],
      "execution_count": 38,
      "outputs": [
        {
          "output_type": "display_data",
          "data": {
            "image/png": "[encoded data removed]",
            "text/plain": [
              "<Figure size 432x288 with 1 Axes>"
            ]
          },
          "metadata": {
            "tags": [],
            "needs_background": "light"
          }
        }
      ]
    },
    {
      "cell_type": "code",
      "metadata": {
        "colab": {
          "base_uri": "https://localhost:8080/"
        },
        "id": "rhM0fjNndJO1",
        "outputId": "c0ec0d1d-fd2e-4b35-f6ff-84d1fa092e0b"
      },
      "source": [
        "num=20\n",
        "words=100\n",
        "text=preprocess_data(titles)\n",
        "model=create_gensim_lsa_model(text,num,words)"
      ],
      "execution_count": 40,
      "outputs": [
        {
          "output_type": "stream",
          "text": [
            "[(0, '0.763*\"data\" + 0.587*\"scienc\" + 0.077*\"big\" + 0.061*\"comput\" + 0.057*\"1\" + 0.056*\"statist\" + 0.051*\"new\" + 0.047*\"educ\" + 0.045*\"peer\" + 0.044*\"earth\" + 0.044*\"write\" + 0.044*\"review\" + 0.036*\"analyt\" + 0.036*\"vision\" + 0.035*\"program\" + 0.035*\"introductori\" + 0.035*\"cours\" + 0.035*\"univers\" + 0.031*\"make\" + 0.031*\"editori\" + 0.030*\"technolog\" + 0.030*\"peopl\" + 0.029*\"autom\" + 0.025*\"analysi\" + 0.025*\"intens\" + 0.025*\"undergradu\" + 0.025*\"georg\" + 0.025*\"mason\" + 0.025*\"student\" + 0.025*\"journal\" + 0.024*\"develop\" + 0.022*\"larg\" + 0.022*\"page\" + 0.022*\"oceanographi\" + 0.022*\"gener\" + 0.022*\"class\" + 0.021*\"decis\" + 0.021*\"relationship\" + 0.021*\"origin\" + 0.021*\"driven\" + 0.021*\"articl\" + 0.020*\"thrust\" + 0.020*\"area\" + 0.020*\"teach\" + 0.020*\"parallel\" + 0.020*\"visual\" + 0.020*\"busi\" + 0.020*\"r\" + 0.020*\"requir\" + 0.020*\"insight\" + 0.020*\"climat\" + 0.019*\"e\" + 0.019*\"toward\" + 0.019*\"cognit\" + 0.019*\"support\" + 0.018*\"foundat\" + 0.016*\"research\" + 0.015*\"discoveri\" + 0.015*\"challeng\" + 0.015*\"opportun\" + 0.015*\"survey\" + 0.015*\"manag\" + 0.015*\"algorithm\" + 0.015*\"xml\" + 0.015*\"okcupid\" + 0.015*\"center\" + 0.015*\"think\" + 0.015*\"prepar\" + 0.015*\"curricula\" + 0.015*\"scientif\" + 0.015*\"publish\" + 0.015*\"object\" + 0.015*\"identifi\" + 0.015*\"digit\" + 0.015*\"2005\" + 0.015*\"perspect\" + 0.015*\"applic\" + 0.015*\"moocdb\" + 0.015*\"standard\" + 0.015*\"mooc\" + 0.011*\"select\" + 0.011*\"network\" + 0.011*\"structur\" + 0.010*\"studi\" + 0.010*\"plan\" + 0.010*\"intel\" + 0.010*\"execut\" + 0.010*\"precursor\" + 0.010*\"second\" + 0.010*\"system\" + 0.010*\"backbon\" + 0.010*\"modern\" + 0.010*\"becam\" + 0.010*\"without\" + 0.010*\"curriculum\" + 0.010*\"cs\" + 0.010*\"non\" + 0.010*\"version\" + 0.010*\"action\" + 0.010*\"extrem\"'), (1, '-0.446*\"peer\" + -0.372*\"earth\" + -0.354*\"write\" + -0.354*\"review\" + -0.221*\"1\" + 0.221*\"data\" + -0.213*\"educ\" + -0.192*\"larg\" + -0.177*\"class\" + -0.177*\"gener\" + -0.177*\"oceanographi\" + -0.177*\"page\" + -0.152*\"scienc\" + 0.107*\"big\" + -0.080*\"new\" + -0.070*\"network\" + 0.054*\"analyt\" + 0.051*\"statist\" + -0.048*\"search\" + 0.046*\"make\" + 0.046*\"editori\" + -0.046*\"unstructur\" + -0.046*\"replic\" + 0.039*\"decis\" + -0.037*\"univers\" + -0.036*\"undergradu\" + -0.036*\"mason\" + -0.036*\"georg\" + -0.036*\"intens\" + 0.035*\"relationship\" + 0.035*\"origin\" + 0.035*\"driven\" + 0.035*\"articl\" + 0.034*\"cours\" + 0.034*\"introductori\" + 0.032*\"select\" + -0.032*\"program\" + 0.031*\"thrust\" + 0.031*\"area\" + 0.029*\"analysi\" + -0.028*\"vision\" + 0.027*\"research\" + 0.026*\"journal\" + 0.024*\"survey\" + 0.024*\"challeng\" + 0.024*\"opportun\" + 0.022*\"structur\" + 0.021*\"student\" + 0.021*\"technolog\" + 0.021*\"develop\" + 0.019*\"algorithm\" + 0.019*\"xml\" + 0.018*\"okcupid\" + -0.018*\"05\" + -0.018*\"p\" + -0.018*\"round\" + 0.018*\"scientif\" + 0.018*\"publish\" + 0.018*\"object\" + 0.018*\"identifi\" + 0.018*\"digit\" + 0.018*\"2005\" + -0.017*\"social\" + 0.017*\"peopl\" + 0.017*\"prepar\" + 0.017*\"think\" + 0.017*\"curricula\" + 0.017*\"busi\" + 0.017*\"visual\" + 0.017*\"perform\" + 0.016*\"manag\" + 0.016*\"optim\" + 0.016*\"express\" + 0.016*\"applic\" + 0.015*\"requir\" + 0.015*\"function\" + 0.015*\"task\" + 0.015*\"ration\" + 0.015*\"mooc\" + 0.015*\"moocdb\" + 0.015*\"standard\" + 0.015*\"discoveri\" + 0.015*\"set\" + -0.015*\"group\" + -0.015*\"growth\" + -0.015*\"format\" + -0.015*\"membership\" + 0.014*\"e\" + 0.014*\"issu\" + 0.014*\"special\" + 0.014*\"imbalanc\" + -0.014*\"evolut\" + 0.014*\"mine\" + 0.014*\"databas\" + 0.013*\"learn\" + 0.013*\"voronoi\" + 0.013*\"diagram\" + 0.013*\"fundament\" + 0.013*\"geometr\" + 0.013*\"autom\"'), (2, '0.415*\"scienc\" + 0.378*\"new\" + -0.345*\"data\" + 0.246*\"comput\" + -0.197*\"peer\" + 0.182*\"program\" + 0.169*\"vision\" + 0.169*\"univers\" + 0.158*\"mason\" + 0.158*\"intens\" + 0.158*\"georg\" + 0.158*\"undergradu\" + -0.148*\"big\" + -0.148*\"earth\" + -0.139*\"review\" + -0.139*\"write\" + 0.103*\"1\" + -0.091*\"analyt\" + 0.089*\"educ\" + -0.080*\"larg\" + -0.079*\"select\" + -0.074*\"editori\" + -0.073*\"decis\" + -0.069*\"make\" + -0.069*\"page\" + -0.069*\"class\" + -0.069*\"oceanographi\" + -0.069*\"gener\" + -0.065*\"structur\" + -0.064*\"articl\" + -0.064*\"relationship\" + -0.064*\"driven\" + -0.064*\"origin\" + 0.062*\"approach\" + -0.053*\"thrust\" + -0.053*\"area\" + -0.052*\"network\" + 0.048*\"parallel\" + -0.046*\"learn\" + 0.044*\"center\" + 0.043*\"system\" + -0.043*\"survey\" + -0.040*\"research\" + -0.038*\"challeng\" + -0.038*\"opportun\" + 0.037*\"perspect\" + -0.036*\"optim\" + -0.035*\"set\" + -0.034*\"ration\" + -0.034*\"task\" + -0.033*\"express\" + 0.033*\"statist\" + 0.033*\"telephon\" + 0.033*\"queue\" + 0.033*\"call\" + 0.033*\"climat\" + 0.033*\"technolog\" + 0.033*\"peopl\" + -0.033*\"search\" + -0.033*\"special\" + -0.033*\"imbalanc\" + -0.033*\"issu\" + 0.032*\"r\" + 0.032*\"teach\" + 0.032*\"version\" + -0.032*\"geometr\" + -0.032*\"diagram\" + -0.032*\"voronoi\" + -0.032*\"fundament\" + 0.032*\"biolog\" + 0.032*\"life\" + 0.032*\"decod\" + 0.031*\"insight\" + 0.031*\"abstract\" + 0.031*\"syntax\" + 0.031*\"variabl\" + 0.031*\"bind\" + -0.030*\"bayesian\" + -0.029*\"unstructur\" + -0.029*\"replic\" + -0.028*\"path\" + -0.028*\"regular\" + -0.028*\"queri\" + -0.028*\"index\" + -0.027*\"journal\" + 0.026*\"matrix\" + -0.025*\"knowledg\" + -0.025*\"databas\" + -0.025*\"mine\" + -0.025*\"function\" + 0.025*\"action\" + 0.025*\"uncertainti\" + 0.025*\"extrem\" + 0.025*\"sparskit\" + 0.025*\"kit\" + 0.025*\"tool\" + 0.025*\"basic\" + 0.025*\"spars\" + 0.025*\"2\" + -0.025*\"2005\"'), (3, '0.419*\"statist\" + 0.269*\"network\" + -0.262*\"studi\" + 0.183*\"cours\" + 0.183*\"introductori\" + 0.181*\"map\" + 0.172*\"discoveri\" + -0.153*\"big\" + 0.153*\"perspect\" + 0.148*\"use\" + -0.146*\"research\" + -0.141*\"design\" + -0.139*\"technolog\" + 0.128*\"analysi\" + 0.127*\"function\" + 0.115*\"threshold\" + 0.115*\"neuroimag\" + 0.115*\"fals\" + 0.115*\"rate\" + -0.110*\"methodolog\" + 0.108*\"social\" + -0.101*\"qualit\" + -0.101*\"novic\" + -0.101*\"implement\" + -0.101*\"case\" + 0.097*\"teach\" + -0.090*\"new\" + 0.083*\"structur\" + 0.082*\"visual\" + -0.080*\"system\" + 0.079*\"precursor\" + 0.079*\"second\" + 0.078*\"queue\" + 0.078*\"telephon\" + 0.078*\"call\" + -0.075*\"analyt\" + 0.072*\"infer\" + -0.070*\"editori\" + 0.066*\"evolut\" + 0.066*\"walk\" + 0.066*\"reveal\" + 0.066*\"random\" + 0.066*\"complex\" + 0.066*\"commun\" + 0.060*\"okcupid\" + -0.060*\"pv\" + -0.060*\"protocol\" + -0.060*\"lifetim\" + -0.060*\"investig\" + -0.060*\"degrad\" + 0.060*\"student\" + -0.058*\"vision\" + 0.056*\"select\" + 0.053*\"membership\" + 0.053*\"growth\" + 0.053*\"format\" + 0.053*\"group\" + 0.051*\"method\" + 0.049*\"peer\" + -0.049*\"data\" + 0.049*\"bayesian\" + 0.048*\"center\" + -0.046*\"1\" + 0.045*\"search\" + -0.045*\"opportun\" + -0.045*\"challeng\" + 0.044*\"becam\" + 0.044*\"modern\" + 0.044*\"backbon\" + 0.044*\"novel\" + 0.044*\"outlin\" + 0.044*\"exercis\" + 0.044*\"scienc\" + 0.042*\"prepar\" + 0.042*\"curricula\" + 0.042*\"think\" + 0.042*\"learn\" + 0.041*\"perform\" + -0.041*\"educ\" + 0.041*\"larg\" + -0.040*\"decis\" + 0.040*\"deliveri\" + 0.040*\"electron\" + 0.039*\"represent\" + 0.039*\"dynam\" + 0.038*\"sensor\" + 0.037*\"replic\" + 0.037*\"unstructur\" + 0.037*\"model\" + 0.037*\"databas\" + 0.037*\"mine\" + -0.035*\"articl\" + -0.035*\"driven\" + -0.035*\"origin\" + -0.035*\"relationship\" + -0.034*\"busi\" + -0.034*\"approach\" + 0.034*\"volcano\" + 0.034*\"monitor\" + 0.034*\"yield\"'), (4, '-0.347*\"studi\" + -0.280*\"peopl\" + 0.255*\"comput\" + -0.227*\"scienc\" + 0.221*\"new\" + -0.197*\"statist\" + -0.190*\"design\" + -0.167*\"technolog\" + 0.161*\"data\" + -0.146*\"methodolog\" + -0.132*\"novic\" + -0.132*\"implement\" + -0.132*\"case\" + -0.132*\"qualit\" + 0.124*\"perform\" + -0.121*\"cours\" + -0.121*\"introductori\" + -0.117*\"research\" + -0.102*\"perspect\" + -0.093*\"dichotomi\" + -0.093*\"viewpoint\" + -0.093*\"emerg\" + 0.091*\"high\" + 0.091*\"univers\" + -0.087*\"center\" + 0.084*\"undergradu\" + 0.084*\"mason\" + 0.084*\"georg\" + 0.084*\"intens\" + 0.083*\"manag\" + -0.083*\"lifetim\" + -0.083*\"pv\" + -0.083*\"protocol\" + -0.083*\"investig\" + -0.083*\"degrad\" + 0.083*\"big\" + 0.081*\"learn\" + 0.078*\"1\" + 0.078*\"program\" + 0.077*\"educ\" + 0.074*\"transfer\" + 0.074*\"grid\" + 0.074*\"environ\" + -0.072*\"visual\" + -0.069*\"call\" + -0.069*\"queue\" + -0.069*\"telephon\" + 0.067*\"version\" + 0.066*\"vision\" + 0.063*\"matrix\" + -0.061*\"system\" + 0.060*\"decis\" + -0.059*\"analysi\" + -0.059*\"teach\" + 0.058*\"select\" + 0.058*\"2\" + 0.058*\"spars\" + 0.058*\"sparskit\" + 0.058*\"tool\" + 0.058*\"kit\" + 0.058*\"basic\" + 0.057*\"network\" + 0.054*\"approach\" + -0.053*\"precursor\" + -0.053*\"second\" + 0.052*\"analyt\" + 0.050*\"driven\" + 0.050*\"articl\" + 0.050*\"origin\" + 0.050*\"relationship\" + 0.049*\"structur\" + 0.049*\"editori\" + -0.046*\"autom\" + -0.039*\"exercis\" + -0.039*\"novel\" + -0.039*\"outlin\" + -0.038*\"use\" + 0.037*\"set\" + -0.037*\"famili\" + -0.037*\"inspir\" + -0.037*\"probe\" + 0.037*\"thrust\" + 0.037*\"area\" + 0.036*\"make\" + 0.034*\"imbalanc\" + 0.034*\"issu\" + 0.034*\"special\" + -0.032*\"threshold\" + -0.032*\"fals\" + -0.032*\"neuroimag\" + -0.032*\"rate\" + 0.032*\"variabl\" + 0.032*\"bind\" + 0.032*\"syntax\" + 0.032*\"abstract\" + 0.031*\"compon\" + 0.031*\"academ\" + 0.031*\"self\" + 0.031*\"regul\" + 0.031*\"classroom\"'), (5, '-0.371*\"studi\" + 0.357*\"peopl\" + -0.341*\"network\" + -0.196*\"design\" + -0.172*\"research\" + -0.172*\"methodolog\" + -0.149*\"qualit\" + -0.149*\"case\" + -0.149*\"implement\" + -0.149*\"novic\" + -0.142*\"technolog\" + -0.124*\"new\" + -0.124*\"map\" + 0.119*\"dichotomi\" + 0.119*\"emerg\" + 0.119*\"viewpoint\" + -0.118*\"structur\" + -0.109*\"social\" + -0.108*\"discoveri\" + -0.105*\"comput\" + -0.102*\"learn\" + -0.100*\"system\" + 0.095*\"scienc\" + -0.083*\"evolut\" + -0.081*\"univers\" + -0.081*\"infer\" + -0.079*\"perform\" + -0.077*\"reveal\" + -0.077*\"commun\" + -0.077*\"walk\" + -0.077*\"random\" + -0.077*\"complex\" + -0.073*\"use\" + -0.072*\"degrad\" + -0.072*\"investig\" + -0.072*\"lifetim\" + -0.072*\"protocol\" + -0.072*\"pv\" + -0.068*\"search\" + -0.068*\"format\" + -0.068*\"group\" + -0.068*\"growth\" + -0.068*\"membership\" + -0.066*\"survey\" + -0.064*\"peer\" + -0.064*\"function\" + -0.064*\"bayesian\" + -0.059*\"vision\" + -0.056*\"dynam\" + -0.056*\"represent\" + -0.052*\"big\" + -0.052*\"sensor\" + -0.051*\"replic\" + -0.051*\"unstructur\" + 0.049*\"autom\" + -0.049*\"larg\" + -0.049*\"select\" + -0.049*\"approach\" + -0.047*\"neuroimag\" + -0.047*\"fals\" + -0.047*\"threshold\" + -0.047*\"rate\" + -0.047*\"high\" + -0.046*\"volcano\" + -0.046*\"fidel\" + -0.046*\"monitor\" + -0.046*\"yield\" + -0.045*\"model\" + -0.044*\"electron\" + -0.044*\"deliveri\" + 0.042*\"earth\" + -0.040*\"method\" + -0.038*\"undergradu\" + -0.038*\"mason\" + -0.038*\"georg\" + -0.038*\"intens\" + -0.038*\"statist\" + 0.037*\"review\" + 0.037*\"write\" + -0.035*\"probe\" + -0.035*\"inspir\" + -0.035*\"famili\" + 0.032*\"toward\" + 0.032*\"cognit\" + -0.032*\"editori\" + 0.030*\"introductori\" + 0.030*\"cours\" + -0.030*\"grid\" + -0.030*\"environ\" + -0.030*\"transfer\" + -0.030*\"program\" + -0.029*\"mine\" + -0.029*\"databas\" + -0.029*\"analyt\" + -0.029*\"decod\" + -0.029*\"life\" + -0.029*\"biolog\" + -0.028*\"classroom\" + -0.028*\"self\" + -0.028*\"academ\"'), (6, '0.648*\"peopl\" + 0.356*\"network\" + 0.216*\"dichotomi\" + 0.216*\"emerg\" + 0.216*\"viewpoint\" + -0.211*\"statist\" + -0.138*\"introductori\" + -0.138*\"cours\" + 0.116*\"social\" + 0.099*\"learn\" + 0.095*\"structur\" + 0.090*\"evolut\" + 0.077*\"format\" + 0.077*\"group\" + 0.077*\"growth\" + 0.077*\"membership\" + -0.075*\"teach\" + 0.072*\"random\" + 0.072*\"reveal\" + 0.072*\"commun\" + 0.072*\"complex\" + 0.072*\"walk\" + 0.068*\"search\" + 0.066*\"infer\" + 0.063*\"univers\" + -0.062*\"earth\" + -0.061*\"analysi\" + -0.060*\"visual\" + 0.060*\"sensor\" + 0.059*\"bayesian\" + 0.058*\"dynam\" + 0.058*\"represent\" + -0.056*\"second\" + -0.056*\"precursor\" + -0.055*\"review\" + -0.055*\"write\" + 0.054*\"map\" + 0.053*\"model\" + 0.052*\"new\" + 0.052*\"replic\" + 0.052*\"unstructur\" + 0.052*\"yield\" + 0.052*\"fidel\" + 0.052*\"volcano\" + 0.052*\"monitor\" + 0.050*\"peer\" + 0.049*\"larg\" + -0.047*\"center\" + -0.046*\"student\" + 0.045*\"deliveri\" + 0.045*\"electron\" + -0.044*\"okcupid\" + -0.042*\"queue\" + -0.042*\"telephon\" + -0.042*\"call\" + -0.041*\"perspect\" + 0.038*\"perform\" + -0.038*\"exercis\" + -0.038*\"outlin\" + -0.038*\"novel\" + 0.032*\"discoveri\" + 0.031*\"editori\" + -0.028*\"prepar\" + -0.028*\"curricula\" + -0.028*\"think\" + -0.028*\"page\" + -0.028*\"class\" + -0.028*\"gener\" + -0.028*\"oceanographi\" + 0.025*\"high\" + 0.024*\"predict\" + -0.024*\"becam\" + -0.024*\"backbon\" + -0.024*\"modern\" + 0.023*\"compon\" + 0.023*\"academ\" + 0.023*\"self\" + 0.023*\"regul\" + 0.023*\"motiv\" + 0.023*\"classroom\" + -0.021*\"parallel\" + 0.020*\"set\" + -0.018*\"rate\" + -0.018*\"threshold\" + -0.018*\"neuroimag\" + -0.018*\"fals\" + -0.018*\"cs\" + -0.018*\"curriculum\" + -0.018*\"without\" + -0.018*\"non\" + 0.018*\"imbalanc\" + 0.018*\"issu\" + 0.018*\"special\" + 0.018*\"undergradu\" + 0.018*\"mason\" + 0.018*\"georg\" + 0.018*\"intens\" + -0.017*\"requir\" + 0.017*\"valid\" + 0.017*\"approach\"'), (7, '0.297*\"model\" + -0.279*\"comput\" + 0.229*\"perspect\" + 0.190*\"social\" + -0.188*\"peopl\" + 0.176*\"select\" + 0.162*\"make\" + -0.159*\"statist\" + 0.129*\"analysi\" + 0.126*\"gender\" + 0.121*\"evolut\" + -0.120*\"version\" + -0.117*\"perform\" + 0.110*\"scienc\" + 0.107*\"valid\" + -0.107*\"matrix\" + 0.107*\"network\" + -0.106*\"manag\" + 0.106*\"divers\" + 0.106*\"let\" + 0.106*\"prioriti\" + 0.106*\"right\" + 0.106*\"aposs\" + 0.106*\"start\" + -0.104*\"high\" + -0.101*\"studi\" + 0.096*\"empir\" + 0.096*\"tcp\" + 0.096*\"simpl\" + 0.096*\"throughput\" + -0.095*\"2\" + -0.095*\"basic\" + -0.095*\"kit\" + -0.095*\"spars\" + -0.095*\"sparskit\" + -0.095*\"tool\" + -0.092*\"cours\" + -0.092*\"introductori\" + 0.091*\"big\" + 0.085*\"center\" + 0.083*\"predict\" + -0.082*\"use\" + -0.081*\"environ\" + -0.081*\"grid\" + -0.081*\"transfer\" + -0.075*\"function\" + -0.067*\"survey\" + 0.066*\"health\" + 0.066*\"well\" + 0.066*\"illus\" + 0.066*\"psycholog\" + 0.066*\"mental\" + -0.066*\"data\" + -0.064*\"methodolog\" + 0.064*\"format\" + 0.064*\"membership\" + 0.064*\"group\" + 0.064*\"growth\" + 0.063*\"softwar\" + -0.063*\"viewpoint\" + -0.063*\"emerg\" + -0.063*\"dichotomi\" + -0.060*\"discoveri\" + -0.059*\"threshold\" + -0.059*\"fals\" + -0.059*\"rate\" + -0.059*\"neuroimag\" + 0.058*\"ecolog\" + 0.058*\"optim\" + -0.057*\"map\" + 0.056*\"decis\" + 0.053*\"vision\" + 0.053*\"media\" + -0.052*\"design\" + 0.051*\"ration\" + 0.051*\"task\" + -0.050*\"implement\" + -0.050*\"novic\" + -0.050*\"qualit\" + -0.050*\"case\" + -0.049*\"teach\" + 0.048*\"critiqu\" + 0.048*\"defect\" + -0.047*\"modern\" + -0.047*\"backbon\" + -0.047*\"becam\" + 0.047*\"telephon\" + 0.047*\"queue\" + 0.047*\"call\" + 0.047*\"new\" + -0.047*\"research\" + 0.046*\"larg\" + 0.046*\"theori\" + -0.046*\"method\" + 0.045*\"autom\" + -0.044*\"parallel\" + 0.043*\"requir\" + 0.043*\"technolog\" + -0.039*\"earth\" + -0.039*\"express\"'), (8, '0.454*\"model\" + 0.344*\"select\" + 0.248*\"comput\" + -0.208*\"network\" + 0.182*\"analysi\" + 0.170*\"valid\" + 0.160*\"peopl\" + 0.153*\"perform\" + 0.152*\"empir\" + 0.152*\"throughput\" + 0.152*\"simpl\" + 0.152*\"tcp\" + 0.126*\"optim\" + 0.114*\"version\" + 0.112*\"ration\" + 0.112*\"task\" + 0.102*\"matrix\" + 0.101*\"studi\" + 0.100*\"manag\" + 0.093*\"high\" + 0.091*\"tool\" + 0.091*\"spars\" + 0.091*\"basic\" + 0.091*\"sparskit\" + 0.091*\"2\" + 0.091*\"kit\" + 0.085*\"ecolog\" + -0.081*\"busi\" + 0.077*\"grid\" + 0.077*\"transfer\" + 0.077*\"environ\" + -0.076*\"big\" + -0.075*\"scienc\" + 0.073*\"predict\" + 0.073*\"statist\" + -0.072*\"structur\" + 0.071*\"perspect\" + -0.070*\"map\" + 0.067*\"softwar\" + 0.065*\"defect\" + 0.065*\"critiqu\" + 0.065*\"evolut\" + -0.064*\"editori\" + -0.057*\"random\" + -0.057*\"reveal\" + -0.057*\"walk\" + -0.057*\"complex\" + -0.057*\"commun\" + -0.055*\"journal\" + 0.053*\"viewpoint\" + 0.053*\"emerg\" + 0.053*\"dichotomi\" + -0.053*\"autom\" + 0.052*\"design\" + 0.051*\"methodolog\" + -0.050*\"univers\" + -0.047*\"discoveri\" + 0.047*\"case\" + 0.047*\"implement\" + 0.047*\"novic\" + 0.047*\"qualit\" + 0.046*\"earth\" + -0.045*\"infer\" + -0.041*\"sensor\" + 0.041*\"write\" + 0.041*\"review\" + -0.041*\"comment\" + -0.041*\"editor\" + -0.041*\"guest\" + -0.039*\"electron\" + -0.039*\"deliveri\" + -0.035*\"new\" + -0.035*\"yield\" + -0.035*\"volcano\" + -0.035*\"fidel\" + -0.035*\"monitor\" + -0.034*\"cognit\" + -0.034*\"toward\" + 0.034*\"natur\" + 0.034*\"backbon\" + 0.034*\"becam\" + 0.034*\"modern\" + 0.033*\"queue\" + 0.033*\"call\" + 0.033*\"telephon\" + 0.032*\"uncertainti\" + 0.032*\"action\" + 0.032*\"extrem\" + -0.030*\"vision\" + -0.030*\"represent\" + -0.030*\"dynam\" + 0.030*\"research\" + 0.030*\"invest\" + 0.029*\"databas\" + 0.029*\"mine\" + 0.029*\"compon\" + 0.029*\"academ\" + 0.029*\"regul\" + 0.029*\"self\" + 0.029*\"motiv\"'), (9, '0.349*\"perspect\" + -0.260*\"model\" + 0.222*\"make\" + 0.221*\"perform\" + -0.203*\"survey\" + 0.177*\"gender\" + 0.166*\"comput\" + -0.152*\"select\" + 0.149*\"start\" + 0.149*\"right\" + 0.149*\"prioriti\" + 0.149*\"let\" + 0.149*\"divers\" + 0.149*\"aposs\" + -0.142*\"visual\" + -0.127*\"new\" + 0.122*\"social\" + -0.113*\"method\" + -0.104*\"valid\" + -0.103*\"express\" + 0.092*\"version\" + 0.092*\"manag\" + 0.091*\"high\" + -0.089*\"tcp\" + -0.089*\"simpl\" + -0.089*\"empir\" + -0.089*\"throughput\" + -0.085*\"structur\" + -0.080*\"affect\" + -0.080*\"audio\" + -0.080*\"recognit\" + -0.080*\"spontan\" + 0.079*\"mental\" + 0.079*\"health\" + 0.079*\"illus\" + 0.079*\"psycholog\" + 0.079*\"well\" + 0.075*\"matrix\" + 0.075*\"mine\" + 0.075*\"databas\" + -0.074*\"introductori\" + -0.074*\"cours\" + 0.073*\"decis\" + 0.072*\"center\" + 0.067*\"spars\" + 0.067*\"tool\" + 0.067*\"basic\" + 0.067*\"kit\" + 0.067*\"sparskit\" + 0.067*\"2\" + 0.066*\"transfer\" + 0.066*\"grid\" + 0.066*\"environ\" + -0.064*\"algorithm\" + 0.058*\"learn\" + 0.056*\"call\" + 0.056*\"queue\" + 0.056*\"telephon\" + 0.056*\"self\" + 0.056*\"classroom\" + 0.056*\"motiv\" + 0.056*\"academ\" + 0.056*\"regul\" + 0.056*\"compon\" + -0.055*\"program\" + -0.052*\"optim\" + -0.051*\"use\" + -0.049*\"approach\" + -0.049*\"univers\" + -0.047*\"softwar\" + -0.047*\"voronoi\" + -0.047*\"diagram\" + -0.047*\"geometr\" + -0.047*\"fundament\" + 0.047*\"theori\" + -0.046*\"ration\" + -0.046*\"task\" + -0.044*\"ecolog\" + 0.044*\"invest\" + 0.043*\"big\" + -0.043*\"cluster\" + -0.042*\"1\" + -0.042*\"map\" + -0.039*\"data\" + -0.039*\"undergradu\" + -0.039*\"mason\" + -0.039*\"georg\" + -0.039*\"intens\" + -0.037*\"outlin\" + -0.037*\"exercis\" + -0.037*\"novel\" + -0.037*\"critiqu\" + -0.037*\"defect\" + 0.037*\"statu\" + 0.037*\"quo\" + 0.037*\"bia\" + 0.036*\"relationship\" + 0.036*\"driven\" + 0.036*\"origin\" + 0.036*\"articl\"'), (10, '0.258*\"new\" + 0.192*\"survey\" + -0.187*\"busi\" + 0.186*\"peopl\" + -0.184*\"model\" + 0.180*\"make\" + -0.166*\"network\" + -0.159*\"scienc\" + 0.148*\"perspect\" + 0.143*\"analysi\" + -0.140*\"autom\" + 0.133*\"big\" + -0.130*\"journal\" + 0.129*\"method\" + 0.125*\"select\" + 0.113*\"visual\" + 0.113*\"approach\" + 0.112*\"express\" + 0.109*\"decis\" + -0.101*\"editori\" + 0.096*\"vision\" + -0.094*\"comment\" + -0.094*\"guest\" + -0.094*\"editor\" + 0.093*\"use\" + 0.090*\"educ\" + -0.090*\"cognit\" + -0.090*\"toward\" + 0.085*\"1\" + 0.085*\"audio\" + 0.085*\"spontan\" + 0.085*\"affect\" + 0.085*\"recognit\" + -0.084*\"climat\" + 0.083*\"gender\" + -0.079*\"insight\" + -0.078*\"version\" + -0.075*\"valid\" + 0.073*\"undergradu\" + 0.073*\"georg\" + 0.073*\"mason\" + 0.073*\"intens\" + -0.071*\"comput\" + 0.071*\"right\" + 0.071*\"let\" + 0.071*\"prioriti\" + 0.071*\"start\" + 0.071*\"divers\" + 0.071*\"aposs\" + 0.070*\"articl\" + 0.070*\"origin\" + 0.070*\"relationship\" + 0.070*\"driven\" + 0.069*\"optim\" + 0.069*\"statist\" + -0.068*\"throughput\" + -0.068*\"simpl\" + -0.068*\"tcp\" + -0.068*\"empir\" + 0.065*\"function\" + 0.064*\"data\" + -0.062*\"softwar\" + 0.062*\"task\" + 0.062*\"ration\" + 0.062*\"emerg\" + 0.062*\"dichotomi\" + 0.062*\"viewpoint\" + -0.060*\"r\" + -0.058*\"evolut\" + -0.058*\"parallel\" + 0.058*\"center\" + 0.057*\"abstract\" + 0.057*\"bind\" + 0.057*\"syntax\" + 0.057*\"variabl\" + 0.056*\"life\" + 0.056*\"decod\" + 0.056*\"biolog\" + -0.055*\"support\" + 0.055*\"univers\" + 0.053*\"discoveri\" + -0.052*\"develop\" + -0.051*\"matrix\" + -0.050*\"workshop\" + -0.050*\"icml\" + -0.050*\"automl\" + -0.050*\"2014\" + -0.050*\"featur\" + -0.050*\"endeavor\" + -0.050*\"deep\" + -0.050*\"synthesi\" + -0.050*\"search\" + 0.049*\"structur\" + 0.048*\"neuroimag\" + 0.048*\"threshold\" + 0.048*\"fals\" + 0.048*\"rate\" + 0.048*\"program\" + -0.048*\"predict\" + 0.047*\"diagram\"'), (11, '-0.418*\"survey\" + -0.273*\"visual\" + 0.222*\"statist\" + -0.218*\"method\" + -0.211*\"express\" + -0.178*\"recognit\" + -0.178*\"audio\" + -0.178*\"affect\" + -0.178*\"spontan\" + 0.137*\"discoveri\" + -0.136*\"algorithm\" + 0.132*\"new\" + 0.131*\"big\" + 0.114*\"function\" + -0.107*\"scienc\" + 0.105*\"map\" + 0.102*\"neuroimag\" + 0.102*\"rate\" + 0.102*\"fals\" + 0.102*\"threshold\" + -0.088*\"perspect\" + 0.086*\"peopl\" + -0.081*\"social\" + -0.079*\"autom\" + -0.078*\"e\" + 0.078*\"editori\" + -0.075*\"version\" + 0.075*\"analyt\" + -0.074*\"comput\" + 0.071*\"model\" + -0.065*\"voronoi\" + -0.065*\"fundament\" + -0.065*\"diagram\" + -0.065*\"geometr\" + -0.065*\"requir\" + -0.065*\"cluster\" + -0.064*\"perform\" + 0.063*\"approach\" + 0.062*\"use\" + 0.059*\"vision\" + -0.059*\"proven\" + -0.059*\"demand\" + -0.059*\"explor\" + -0.059*\"formal\" + 0.058*\"data\" + 0.057*\"student\" + -0.056*\"climat\" + -0.056*\"gender\" + -0.056*\"outlier\" + -0.056*\"detect\" + -0.055*\"xml\" + -0.054*\"matrix\" + -0.054*\"infer\" + 0.053*\"research\" + 0.052*\"program\" + -0.052*\"insight\" + 0.051*\"teach\" + -0.051*\"toward\" + -0.051*\"cognit\" + -0.051*\"manag\" + -0.050*\"structur\" + 0.050*\"select\" + -0.047*\"kit\" + -0.047*\"tool\" + -0.047*\"basic\" + -0.047*\"spars\" + -0.047*\"sparskit\" + -0.047*\"2\" + 0.046*\"univers\" + -0.045*\"divers\" + -0.045*\"start\" + -0.045*\"right\" + -0.045*\"prioriti\" + -0.045*\"let\" + -0.045*\"aposs\" + -0.045*\"methodolog\" + 0.045*\"decis\" + -0.043*\"incomplet\" + -0.043*\"imput\" + -0.043*\"polit\" + -0.043*\"analyz\" + -0.043*\"altern\" + -0.043*\"multipl\" + -0.042*\"r\" + 0.042*\"opportun\" + 0.042*\"challeng\" + 0.041*\"educ\" + -0.040*\"analysi\" + -0.040*\"mont\" + -0.040*\"markov\" + -0.040*\"probabilist\" + -0.040*\"chain\" + -0.040*\"carlo\" + 0.040*\"curricula\" + 0.040*\"prepar\" + 0.040*\"think\" + -0.039*\"network\" + 0.039*\"articl\" + 0.039*\"driven\" + 0.039*\"origin\"'), (12, '-0.362*\"busi\" + -0.294*\"editori\" + -0.249*\"learn\" + -0.231*\"journal\" + -0.219*\"perform\" + -0.181*\"guest\" + -0.181*\"comment\" + -0.181*\"editor\" + -0.170*\"analysi\" + -0.161*\"select\" + 0.125*\"big\" + -0.122*\"classroom\" + -0.122*\"academ\" + -0.122*\"motiv\" + -0.122*\"compon\" + -0.122*\"regul\" + -0.122*\"self\" + 0.121*\"technolog\" + 0.109*\"make\" + 0.109*\"model\" + -0.101*\"set\" + 0.099*\"decis\" + 0.096*\"comput\" + -0.091*\"perspect\" + -0.090*\"imbalanc\" + -0.090*\"issu\" + -0.090*\"special\" + 0.081*\"version\" + -0.081*\"new\" + -0.079*\"optim\" + 0.077*\"structur\" + -0.076*\"visual\" + 0.075*\"matrix\" + 0.071*\"r\" + 0.070*\"network\" + -0.069*\"task\" + -0.069*\"ration\" + 0.068*\"origin\" + 0.068*\"articl\" + 0.068*\"driven\" + 0.068*\"relationship\" + 0.067*\"map\" + 0.066*\"sparskit\" + 0.066*\"spars\" + 0.066*\"tool\" + 0.066*\"kit\" + 0.066*\"basic\" + 0.066*\"2\" + -0.064*\"invest\" + 0.058*\"xml\" + -0.057*\"bayesian\" + -0.056*\"infer\" + 0.054*\"valid\" + -0.050*\"2005\" + -0.050*\"digit\" + -0.050*\"identifi\" + -0.050*\"object\" + -0.050*\"scientif\" + -0.050*\"publish\" + -0.050*\"research\" + 0.046*\"throughput\" + 0.046*\"simpl\" + 0.046*\"empir\" + 0.046*\"tcp\" + 0.044*\"web\" + 0.044*\"book\" + 0.044*\"deborah\" + 0.044*\"nolan\" + 0.044*\"commun\" + 0.044*\"walk\" + 0.044*\"reveal\" + 0.044*\"complex\" + 0.044*\"random\" + -0.043*\"databas\" + -0.043*\"mine\" + -0.043*\"call\" + -0.043*\"queue\" + -0.043*\"telephon\" + -0.041*\"behavior\" + -0.041*\"investor\" + -0.041*\"variou\" + -0.040*\"method\" + 0.040*\"climat\" + 0.040*\"insight\" + 0.039*\"execut\" + 0.039*\"intel\" + 0.039*\"plan\" + -0.038*\"explor\" + -0.038*\"formal\" + -0.038*\"demand\" + -0.037*\"dynam\" + -0.037*\"represent\" + 0.037*\"function\" + -0.036*\"approach\" + 0.035*\"parallel\" + -0.033*\"studi\" + 0.033*\"discoveri\" + -0.032*\"1\" + -0.031*\"methodolog\" + 0.030*\"statu\"'), (13, '0.422*\"select\" + -0.322*\"model\" + 0.317*\"analysi\" + 0.205*\"optim\" + 0.178*\"task\" + 0.178*\"ration\" + -0.165*\"valid\" + -0.140*\"simpl\" + -0.140*\"throughput\" + -0.140*\"tcp\" + -0.140*\"empir\" + -0.135*\"make\" + -0.127*\"survey\" + -0.127*\"use\" + 0.124*\"network\" + -0.115*\"busi\" + -0.105*\"method\" + -0.103*\"editori\" + 0.102*\"technolog\" + -0.094*\"gender\" + -0.091*\"perform\" + -0.078*\"discoveri\" + -0.078*\"right\" + -0.078*\"prioriti\" + -0.078*\"start\" + -0.078*\"aposs\" + -0.078*\"let\" + -0.078*\"divers\" + -0.076*\"perspect\" + -0.076*\"function\" + -0.069*\"softwar\" + 0.069*\"requir\" + -0.069*\"journal\" + -0.067*\"threshold\" + -0.067*\"fals\" + -0.067*\"rate\" + -0.067*\"neuroimag\" + 0.066*\"center\" + -0.066*\"predict\" + 0.062*\"explor\" + 0.062*\"formal\" + 0.062*\"demand\" + -0.060*\"markov\" + -0.060*\"carlo\" + -0.060*\"chain\" + -0.060*\"probabilist\" + -0.060*\"mont\" + 0.059*\"evolut\" + -0.059*\"defect\" + -0.059*\"critiqu\" + -0.059*\"map\" + -0.059*\"learn\" + -0.057*\"decis\" + -0.057*\"guest\" + -0.057*\"comment\" + -0.057*\"editor\" + -0.052*\"infer\" + 0.048*\"natur\" + 0.047*\"r\" + 0.047*\"search\" + -0.047*\"statist\" + -0.046*\"cluster\" + 0.046*\"bayesian\" + -0.045*\"audio\" + -0.045*\"affect\" + -0.045*\"recognit\" + -0.045*\"spontan\" + -0.044*\"express\" + -0.044*\"mine\" + -0.044*\"databas\" + -0.043*\"methodolog\" + -0.042*\"algorithm\" + 0.041*\"growth\" + 0.041*\"group\" + 0.041*\"membership\" + 0.041*\"format\" + 0.041*\"peer\" + -0.040*\"motiv\" + -0.040*\"academ\" + -0.040*\"regul\" + -0.040*\"classroom\" + -0.040*\"self\" + -0.040*\"compon\" + -0.040*\"research\" + 0.039*\"queue\" + 0.039*\"telephon\" + 0.039*\"call\" + 0.035*\"xml\" + 0.034*\"book\" + 0.034*\"deborah\" + 0.034*\"web\" + 0.034*\"nolan\" + -0.033*\"new\" + 0.033*\"global\" + 0.033*\"sensor\" + 0.033*\"unstructur\" + 0.033*\"replic\" + 0.031*\"autom\" + -0.030*\"set\" + -0.030*\"1\"'), (14, '-0.298*\"perform\" + -0.290*\"technolog\" + 0.211*\"busi\" + -0.209*\"learn\" + 0.152*\"journal\" + -0.151*\"academ\" + -0.151*\"classroom\" + -0.151*\"compon\" + -0.151*\"self\" + -0.151*\"motiv\" + -0.151*\"regul\" + -0.122*\"xml\" + 0.121*\"matrix\" + 0.118*\"version\" + 0.112*\"comput\" + -0.112*\"invest\" + 0.111*\"editori\" + 0.108*\"social\" + 0.105*\"guest\" + 0.105*\"comment\" + 0.105*\"editor\" + 0.105*\"spars\" + 0.105*\"sparskit\" + 0.105*\"2\" + 0.105*\"basic\" + 0.105*\"kit\" + 0.105*\"tool\" + 0.100*\"methodolog\" + -0.099*\"r\" + 0.099*\"research\" + -0.098*\"book\" + -0.098*\"web\" + -0.098*\"nolan\" + -0.098*\"deborah\" + -0.093*\"high\" + 0.092*\"select\" + -0.092*\"center\" + 0.088*\"studi\" + -0.086*\"plan\" + -0.086*\"intel\" + -0.086*\"execut\" + -0.079*\"system\" + 0.078*\"novic\" + 0.078*\"implement\" + 0.078*\"qualit\" + 0.078*\"case\" + -0.077*\"big\" + 0.075*\"make\" + -0.074*\"model\" + -0.072*\"vision\" + -0.068*\"lifetim\" + -0.068*\"investig\" + -0.068*\"degrad\" + -0.068*\"protocol\" + -0.068*\"pv\" + 0.067*\"gender\" + -0.065*\"search\" + -0.064*\"investor\" + -0.064*\"behavior\" + -0.064*\"variou\" + 0.062*\"survey\" + 0.060*\"structur\" + -0.060*\"infer\" + 0.051*\"right\" + 0.051*\"prioriti\" + 0.051*\"let\" + 0.051*\"start\" + 0.051*\"divers\" + 0.051*\"aposs\" + -0.047*\"rel\" + -0.047*\"mexico\" + -0.047*\"maquiladora\" + -0.047*\"foreign\" + -0.047*\"direct\" + -0.047*\"evid\" + -0.047*\"wage\" + -0.047*\"nearest\" + -0.047*\"effici\" + -0.047*\"neighbor\" + -0.047*\"approxim\" + -0.047*\"space\" + -0.047*\"dimension\" + 0.046*\"publish\" + 0.046*\"object\" + 0.046*\"identifi\" + 0.046*\"2005\" + 0.046*\"scientif\" + 0.046*\"digit\" + -0.046*\"grid\" + -0.046*\"environ\" + -0.046*\"transfer\" + -0.045*\"autom\" + 0.043*\"perspect\" + -0.043*\"mine\" + -0.043*\"databas\" + -0.043*\"represent\" + -0.043*\"dynam\" + 0.043*\"optim\" + 0.043*\"design\" + -0.042*\"bayesian\"'), (15, '0.273*\"technolog\" + 0.209*\"use\" + -0.208*\"introductori\" + -0.208*\"cours\" + 0.195*\"busi\" + -0.173*\"teach\" + 0.159*\"center\" + 0.127*\"method\" + 0.126*\"big\" + -0.124*\"student\" + 0.120*\"map\" + -0.118*\"social\" + 0.118*\"editori\" + -0.117*\"program\" + 0.114*\"discoveri\" + 0.110*\"function\" + 0.107*\"journal\" + 0.106*\"rate\" + 0.106*\"threshold\" + 0.106*\"fals\" + 0.106*\"neuroimag\" + 0.106*\"infer\" + -0.104*\"studi\" + 0.103*\"analysi\" + 0.103*\"probabilist\" + 0.103*\"chain\" + 0.103*\"carlo\" + 0.103*\"mont\" + 0.103*\"markov\" + 0.102*\"r\" + 0.102*\"xml\" + 0.100*\"plan\" + 0.100*\"intel\" + 0.100*\"execut\" + 0.097*\"guest\" + 0.097*\"editor\" + 0.097*\"comment\" + -0.093*\"cs\" + -0.093*\"curriculum\" + -0.093*\"non\" + -0.093*\"without\" + 0.091*\"version\" + 0.090*\"web\" + 0.090*\"nolan\" + 0.090*\"deborah\" + 0.090*\"book\" + -0.088*\"methodolog\" + 0.087*\"matrix\" + -0.086*\"new\" + -0.081*\"parallel\" + -0.080*\"perform\" + -0.079*\"second\" + -0.079*\"precursor\" + 0.077*\"vision\" + -0.075*\"novic\" + -0.075*\"implement\" + -0.075*\"case\" + -0.075*\"qualit\" + 0.075*\"basic\" + 0.075*\"2\" + 0.075*\"tool\" + 0.075*\"kit\" + 0.075*\"sparskit\" + 0.075*\"spars\" + -0.075*\"data\" + 0.074*\"scienc\" + 0.071*\"comput\" + -0.070*\"novel\" + -0.070*\"exercis\" + -0.070*\"outlin\" + -0.064*\"network\" + 0.058*\"queue\" + 0.058*\"call\" + 0.058*\"telephon\" + -0.058*\"okcupid\" + -0.058*\"research\" + -0.056*\"high\" + 0.055*\"select\" + -0.052*\"search\" + -0.050*\"group\" + -0.050*\"format\" + -0.050*\"growth\" + -0.050*\"membership\" + -0.048*\"algorithm\" + -0.047*\"evolut\" + 0.046*\"lifetim\" + 0.046*\"degrad\" + 0.046*\"protocol\" + 0.046*\"pv\" + 0.046*\"investig\" + -0.045*\"design\" + 0.043*\"requir\" + -0.042*\"media\" + -0.038*\"approach\" + -0.037*\"larg\" + 0.036*\"inspir\" + 0.036*\"famili\" + 0.036*\"probe\" + 0.036*\"express\" + 0.034*\"e\"'), (16, '0.278*\"autom\" + -0.199*\"big\" + -0.197*\"introductori\" + -0.197*\"cours\" + -0.183*\"technolog\" + 0.177*\"cognit\" + 0.177*\"toward\" + -0.177*\"social\" + 0.145*\"select\" + 0.143*\"discoveri\" + -0.142*\"visual\" + -0.137*\"busi\" + -0.134*\"editori\" + 0.117*\"map\" + 0.114*\"use\" + 0.112*\"algorithm\" + 0.104*\"function\" + -0.102*\"teach\" + 0.101*\"icml\" + 0.101*\"automl\" + 0.101*\"2014\" + 0.101*\"workshop\" + 0.101*\"deep\" + 0.101*\"synthesi\" + 0.101*\"featur\" + 0.101*\"endeavor\" + -0.097*\"center\" + 0.085*\"perform\" + -0.083*\"plan\" + -0.083*\"intel\" + -0.083*\"execut\" + 0.082*\"threshold\" + 0.082*\"neuroimag\" + 0.082*\"rate\" + 0.082*\"fals\" + -0.082*\"vision\" + -0.082*\"xml\" + -0.079*\"novel\" + -0.079*\"exercis\" + -0.079*\"outlin\" + 0.075*\"studi\" + -0.075*\"express\" + 0.073*\"structur\" + -0.072*\"r\" + 0.072*\"optim\" + -0.071*\"membership\" + -0.071*\"growth\" + -0.071*\"group\" + -0.071*\"format\" + -0.071*\"second\" + -0.071*\"precursor\" + 0.070*\"develop\" + -0.069*\"analyt\" + -0.069*\"comment\" + -0.069*\"editor\" + -0.069*\"guest\" + -0.068*\"larg\" + -0.067*\"matrix\" + -0.064*\"evolut\" + -0.063*\"journal\" + -0.062*\"statist\" + 0.060*\"ration\" + 0.060*\"task\" + 0.058*\"databas\" + 0.058*\"mine\" + -0.058*\"2\" + -0.058*\"tool\" + -0.058*\"sparskit\" + -0.058*\"basic\" + -0.058*\"spars\" + -0.058*\"kit\" + -0.057*\"peopl\" + -0.055*\"deborah\" + -0.055*\"book\" + -0.055*\"web\" + -0.055*\"nolan\" + 0.055*\"incomplet\" + 0.055*\"altern\" + 0.055*\"multipl\" + 0.055*\"analyz\" + 0.055*\"polit\" + 0.055*\"imput\" + -0.055*\"version\" + -0.055*\"comput\" + 0.054*\"climat\" + 0.054*\"insight\" + 0.053*\"methodolog\" + 0.050*\"support\" + -0.050*\"network\" + -0.049*\"spontan\" + -0.049*\"recognit\" + -0.049*\"audio\" + -0.049*\"affect\" + -0.048*\"parallel\" + 0.047*\"implement\" + 0.047*\"case\" + 0.047*\"novic\" + 0.047*\"qualit\" + 0.047*\"applic\" + -0.047*\"okcupid\"'), (17, '-0.330*\"social\" + 0.323*\"search\" + 0.222*\"high\" + 0.202*\"effici\" + 0.202*\"neighbor\" + 0.202*\"approxim\" + 0.202*\"dimension\" + 0.202*\"space\" + 0.202*\"nearest\" + 0.197*\"peer\" + -0.143*\"media\" + 0.136*\"make\" + 0.121*\"unstructur\" + 0.121*\"replic\" + -0.120*\"larg\" + 0.107*\"busi\" + -0.099*\"evolut\" + -0.097*\"format\" + -0.097*\"group\" + -0.097*\"growth\" + -0.097*\"membership\" + 0.092*\"network\" + -0.091*\"health\" + -0.091*\"well\" + -0.091*\"illus\" + -0.091*\"psycholog\" + -0.091*\"mental\" + -0.090*\"predict\" + 0.085*\"gender\" + -0.084*\"tie\" + -0.084*\"strength\" + 0.079*\"divers\" + 0.079*\"right\" + 0.079*\"prioriti\" + 0.079*\"let\" + 0.079*\"start\" + 0.079*\"aposs\" + -0.076*\"1\" + 0.072*\"visual\" + -0.068*\"perform\" + 0.067*\"analysi\" + 0.063*\"model\" + -0.063*\"learn\" + -0.059*\"inform\" + -0.059*\"seek\" + -0.059*\"hermeneut\" + -0.059*\"ethic\" + -0.059*\"mass\" + -0.057*\"process\" + -0.057*\"comparison\" + 0.056*\"decis\" + 0.055*\"journal\" + -0.055*\"algorithm\" + -0.054*\"earth\" + 0.054*\"comment\" + 0.054*\"guest\" + 0.054*\"editor\" + 0.054*\"scienc\" + -0.053*\"xml\" + -0.053*\"data\" + -0.051*\"theori\" + -0.051*\"invest\" + -0.048*\"compon\" + -0.048*\"motiv\" + -0.048*\"classroom\" + -0.048*\"academ\" + -0.048*\"self\" + -0.048*\"regul\" + -0.045*\"write\" + -0.045*\"review\" + -0.043*\"use\" + 0.042*\"introductori\" + 0.042*\"cours\" + -0.042*\"mine\" + -0.042*\"databas\" + 0.042*\"requir\" + -0.041*\"discoveri\" + 0.041*\"valid\" + -0.040*\"technolog\" + -0.038*\"r\" + -0.036*\"function\" + 0.035*\"tcp\" + 0.035*\"simpl\" + 0.035*\"empir\" + 0.035*\"throughput\" + 0.035*\"editori\" + 0.034*\"sensor\" + 0.034*\"statu\" + 0.034*\"bia\" + 0.034*\"quo\" + 0.032*\"demand\" + 0.032*\"explor\" + 0.032*\"formal\" + -0.030*\"foreign\" + -0.030*\"wage\" + -0.030*\"direct\" + -0.030*\"maquiladora\" + -0.030*\"mexico\" + -0.030*\"rel\" + -0.030*\"evid\"'), (18, '0.257*\"algorithm\" + -0.209*\"big\" + -0.186*\"infer\" + -0.166*\"autom\" + 0.156*\"technolog\" + -0.152*\"learn\" + 0.135*\"structur\" + 0.133*\"xml\" + -0.128*\"method\" + 0.127*\"survey\" + 0.123*\"journal\" + -0.114*\"visual\" + 0.111*\"busi\" + -0.109*\"probabilist\" + -0.109*\"markov\" + -0.109*\"carlo\" + -0.109*\"mont\" + -0.109*\"chain\" + 0.108*\"high\" + -0.105*\"toward\" + -0.105*\"cognit\" + 0.105*\"r\" + -0.102*\"research\" + 0.101*\"system\" + 0.099*\"imput\" + 0.099*\"altern\" + 0.099*\"analyz\" + 0.099*\"incomplet\" + 0.099*\"polit\" + 0.099*\"multipl\" + -0.093*\"requir\" + 0.088*\"perspect\" + -0.088*\"analyt\" + 0.086*\"web\" + 0.086*\"nolan\" + 0.086*\"deborah\" + 0.086*\"book\" + -0.086*\"bayesian\" + -0.083*\"decis\" + -0.081*\"network\" + -0.077*\"cours\" + -0.077*\"introductori\" + -0.077*\"dynam\" + -0.077*\"represent\" + -0.073*\"use\" + 0.072*\"map\" + -0.070*\"matrix\" + 0.070*\"diagram\" + 0.070*\"fundament\" + 0.070*\"geometr\" + 0.070*\"voronoi\" + 0.069*\"dimension\" + 0.069*\"approxim\" + 0.069*\"effici\" + 0.069*\"nearest\" + 0.069*\"neighbor\" + 0.069*\"space\" + -0.069*\"version\" + 0.068*\"search\" + 0.068*\"digit\" + 0.068*\"identifi\" + 0.068*\"object\" + 0.068*\"publish\" + 0.068*\"scientif\" + 0.068*\"2005\" + 0.066*\"function\" + -0.066*\"make\" + 0.065*\"protocol\" + 0.065*\"degrad\" + 0.065*\"investig\" + 0.065*\"lifetim\" + 0.065*\"pv\" + 0.064*\"discoveri\" + 0.063*\"applic\" + 0.062*\"databas\" + 0.062*\"mine\" + -0.061*\"synthesi\" + -0.061*\"featur\" + -0.061*\"endeavor\" + -0.061*\"deep\" + -0.061*\"icml\" + -0.061*\"2014\" + -0.061*\"workshop\" + -0.061*\"automl\" + -0.059*\"2\" + -0.059*\"spars\" + -0.059*\"kit\" + -0.059*\"sparskit\" + -0.059*\"basic\" + -0.059*\"tool\" + 0.059*\"cluster\" + -0.059*\"scienc\" + 0.059*\"social\" + -0.058*\"opportun\" + -0.058*\"challeng\" + 0.058*\"approach\" + 0.057*\"onlin\" + 0.057*\"segment\" + 0.057*\"seri\" + 0.057*\"time\"'), (19, '0.272*\"parallel\" + 0.235*\"student\" + 0.207*\"without\" + 0.207*\"cs\" + 0.207*\"curriculum\" + 0.207*\"non\" + 0.203*\"teach\" + 0.197*\"program\" + -0.187*\"social\" + -0.144*\"big\" + -0.133*\"autom\" + -0.132*\"high\" + 0.127*\"r\" + 0.123*\"make\" + 0.117*\"learn\" + 0.115*\"infer\" + 0.115*\"select\" + 0.106*\"gender\" + -0.094*\"media\" + -0.094*\"dimension\" + -0.094*\"approxim\" + -0.094*\"nearest\" + -0.094*\"neighbor\" + -0.094*\"space\" + -0.094*\"effici\" + -0.094*\"search\" + 0.089*\"aposs\" + 0.089*\"divers\" + 0.089*\"prioriti\" + 0.089*\"right\" + 0.089*\"start\" + 0.089*\"let\" + -0.088*\"statist\" + 0.088*\"xml\" + -0.084*\"cognit\" + -0.084*\"toward\" + -0.080*\"new\" + -0.074*\"analyt\" + -0.073*\"center\" + -0.072*\"introductori\" + -0.072*\"cours\" + 0.071*\"network\" + -0.070*\"invest\" + -0.067*\"predict\" + 0.065*\"exampl\" + 0.065*\"beyond\" + 0.065*\"bayesian\" + 0.062*\"book\" + 0.062*\"deborah\" + 0.062*\"web\" + 0.062*\"nolan\" + -0.061*\"e\" + -0.060*\"psycholog\" + -0.060*\"well\" + -0.060*\"illus\" + -0.060*\"health\" + -0.060*\"mental\" + -0.060*\"visual\" + -0.059*\"approach\" + 0.058*\"probabilist\" + 0.058*\"chain\" + 0.058*\"markov\" + 0.058*\"mont\" + 0.058*\"carlo\" + 0.058*\"represent\" + 0.058*\"dynam\" + -0.057*\"requir\" + 0.057*\"method\" + -0.054*\"strength\" + -0.054*\"tie\" + 0.053*\"technolog\" + -0.052*\"manag\" + 0.052*\"optim\" + -0.050*\"evid\" + -0.050*\"rel\" + -0.050*\"wage\" + -0.050*\"maquiladora\" + -0.050*\"direct\" + -0.050*\"mexico\" + -0.050*\"foreign\" + -0.049*\"vision\" + -0.049*\"2014\" + -0.049*\"workshop\" + -0.049*\"icml\" + -0.049*\"automl\" + -0.049*\"endeavor\" + -0.049*\"featur\" + -0.049*\"deep\" + -0.049*\"synthesi\" + -0.044*\"1\" + 0.043*\"task\" + 0.043*\"ration\" + -0.043*\"discoveri\" + -0.043*\"algorithm\" + -0.043*\"research\" + -0.041*\"challeng\" + -0.041*\"opportun\" + -0.041*\"growth\" + -0.041*\"membership\" + -0.041*\"group\"')]\n"
          ],
          "name": "stdout"
        }
      ]
    },
    {
      "cell_type": "code",
      "metadata": {
        "id": "21zBeCK3hySQ"
      },
      "source": [
        "for num, cv in zip(range(2, 60, 6), coherence_values):\n",
        "  print(\"Num Topics:\", num, \" - Coherence Value:\", round(cv, 4))"
      ],
      "execution_count": null,
      "outputs": []
    },
    {
      "cell_type": "code",
      "metadata": {
        "id": "smMoWJrGiK3Y"
      },
      "source": [
        "pprint(LsiModel.print_topics())"
      ],
      "execution_count": null,
      "outputs": []
    },
    {
      "cell_type": "markdown",
      "metadata": {
        "id": "iikimlx6iMHW"
      },
      "source": [
        "**Summarization of LSA Model**\n",
        "\n",
        "The LSI gives the weightage of the documents belonging to different topics. Summarization is done by selecting the top N documents from each topic depending on the weightage.\n",
        "Reduce the dimensionality of the original text-based dataset.\n",
        "It helps us understand what each topic is encoding.\n",
        "Analyze word association in text corpus.\n",
        "Find relations between terms.\n",
        "Clinical architecture extraction\n",
        "Summary of detection techniques\n",
        "LSA has been used to assist in performing prior art searches for patents.\n",
        "Extraction of medical and suicidal elctronic information\n",
        "NLP for sentimental review\n",
        "NLP for health and sytematic reviews\n",
        "Automatic detection and text processing of clinical information\n",
        "Clinical information extraction using deep learning\n",
        "NLP for semenatical representation of survey text\n",
        "Review of information retrieval using NLP\n",
        "Clinical architecture extraction\n",
        "Summary of detection techniques"
      ]
    },
    {
      "cell_type": "markdown",
      "metadata": {
        "id": "cYlRRmv2mKLT"
      },
      "source": [
        "**Compare the results generated by the two topic modeling algorithms, which one is better? You should explain the reasons in details.**"
      ]
    },
    {
      "cell_type": "markdown",
      "metadata": {
        "id": "ZtLMr7p5mLAN"
      },
      "source": [
        "Latent Semantic Analysis, or LSA, is one of the foundational techniques in topic modeling. The core idea is to take a matrix of what we have — documents and terms — and decompose it into a separate document-topic matrix and a topic-term matrix. LDA Topic modeling is a form of unsupervised machine learning that allows for efficient processing of large collections of data. \n",
        "LSA is quick and efficient to use, but it does have a few primary drawbacks:\n",
        "lack of interpretable embeddings, the topics are, and the components may be arbitrarily positive/negative\n",
        "Need for really large set of documents and vocabulary to get accurate results less efficient representation.\n",
        "Latent Dirichlet Allocation (LDA), and this model can be used effectively on a variety of document types such as collections of news articles, policy documents, social media posts or tweets.\n",
        "These two topic model algorithms are good in their own ways and we thinkt that these \"just work\". Topic models are actually quite interpretable and much more straightforward to diagnose, tune, and evaluate. As they are good in their own ways, LDA seemed a bit easier and better. "
      ]
    }
  ]
}