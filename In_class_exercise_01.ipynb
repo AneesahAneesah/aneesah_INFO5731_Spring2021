{
  "nbformat": 4,
  "nbformat_minor": 0,
  "metadata": {
    "colab": {
      "name": "In_class_exercise_01.ipynb",
      "provenance": [],
      "collapsed_sections": [],
      "authorship_tag": "ABX9TyNS53SuAhzOH2TSwz25Fa+c",
      "include_colab_link": true
    },
    "kernelspec": {
      "name": "python3",
      "display_name": "Python 3"
    }
  },
  "cells": [
    {
      "cell_type": "markdown",
      "metadata": {
        "id": "view-in-github",
        "colab_type": "text"
      },
      "source": [
        "<a href=\"https://colab.research.google.com/github/AneesahAneesah/aneesah_INFO5731_Spring2021/blob/main/In_class_exercise_01.ipynb\" target=\"_parent\"><img src=\"https://colab.research.google.com/assets/colab-badge.svg\" alt=\"Open In Colab\"/></a>"
      ]
    },
    {
      "cell_type": "code",
      "metadata": {
        "colab": {
          "base_uri": "https://localhost:8080/"
        },
        "id": "dpmngo_o4num",
        "outputId": "645dd36f-8c7d-47d3-a343-01ea2139b878"
      },
      "source": [
        "#First assign a value to a string variable\r\n",
        "stringL = \"LengthofString\"\r\n",
        "\r\n",
        "#using the string function len(), find the length\r\n",
        "print(\"Length of the given string is : \", len(stringL))"
      ],
      "execution_count": 1,
      "outputs": [
        {
          "output_type": "stream",
          "text": [
            "Length of the given string is :  14\n"
          ],
          "name": "stdout"
        }
      ]
    },
    {
      "cell_type": "code",
      "metadata": {
        "colab": {
          "base_uri": "https://localhost:8080/"
        },
        "id": "crjcORmi90s-",
        "outputId": "ad531992-6671-4bdb-ee23-22d8263bddd6"
      },
      "source": [
        "#accepting the string through input. \r\n",
        "stringchar= input()\r\n",
        "\r\n",
        "cha={}\r\n",
        "\r\n",
        "#using for loop. i is a variable used for the indexes of the characters in a string\r\n",
        "\r\n",
        "for i in stringchar:\r\n",
        "    #if the condition is true, the first statement is executed\r\n",
        "\r\n",
        "    if i in cha:\r\n",
        "\r\n",
        "        cha[i]+=1\r\n",
        "    #if the condition is false, else statement is executed\r\n",
        "    else:\r\n",
        "\r\n",
        "        cha[i]=1\r\n",
        "\r\n",
        "#printing the values\r\n",
        "\r\n",
        "print(cha)"
      ],
      "execution_count": 8,
      "outputs": [
        {
          "output_type": "stream",
          "text": [
            "google.com\n",
            "{'g': 2, 'o': 3, 'l': 1, 'e': 1, '.': 1, 'c': 1, 'm': 1}\n"
          ],
          "name": "stdout"
        }
      ]
    },
    {
      "cell_type": "code",
      "metadata": {
        "colab": {
          "base_uri": "https://localhost:8080/"
        },
        "id": "0dB_05BhKl3X",
        "outputId": "399b8cc3-bd50-4e33-f1e4-9765a1eda39f"
      },
      "source": [
        "# defining a variable to store the sum\r\n",
        "sum = 0\r\n",
        " \r\n",
        "# create a list, and assign values to it\r\n",
        "listitems= [10, 20, 30, 50] \r\n",
        " \r\n",
        "# Using for loop iterations of the list and adding them\r\n",
        "#elements variable consists of the length of the string, and therefore \r\n",
        "#those many number of iterations\r\n",
        "for elements in range(0, len(listitems)):\r\n",
        "    sum = sum + listitems[elements]\r\n",
        " \r\n",
        "# Print sum of the elements of the list\r\n",
        "print(\"Sum of all elements in given list: \", sum)"
      ],
      "execution_count": 13,
      "outputs": [
        {
          "output_type": "stream",
          "text": [
            "Sum of all elements in given list:  110\n"
          ],
          "name": "stdout"
        }
      ]
    },
    {
      "cell_type": "code",
      "metadata": {
        "colab": {
          "base_uri": "https://localhost:8080/"
        },
        "id": "a9MsDDOFO2Ae",
        "outputId": "08dade54-098b-4568-8fd3-5322e7e2e328"
      },
      "source": [
        "#following an approach where all the recurring letters are changed\r\n",
        "\r\n",
        "lis = []\r\n",
        "string=input(\"Enter a string: \")\r\n",
        "for char in string:\r\n",
        "\r\n",
        "    if char in lis:\r\n",
        "        #append is a string function where it joins or adds\r\n",
        "        #if there is a recurring character \r\n",
        "        #append \\$\r\n",
        "\r\n",
        "        lis.append('\\$')\r\n",
        "\r\n",
        "        #else append the next character that follows in given string\r\n",
        "\r\n",
        "    else:\r\n",
        "\r\n",
        "        lis.append (char)\r\n",
        "\r\n",
        "#printing using the join function\r\n",
        "\r\n",
        "print(''.join(str(i) for i in lis))"
      ],
      "execution_count": 21,
      "outputs": [
        {
          "output_type": "stream",
          "text": [
            "Enter a string: aneesah\n",
            "ane\\$s\\$h\n"
          ],
          "name": "stdout"
        }
      ]
    },
    {
      "cell_type": "code",
      "metadata": {
        "colab": {
          "base_uri": "https://localhost:8080/"
        },
        "id": "bKmod7lBbLJl",
        "outputId": "ead7e935-2a30-4137-ae75-d1b61c10ef57"
      },
      "source": [
        "#a and b values should be entered for calculation\r\n",
        "a= int(input(\"Enter value for a: \"))\r\n",
        "b= int(input(\"Enter value for b: \"))\r\n",
        "\r\n",
        "#I am calculating this to make calculation easier\r\n",
        "z= 1+(a/b)\r\n",
        "\r\n",
        "#exponentiation : x**y\r\n",
        "\r\n",
        "s= 3.14 * (3**z)\r\n",
        "\r\n",
        "#Printing the value of s\r\n",
        "print(s)\r\n"
      ],
      "execution_count": 24,
      "outputs": [
        {
          "output_type": "stream",
          "text": [
            "Enter value for a: 4\n",
            "Enter value for b: 2\n",
            "84.78\n"
          ],
          "name": "stdout"
        }
      ]
    },
    {
      "cell_type": "code",
      "metadata": {
        "colab": {
          "base_uri": "https://localhost:8080/"
        },
        "id": "r6orFk3Z0bHS",
        "outputId": "f6f28522-44d1-4cd4-bac3-a92c05a8e2b0"
      },
      "source": [
        "#creating 3 dictionaries\r\n",
        "dict1={1:10,2:20}\r\n",
        "\r\n",
        "dict2={3:30,4:40,5:50}\r\n",
        "\r\n",
        "dict3={5:50,6:60}\r\n",
        "\r\n",
        "#concatenating dictionaries into the \r\n",
        "#new dictionary d4 using update fn\r\n",
        "dict4 = dict(dict1)\r\n",
        "dict4.update(dict2)\r\n",
        "dict4.update(dict3)\r\n",
        "\r\n",
        "#print d4\r\n",
        "print(dict4)"
      ],
      "execution_count": 35,
      "outputs": [
        {
          "output_type": "stream",
          "text": [
            "{1: 10, 2: 20, 3: 30, 4: 40, 5: 50, 6: 60}\n"
          ],
          "name": "stdout"
        }
      ]
    },
    {
      "cell_type": "code",
      "metadata": {
        "colab": {
          "base_uri": "https://localhost:8080/"
        },
        "id": "3VKkfuvx7TrZ",
        "outputId": "9d302e90-d917-4a58-9fb0-714cb095489a"
      },
      "source": [
        " # initializing a tuple \r\n",
        "tuple_ex = (10, 4, 5, 6, 8) \r\n",
        "  \r\n",
        "# print actual tuple for reference\r\n",
        "print(\"The original tuple : \" + str(tuple_ex)) \r\n",
        "  \r\n",
        "# initialize N to take an input  \r\n",
        "N = int(input(\"Enter an element : \"))\r\n",
        "  \r\n",
        "# Checking for an element in tuple using for loop\r\n",
        "res = False \r\n",
        "for element in tuple_ex : \r\n",
        "    if N == element : \r\n",
        "        res = True\r\n",
        "        break\r\n",
        "    else:\r\n",
        "        res = False\r\n",
        "  \r\n",
        "# printing result \r\n",
        "print(\"Does the element exist within a tuple? : \" + str(res))"
      ],
      "execution_count": 45,
      "outputs": [
        {
          "output_type": "stream",
          "text": [
            "The original tuple : (10, 4, 5, 6, 8)\n",
            "Enter an element : 5\n",
            "Does the element exist within a tuple? : True\n"
          ],
          "name": "stdout"
        }
      ]
    },
    {
      "cell_type": "code",
      "metadata": {
        "colab": {
          "base_uri": "https://localhost:8080/"
        },
        "id": "_ApBn_2uBYtA",
        "outputId": "52588184-e10f-4840-bca7-fe41fd0a8375"
      },
      "source": [
        "#defining min and max functions\r\n",
        "\r\n",
        "def MAX(sets): \r\n",
        "    return (max(sets)) \r\n",
        "def MIN(sets):\r\n",
        "    return (min(sets))\r\n",
        "      \r\n",
        "# assigning values to a set\r\n",
        "\r\n",
        "sets = set([13, 84, 2, 40, 55, 9, 1, 67, 46]) \r\n",
        "\r\n",
        "#printing the maximum and minimum values\r\n",
        "\r\n",
        "print(\"The maximum value in the set is : \", MAX(sets)) \r\n",
        "print(\"The maximum value in the set is : \", MIN(sets))"
      ],
      "execution_count": 50,
      "outputs": [
        {
          "output_type": "stream",
          "text": [
            "The maximum value in the set is :  84\n",
            "The maximum value in the set is :  1\n"
          ],
          "name": "stdout"
        }
      ]
    },
    {
      "cell_type": "code",
      "metadata": {
        "colab": {
          "base_uri": "https://localhost:8080/"
        },
        "id": "IH9jAe_XfJeL",
        "outputId": "012d6a54-ee94-45b2-b9a6-6c005d16823b"
      },
      "source": [
        "import random\r\n",
        "#initializing\r\n",
        "members = 5\r\n",
        "minS = 3\r\n",
        "maxS = 5\r\n",
        "\r\n",
        "group1 = []\r\n",
        "group2 = []\r\n",
        "group3 = []\r\n",
        "group4 = []\r\n",
        "group5 = []\r\n",
        "set1 = []\r\n",
        "set2 = []\r\n",
        "\r\n",
        "#creating a dictionary with keys and values\r\n",
        "groupDict = {\r\n",
        "    0: group1,\r\n",
        "    1: group2,\r\n",
        "    2: group3,\r\n",
        "    3: group4,\r\n",
        "    4: group5\r\n",
        "}\r\n",
        "\r\n",
        "participants=[\"vmb0067\",\"pc0353\",\"snd0097\",\"yye0005\",\"sg0940\",\"bk0301\",\"rak0120\",\"rrk0058\",\"spk0057\",\"vl0135\",\"nm0547\",\"pn0159\", \"msp0174\",\"dd0420\",\"ds0761\",\"rs0850\",\"ss1995\",\"at0739\",\"at0768\",\"mv0299\",\"tv0119\",\"dy0091\"]\r\n",
        "#using the random fn\r\n",
        "random.shuffle(participants)\r\n",
        "\r\n",
        "totalParticipants = len(participants)\r\n",
        "eachGroup = int(totalParticipants/members)\r\n",
        "\r\n",
        "if (eachGroup >= minS & eachGroup <= maxS):\r\n",
        "  set1 = participant[0 : (eachGroup*members - 1)]\r\n",
        "  set2 = participants[eachGroup*members :]\r\n",
        "\r\n",
        "for i in range(members):\r\n",
        "  for j in range(eachGroup):\r\n",
        "    groupDict[i].append(participants[i*eachGroup+j])\r\n",
        "\r\n",
        "set3 = participants[eachGroup*members :]\r\n",
        "\r\n",
        "for participant in set3:\r\n",
        "  for i in range(members):\r\n",
        "    if (len(groupDict[i]) < maxS):\r\n",
        "      groupDict[i].append(participant)\r\n",
        "      break\r\n",
        "\r\n",
        "for i in range(members):\r\n",
        "  print('Group {} consists of:'.format(i + 1))\r\n",
        "  print(groupDict[i])\r\n"
      ],
      "execution_count": 81,
      "outputs": [
        {
          "output_type": "stream",
          "text": [
            "Group 1 consists of:\n",
            "['at0768', 'vmb0067', 'ss1995', 'ds0761', 'spk0057']\n",
            "Group 2 consists of:\n",
            "['pc0353', 'dd0420', 'vl0135', 'msp0174', 'rs0850']\n",
            "Group 3 consists of:\n",
            "['tv0119', 'dy0091', 'sg0940', 'bk0301']\n",
            "Group 4 consists of:\n",
            "['nm0547', 'snd0097', 'yye0005', 'rak0120']\n",
            "Group 5 consists of:\n",
            "['rrk0058', 'mv0299', 'pn0159', 'at0739']\n"
          ],
          "name": "stdout"
        }
      ]
    }
  ]
}