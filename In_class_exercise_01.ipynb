{
  "nbformat": 4,
  "nbformat_minor": 0,
  "metadata": {
    "colab": {
      "name": "In_class_exercise_01.ipynb",
      "provenance": [],
      "collapsed_sections": [],
      "authorship_tag": "ABX9TyNY+DhaE8CzQNAtc2h/34bK",
      "include_colab_link": true
    },
    "kernelspec": {
      "name": "python3",
      "display_name": "Python 3"
    }
  },
  "cells": [
    {
      "cell_type": "markdown",
      "metadata": {
        "id": "view-in-github",
        "colab_type": "text"
      },
      "source": [
        "<a href=\"https://colab.research.google.com/github/AneesahAneesah/aneesah_INFO5731_Spring2021/blob/main/In_class_exercise_01.ipynb\" target=\"_parent\"><img src=\"https://colab.research.google.com/assets/colab-badge.svg\" alt=\"Open In Colab\"/></a>"
      ]
    },
    {
      "cell_type": "code",
      "metadata": {
        "colab": {
          "base_uri": "https://localhost:8080/"
        },
        "id": "dpmngo_o4num",
        "outputId": "645dd36f-8c7d-47d3-a343-01ea2139b878"
      },
      "source": [
        "#First assign a value to a string variable\r\n",
        "stringL = \"LengthofString\"\r\n",
        "\r\n",
        "#using the string function len(), find the length\r\n",
        "print(\"Length of the given string is : \", len(stringL))"
      ],
      "execution_count": 1,
      "outputs": [
        {
          "output_type": "stream",
          "text": [
            "Length of the given string is :  14\n"
          ],
          "name": "stdout"
        }
      ]
    }
  ]
}