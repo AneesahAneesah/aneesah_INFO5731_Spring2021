{
  "nbformat": 4,
  "nbformat_minor": 0,
  "metadata": {
    "colab": {
      "name": "Assignment1.ipynb",
      "provenance": [],
      "authorship_tag": "ABX9TyOkVJujDptiZmyDs4xSHWVZ",
      "include_colab_link": true
    },
    "kernelspec": {
      "name": "python3",
      "display_name": "Python 3"
    }
  },
  "cells": [
    {
      "cell_type": "markdown",
      "metadata": {
        "id": "view-in-github",
        "colab_type": "text"
      },
      "source": [
        "<a href=\"https://colab.research.google.com/github/AneesahAneesah/aneesah_INFO5731_Spring2021/blob/main/Assignment1.ipynb\" target=\"_parent\"><img src=\"https://colab.research.google.com/assets/colab-badge.svg\" alt=\"Open In Colab\"/></a>"
      ]
    },
    {
      "cell_type": "code",
      "metadata": {
        "colab": {
          "base_uri": "https://localhost:8080/"
        },
        "id": "kYnulQ3fB8vg",
        "outputId": "6d4dba9e-3b70-4306-b186-722a3f67d75c"
      },
      "source": [
        "#importing random module to use the method randint\r\n",
        "\r\n",
        "import random\r\n",
        "a=[]\r\n",
        "\r\n",
        "#value entered will be stored in n\r\n",
        "n=int(input(\"Enter the number of elements: \"))\r\n",
        "\r\n",
        "for j in range(n):\r\n",
        "    a.append(random.randint(1,100))\r\n",
        "print('\\nRandom numbers list is: ',a)\r\n",
        "\r\n",
        "#sorting \r\n",
        "#ascending\r\n",
        "a.sort()\r\n",
        "print('\\nThe list of numbers in ascending order: ', a)\r\n",
        "\r\n",
        "#descending\r\n",
        "a.sort(reverse=True)\r\n",
        "print('\\nThe list of numbers in descending order: ', a)\r\n",
        "\r\n",
        "def Average(b):\r\n",
        "  return sum(b)/len(b)\r\n",
        "b=a\r\n",
        "average=Average(b)\r\n",
        "print('\\nAverage for the group is: ', round(average,2))\r\n",
        "\r\n"
      ],
      "execution_count": null,
      "outputs": [
        {
          "output_type": "stream",
          "text": [
            "Enter the number of elements: 12\n",
            "\n",
            "Random numbers list is:  [81, 5, 4, 42, 37, 18, 18, 8, 46, 91, 94, 84]\n",
            "\n",
            "The list of numbers in ascending order:  [4, 5, 8, 18, 18, 37, 42, 46, 81, 84, 91, 94]\n",
            "\n",
            "The list of numbers in descending order:  [94, 91, 84, 81, 46, 42, 37, 18, 18, 8, 5, 4]\n",
            "\n",
            "Average for the group is:  44.0\n"
          ],
          "name": "stdout"
        }
      ]
    },
    {
      "cell_type": "code",
      "metadata": {
        "id": "fxt6cz4zIHZd",
        "colab": {
          "base_uri": "https://localhost:8080/"
        },
        "outputId": "be90cf44-9006-4829-dd71-d1c3ae055b72"
      },
      "source": [
        "import re\r\n",
        "\r\n",
        "#1 Ask the user to enter two sentences.\r\n",
        "sen1=input('Enter first sentence: ')\r\n",
        "sen2=input('Enter second sentence: ')\r\n",
        "print('\\n',sen1)\r\n",
        "print(sen2)\r\n",
        "\r\n",
        "#2 Splitting the sentence\r\n",
        "spl_sen1=re.split('\\s+', sen1)\r\n",
        "spl_sen2=re.split('\\s+', sen2)\r\n",
        "print(\"\\n\", spl_sen1)\r\n",
        "print(spl_sen2)\r\n",
        "\r\n",
        "#3 Finding common words\r\n",
        "common1 = set(sen1.split())\r\n",
        "\r\n",
        "common2= set(sen2.split())\r\n",
        "\r\n",
        "common = common1 & common2\r\n",
        "print('\\n',common)\r\n",
        "\r\n",
        "#4 Deleting extra characters\r\n",
        "s1 = re.sub(r'[^\\w\\s]','',sen1)\r\n",
        "s2 = re.sub(r'[^\\w\\s]','',sen2)\r\n",
        "print('\\n',s1)\r\n",
        "print(s2)\r\n",
        "\r\n",
        "# 5 using for comaprisions with the given value 'aeiou'\r\n",
        "sen1 = sen1.casefold()\r\n",
        "sen2 = sen2.casefold()\r\n",
        "\r\n",
        "# counting of the vowels\r\n",
        "count1 = {x:sum([1 for char in sen1 if char == x]) for x in 'aeiou'}\r\n",
        "count2 = {x:sum([1 for char in sen2 if char == x]) for x in 'aeiou'}\r\n",
        "\r\n",
        "print('\\n', count1)\r\n",
        "print('\\n', count2)"
      ],
      "execution_count": null,
      "outputs": [
        {
          "output_type": "stream",
          "text": [
            "Enter first sentence:   What is this? Is, Is this a code...   \n",
            "Enter second sentence: Yes, this is a python program..\n",
            "\n",
            "   What is this? Is, Is this a code...   \n",
            "Yes, this is a python program..\n",
            "\n",
            " ['', 'What', 'is', 'this?', 'Is,', 'Is', 'this', 'a', 'code...', '']\n",
            "['Yes,', 'this', 'is', 'a', 'python', 'program..']\n",
            "\n",
            " {'this', 'is', 'a'}\n",
            "\n",
            "   What is this Is Is this a code   \n",
            "Yes this is a python program\n",
            "\n",
            " {'a': 2, 'e': 1, 'i': 5, 'o': 1, 'u': 0}\n",
            "\n",
            " {'a': 2, 'e': 1, 'i': 2, 'o': 2, 'u': 0}\n"
          ],
          "name": "stdout"
        }
      ]
    },
    {
      "cell_type": "markdown",
      "metadata": {
        "id": "YhkcJo2MzJ7f"
      },
      "source": [
        "(15 points). The formula that describes the volume V of a sphere with radius r is the following:\r\n",
        "\r\n",
        "$ V=\\frac{4}{3}\\ast\\ \\pi\\ast\\ r^3 $\r\n",
        "\r\n",
        "Write a program to calculate the value of V when r is in the range of 1–10. Output the result in the following format:\r\n",
        "\r\n",
        "r   V\r\n",
        "1   …\r\n",
        "2   …\r\n",
        "3   …"
      ]
    },
    {
      "cell_type": "code",
      "metadata": {
        "colab": {
          "base_uri": "https://localhost:8080/"
        },
        "id": "Hmc8fnXdzID2",
        "outputId": "9fda28f5-7646-49d6-e953-ffb36bee376e"
      },
      "source": [
        "\r\n",
        "pi=22/7\r\n",
        "\r\n",
        "print('r\\tv')\r\n",
        "\r\n",
        "for j in range(1,11):\r\n",
        "    vol = (4/3) * (pi * j** 3)\r\n",
        "    print('\\n%d\\t%.2f'%(j, vol))"
      ],
      "execution_count": null,
      "outputs": [
        {
          "output_type": "stream",
          "text": [
            "r\tv\n",
            "\n",
            "1\t4.19\n",
            "\n",
            "2\t33.52\n",
            "\n",
            "3\t113.14\n",
            "\n",
            "4\t268.19\n",
            "\n",
            "5\t523.81\n",
            "\n",
            "6\t905.14\n",
            "\n",
            "7\t1437.33\n",
            "\n",
            "8\t2145.52\n",
            "\n",
            "9\t3054.86\n",
            "\n",
            "10\t4190.48\n"
          ],
          "name": "stdout"
        }
      ]
    },
    {
      "cell_type": "code",
      "metadata": {
        "id": "ms9e0ZOdCi9x"
      },
      "source": [
        "#importing csv file\r\n",
        "#Calculate the difference in the number of Occupied Housing Units from year to year and print it.\r\n",
        "import csv\r\n",
        "Occ_hu = {} \r\n",
        "\r\n",
        "#with statement is used to make the code cleaner\r\n",
        "#r =  reading the file\r\n",
        "\r\n",
        "with open(\"Assignment1_denton_housing_Aneesah.csv\",'r') as input_file:\r\n",
        "    filer = csv.reader(input_file) \r\n",
        "\r\n",
        "    #reading file with subset j\r\n",
        "\r\n",
        "    for j in filer: \r\n",
        "\r\n",
        "        if j[1] == \"Housing Units Occupied\": \r\n",
        "            Occ_hu[int(j[0])] = int(j[2])\r\n",
        "diff = {} \r\n",
        "year = 2008 \r\n",
        "\r\n",
        "#while condition is used to iterate the year by increasing it one by one\r\n",
        "\r\n",
        "while year < 2015:\r\n",
        "    diff[Occ_hu[year+1]-Occ_hu[year]] = str(year)+\"-\"+str(year+1)\r\n",
        "    year += 1\r\n",
        "\r\n",
        "for i in diff:\r\n",
        "    print(diff[i]+\":\",i)\r\n",
        "\r\n",
        "#For all the years, calculate the percentage of housing units which are vacant and occupied\r\n",
        "\r\n",
        "#creating dictionary variables\r\n",
        "Total_hu = {}\r\n",
        "occ_hu = {}\r\n",
        "Vac_hu = {}\r\n",
        "\r\n",
        "#opening the file as input file and reading it\r\n",
        "\r\n",
        "with open(\"Assignment1_denton_housing_Aneesah.csv\",'r') as file:\r\n",
        "    file_r = csv.reader(file) \r\n",
        "    for j in file_r: \r\n",
        "        if j[1] == 'Total Housing Units': \r\n",
        "            Total_hu[int(j[0])] = int(j[2])\r\n",
        "        elif j[1] == 'Occupied Housing Units': \r\n",
        "            occ_hu[int(j[0])] = int(j[2])\r\n",
        "        elif j[1] == 'Vacant Housing Units': \r\n",
        "            Vac_hu[int(j[0])] = int(j[2])\r\n",
        "year = 2008 \r\n",
        "print(\"Year\\tVacant Housing Units\\tOccupied Housing Units\") \r\n",
        "while year < 2015: \r\n",
        "    occper = (occ_hu[year]/Total_hu[year])*100\r\n",
        "    vacper = (Vac_hu[year]/Total_hu[year])*100\r\n",
        "    print(str(year)+\"\\t\"+str(round(vacper,1))+\"%\\t\\t\"+str(round(occper,1))+\"%\")\r\n",
        "    year += 1\r\n",
        "\r\n",
        "#Calculate the harmonic mean of the total housing units and print it out.\r\n",
        "\r\n",
        "field_file = ['year','title_field','value']\r\n",
        "file_nme = \"./Assignment1_denton_housing_Aneesah.csv\"\r\n",
        "  with open(file_nme, newline='') as csvfile:\r\n",
        "    d = csv.DictReader(csvfile)\r\n",
        "    c = 0\r\n",
        "    rec = 0\r\n",
        "    for j in data:\r\n",
        "      if j[fields[1]] == \"Total Housing Units\" :\r\n",
        "        c+=1\r\n",
        "        sum_recp+=(1/int(j[fields[2]]))\r\n",
        "    print(\"Harmonic Mean : %.4f\" %(c/rec))\r\n",
        "\r\n",
        "#Calculate and print the valued and years in which the highest number of housing units were vacant and occupied\r\n",
        "\r\n",
        "field_f = ['year','title_field','value']\r\n",
        "  file = \"./Assignment1_denton_housingAneesah.csv\"\r\n",
        "  with open(file, newline='') as F_csv:\r\n",
        "    data = csv.DictReader(F_csv)\r\n",
        "    year_o = 0\r\n",
        "    house_o = 0\r\n",
        "    year_v = 0\r\n",
        "    house_v = 0\r\n",
        "\r\n",
        "    for j in data:\r\n",
        "      year = int(j[fields[0]])\r\n",
        "      val = int(j[fields[2]] )\r\n",
        "\r\n",
        "      if j[fields[1]] == \"Occupied Housing Units\" and v > occ_house:\r\n",
        "         house_v =v\r\n",
        "         year_v = year\r\n",
        "\r\n",
        "      if row[fields[1]] == \"Vacant Housing Units\" and v > vac_house:\r\n",
        "         house_v =v\r\n",
        "         year_v= year\r\n",
        "\r\n",
        "    print(\"\\t\\tyear\\t\\tvalue\")\r\n",
        "    print(\"Vacant Housing Units: %d\\t%d\"%(year_v,house_v))\r\n",
        "    print(\"Occupied Housing Units: %d\\t%d\"%(year_o,house_o))\r\n",
        "   "
      ],
      "execution_count": null,
      "outputs": []
    }
  ]
}