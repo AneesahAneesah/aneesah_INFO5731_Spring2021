{
  "nbformat": 4,
  "nbformat_minor": 0,
  "metadata": {
    "colab": {
      "name": "Aneesah_Aneesah_bonus.ipynb",
      "provenance": [],
      "authorship_tag": "ABX9TyNLBaBCMbOjPw7i1nlq9BMi",
      "include_colab_link": true
    },
    "kernelspec": {
      "name": "python3",
      "display_name": "Python 3"
    },
    "language_info": {
      "name": "python"
    }
  },
  "cells": [
    {
      "cell_type": "markdown",
      "metadata": {
        "id": "view-in-github",
        "colab_type": "text"
      },
      "source": [
        "<a href=\"https://colab.research.google.com/github/AneesahAneesah/aneesah_INFO5731_Spring2021/blob/main/Aneesah_Aneesah_bonus.ipynb\" target=\"_parent\"><img src=\"https://colab.research.google.com/assets/colab-badge.svg\" alt=\"Open In Colab\"/></a>"
      ]
    },
    {
      "cell_type": "code",
      "metadata": {
        "colab": {
          "base_uri": "https://localhost:8080/"
        },
        "id": "HkOTK73HZvh0",
        "outputId": "79469cbf-73cb-440f-f460-47b52d1aca91"
      },
      "source": [
        "import random\n",
        "\n",
        "memb = 9\n",
        "min_Stu = 3\n",
        "max_Stu = 4\n",
        "\n",
        "team1 = []\n",
        "team2 = []\n",
        "team3 = []\n",
        "team4 = []\n",
        "team5 = []\n",
        "team6 = []\n",
        "team7 = []\n",
        "team8 = []\n",
        "team9 = []\n",
        "set1 = []\n",
        "set2 = []\n",
        "\n",
        "#creating a dictionary \n",
        "#with keys and values\n",
        "\n",
        "team_Dict = {\n",
        "    0: team1,\n",
        "    1: team2,\n",
        "    2: team3,\n",
        "    3: team4,\n",
        "    4: team5,\n",
        "    5: team6,\n",
        "    6: team7,\n",
        "    7: team8,\n",
        "    8: team9\n",
        "}\n",
        "\n",
        "people=['Natalie', 'Aneesah', 'Manaswitha', 'Manoj-Sai', 'Max', 'Reshmitha', 'Mohana Venkata', 'Sandeep', 'Karina', 'Floran', 'Alecxis','Anthony', 'Bhogesh', 'Rajarajeswari', 'Divya',  'Pranay Raj', 'Suneetha', 'Venkata Nagarjuna', 'Lokesh', 'Neha', 'Slade', 'Omika', 'Jagadishwar', 'Sree Lakshmi', 'Omobolaji', 'Romal Rajeshkumar', 'Kalpana', 'Lakshmi Swetha', 'Meseret']\n",
        "\n",
        "# Using random function\n",
        "\n",
        "random.shuffle(people)\n",
        "\n",
        "number_of_people= len(people)\n",
        "each_team = int(number_of_people/memb)\n",
        "print('Total number of students: ', number_of_people)\n",
        "\n",
        "if (each_team >= min_Stu & each_team <= max_Stu):\n",
        "\n",
        "  set1 = people[0 : (each_team*memb - 1)]\n",
        "  set2 = people[each_team*memb :]\n",
        "\n",
        "for i in range(memb):\n",
        "\n",
        "  for j in range(each_team):\n",
        "\n",
        "    team_Dict[i].append(people[i*each_team+j])\n",
        "\n",
        "set3 = people[each_team*memb :]\n",
        "\n",
        "for people in set3:\n",
        "  for i in range(memb):\n",
        "\n",
        "    if (len(team_Dict[i]) < max_Stu):\n",
        "\n",
        "      team_Dict[i].append(people)\n",
        "      break\n",
        "\n",
        "for i in range(memb):\n",
        "\n",
        "  print('\\nTeam {} consists of:'.format(i + 1))\n",
        "  print(team_Dict[i])"
      ],
      "execution_count": 16,
      "outputs": [
        {
          "output_type": "stream",
          "name": "stdout",
          "text": [
            "Total number of students:  29\n",
            "\n",
            "Team 1 consists of:\n",
            "['Karina', 'Kalpana', 'Lakshmi Swetha', 'Sree Lakshmi']\n",
            "\n",
            "Team 2 consists of:\n",
            "['Sandeep', 'Pranay Raj', 'Romal Rajeshkumar', 'Reshmitha']\n",
            "\n",
            "Team 3 consists of:\n",
            "['Mohana Venkata', 'Alecxis', 'Natalie']\n",
            "\n",
            "Team 4 consists of:\n",
            "['Neha', 'Divya', 'Manaswitha']\n",
            "\n",
            "Team 5 consists of:\n",
            "['Lokesh', 'Omobolaji', 'Aneesah']\n",
            "\n",
            "Team 6 consists of:\n",
            "['Rajarajeswari', 'Meseret', 'Manoj-Sai']\n",
            "\n",
            "Team 7 consists of:\n",
            "['Jagadishwar', 'Floran', 'Slade']\n",
            "\n",
            "Team 8 consists of:\n",
            "['Anthony', 'Suneetha', 'Omika']\n",
            "\n",
            "Team 9 consists of:\n",
            "['Bhogesh', 'Venkata Nagarjuna', 'Max']\n"
          ]
        }
      ]
    }
  ]
}