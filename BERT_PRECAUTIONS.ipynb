{
  "nbformat": 4,
  "nbformat_minor": 0,
  "metadata": {
    "colab": {
      "name": "BERT.ipynb",
      "provenance": [],
      "collapsed_sections": [],
      "toc_visible": true
    },
    "kernelspec": {
      "name": "python3",
      "display_name": "Python 3"
    },
    "language_info": {
      "name": "python"
    }
  },
  "cells": [
    {
      "cell_type": "code",
      "metadata": {
        "colab": {
          "base_uri": "https://localhost:8080/"
        },
        "id": "PPWrJsCX9EVn",
        "outputId": "368fff64-fe1e-4494-efd1-77954119f55e"
      },
      "source": [
        "!pip install transformers"
      ],
      "execution_count": 3,
      "outputs": [
        {
          "output_type": "stream",
          "text": [
            "Requirement already satisfied: transformers in /usr/local/lib/python3.7/dist-packages (4.5.1)\n",
            "Requirement already satisfied: requests in /usr/local/lib/python3.7/dist-packages (from transformers) (2.23.0)\n",
            "Requirement already satisfied: tokenizers<0.11,>=0.10.1 in /usr/local/lib/python3.7/dist-packages (from transformers) (0.10.2)\n",
            "Requirement already satisfied: tqdm>=4.27 in /usr/local/lib/python3.7/dist-packages (from transformers) (4.41.1)\n",
            "Requirement already satisfied: filelock in /usr/local/lib/python3.7/dist-packages (from transformers) (3.0.12)\n",
            "Requirement already satisfied: regex!=2019.12.17 in /usr/local/lib/python3.7/dist-packages (from transformers) (2019.12.20)\n",
            "Requirement already satisfied: sacremoses in /usr/local/lib/python3.7/dist-packages (from transformers) (0.0.45)\n",
            "Requirement already satisfied: packaging in /usr/local/lib/python3.7/dist-packages (from transformers) (20.9)\n",
            "Requirement already satisfied: importlib-metadata; python_version < \"3.8\" in /usr/local/lib/python3.7/dist-packages (from transformers) (3.10.1)\n",
            "Requirement already satisfied: numpy>=1.17 in /usr/local/lib/python3.7/dist-packages (from transformers) (1.19.5)\n",
            "Requirement already satisfied: chardet<4,>=3.0.2 in /usr/local/lib/python3.7/dist-packages (from requests->transformers) (3.0.4)\n",
            "Requirement already satisfied: idna<3,>=2.5 in /usr/local/lib/python3.7/dist-packages (from requests->transformers) (2.10)\n",
            "Requirement already satisfied: urllib3!=1.25.0,!=1.25.1,<1.26,>=1.21.1 in /usr/local/lib/python3.7/dist-packages (from requests->transformers) (1.24.3)\n",
            "Requirement already satisfied: certifi>=2017.4.17 in /usr/local/lib/python3.7/dist-packages (from requests->transformers) (2020.12.5)\n",
            "Requirement already satisfied: six in /usr/local/lib/python3.7/dist-packages (from sacremoses->transformers) (1.15.0)\n",
            "Requirement already satisfied: click in /usr/local/lib/python3.7/dist-packages (from sacremoses->transformers) (7.1.2)\n",
            "Requirement already satisfied: joblib in /usr/local/lib/python3.7/dist-packages (from sacremoses->transformers) (1.0.1)\n",
            "Requirement already satisfied: pyparsing>=2.0.2 in /usr/local/lib/python3.7/dist-packages (from packaging->transformers) (2.4.7)\n",
            "Requirement already satisfied: zipp>=0.5 in /usr/local/lib/python3.7/dist-packages (from importlib-metadata; python_version < \"3.8\"->transformers) (3.4.1)\n",
            "Requirement already satisfied: typing-extensions>=3.6.4; python_version < \"3.8\" in /usr/local/lib/python3.7/dist-packages (from importlib-metadata; python_version < \"3.8\"->transformers) (3.7.4.3)\n"
          ],
          "name": "stdout"
        }
      ]
    },
    {
      "cell_type": "code",
      "metadata": {
        "id": "vKZwWAiG9HN4"
      },
      "source": [
        "import numpy as np\n",
        "import pandas as pd\n",
        "from sklearn.model_selection import train_test_split\n",
        "from sklearn.linear_model import LogisticRegression\n",
        "from sklearn.model_selection import GridSearchCV\n",
        "from sklearn.model_selection import cross_val_score\n",
        "import torch\n",
        "import transformers as ppb\n",
        "import warnings\n",
        "from nltk.stem import WordNetLemmatizer\n",
        "from nltk.stem.snowball import SnowballStemmer\n",
        "from keras.preprocessing.text import Tokenizer\n",
        "import nltk\n",
        "from nltk.corpus import stopwords\n",
        "from nltk.tokenize import word_tokenize\n",
        "import re\n",
        "warnings.filterwarnings('ignore')"
      ],
      "execution_count": 4,
      "outputs": []
    },
    {
      "cell_type": "code",
      "metadata": {
        "colab": {
          "base_uri": "https://localhost:8080/"
        },
        "id": "yiBNjAlayivI",
        "outputId": "dcafc15a-6b58-4f87-b557-5225cb23a1ef"
      },
      "source": [
        "nltk.download(\"stopwords\")\n",
        "nltk.download(\"punkt\")\n",
        "nltk.download('wordnet')"
      ],
      "execution_count": 5,
      "outputs": [
        {
          "output_type": "stream",
          "text": [
            "[nltk_data] Downloading package stopwords to /root/nltk_data...\n",
            "[nltk_data]   Package stopwords is already up-to-date!\n",
            "[nltk_data] Downloading package punkt to /root/nltk_data...\n",
            "[nltk_data]   Package punkt is already up-to-date!\n",
            "[nltk_data] Downloading package wordnet to /root/nltk_data...\n",
            "[nltk_data]   Package wordnet is already up-to-date!\n"
          ],
          "name": "stdout"
        },
        {
          "output_type": "execute_result",
          "data": {
            "text/plain": [
              "True"
            ]
          },
          "metadata": {
            "tags": []
          },
          "execution_count": 5
        }
      ]
    },
    {
      "cell_type": "markdown",
      "metadata": {
        "id": "yWI1Gchg05m_"
      },
      "source": [
        "# Training 2000 sentences "
      ]
    },
    {
      "cell_type": "code",
      "metadata": {
        "id": "Yb3B1kfF9IeO"
      },
      "source": [
        "df = pd.read_csv('https://github.com/clairett/pytorch-sentiment-classification/raw/master/data/SST2/train.tsv', delimiter='\\t', header=None).head(2000)"
      ],
      "execution_count": 24,
      "outputs": []
    },
    {
      "cell_type": "code",
      "metadata": {
        "id": "CZZSeguAQN5n"
      },
      "source": [
        "# unique_intent = df['specific_intent'].unique()\n",
        "# unique_intent"
      ],
      "execution_count": 25,
      "outputs": []
    },
    {
      "cell_type": "code",
      "metadata": {
        "id": "Fz9joyqgx5JD"
      },
      "source": [
        "df.columns=['Sentences','Labels']"
      ],
      "execution_count": 26,
      "outputs": []
    },
    {
      "cell_type": "code",
      "metadata": {
        "id": "SGBAKWZ0yBk2"
      },
      "source": [
        "df['Labels'] = df['Labels'].apply(lambda x : \"Not Affected\" if x == 1 else 'Affected')"
      ],
      "execution_count": 27,
      "outputs": []
    },
    {
      "cell_type": "code",
      "metadata": {
        "colab": {
          "base_uri": "https://localhost:8080/",
          "height": 356
        },
        "id": "c0XqNjuSyDQ0",
        "outputId": "04de2998-c1ce-478c-be26-5625597bff9c"
      },
      "source": [
        "df.head(10)"
      ],
      "execution_count": 28,
      "outputs": [
        {
          "output_type": "execute_result",
          "data": {
            "text/html": [
              "<div>\n",
              "<style scoped>\n",
              "    .dataframe tbody tr th:only-of-type {\n",
              "        vertical-align: middle;\n",
              "    }\n",
              "\n",
              "    .dataframe tbody tr th {\n",
              "        vertical-align: top;\n",
              "    }\n",
              "\n",
              "    .dataframe thead th {\n",
              "        text-align: right;\n",
              "    }\n",
              "</style>\n",
              "<table border=\"1\" class=\"dataframe\">\n",
              "  <thead>\n",
              "    <tr style=\"text-align: right;\">\n",
              "      <th></th>\n",
              "      <th>Sentences</th>\n",
              "      <th>Labels</th>\n",
              "    </tr>\n",
              "  </thead>\n",
              "  <tbody>\n",
              "    <tr>\n",
              "      <th>0</th>\n",
              "      <td>a stirring , funny and finally transporting re...</td>\n",
              "      <td>Not Affected</td>\n",
              "    </tr>\n",
              "    <tr>\n",
              "      <th>1</th>\n",
              "      <td>apparently reassembled from the cutting room f...</td>\n",
              "      <td>Affected</td>\n",
              "    </tr>\n",
              "    <tr>\n",
              "      <th>2</th>\n",
              "      <td>they presume their audience wo n't sit still f...</td>\n",
              "      <td>Affected</td>\n",
              "    </tr>\n",
              "    <tr>\n",
              "      <th>3</th>\n",
              "      <td>this is a visually stunning rumination on love...</td>\n",
              "      <td>Not Affected</td>\n",
              "    </tr>\n",
              "    <tr>\n",
              "      <th>4</th>\n",
              "      <td>jonathan parker 's bartleby should have been t...</td>\n",
              "      <td>Not Affected</td>\n",
              "    </tr>\n",
              "    <tr>\n",
              "      <th>5</th>\n",
              "      <td>campanella gets the tone just right funny in t...</td>\n",
              "      <td>Not Affected</td>\n",
              "    </tr>\n",
              "    <tr>\n",
              "      <th>6</th>\n",
              "      <td>a fan film that for the uninitiated plays bett...</td>\n",
              "      <td>Affected</td>\n",
              "    </tr>\n",
              "    <tr>\n",
              "      <th>7</th>\n",
              "      <td>b art and berling are both superb , while hupp...</td>\n",
              "      <td>Not Affected</td>\n",
              "    </tr>\n",
              "    <tr>\n",
              "      <th>8</th>\n",
              "      <td>a little less extreme than in the past , with ...</td>\n",
              "      <td>Affected</td>\n",
              "    </tr>\n",
              "    <tr>\n",
              "      <th>9</th>\n",
              "      <td>the film is strictly routine</td>\n",
              "      <td>Affected</td>\n",
              "    </tr>\n",
              "  </tbody>\n",
              "</table>\n",
              "</div>"
            ],
            "text/plain": [
              "                                           Sentences        Labels\n",
              "0  a stirring , funny and finally transporting re...  Not Affected\n",
              "1  apparently reassembled from the cutting room f...      Affected\n",
              "2  they presume their audience wo n't sit still f...      Affected\n",
              "3  this is a visually stunning rumination on love...  Not Affected\n",
              "4  jonathan parker 's bartleby should have been t...  Not Affected\n",
              "5  campanella gets the tone just right funny in t...  Not Affected\n",
              "6  a fan film that for the uninitiated plays bett...      Affected\n",
              "7  b art and berling are both superb , while hupp...  Not Affected\n",
              "8  a little less extreme than in the past , with ...      Affected\n",
              "9                       the film is strictly routine      Affected"
            ]
          },
          "metadata": {
            "tags": []
          },
          "execution_count": 28
        }
      ]
    },
    {
      "cell_type": "code",
      "metadata": {
        "id": "7bBkmOBqybY8"
      },
      "source": [
        "import re \n",
        "def clean_data(Tweets):\n",
        "    count = 0\n",
        "\n",
        "    Tweets_cleaned = []\n",
        "\n",
        "    # rules for elements being eliminated from the tweets\n",
        "    r_at = r'@[A-Za-z0-9_]+'  # Removing @ from all tweets\n",
        "    r_hash = r'#[A-Za-z0-9_]+' # Removing hash tags\n",
        "    r_rt = r'RT '  # Removing RT i.e. if the tweet is a retweet\n",
        "    r_emoji = '[^a-zA-Z]'  # Removing emoji and replacing with space\n",
        "    #r_brandtag=r'#'+brand.lower()\n",
        "    \n",
        "    tokens=[]\n",
        "    r_se = r'[:]]'\n",
        "    r_se2 = r'[=)]'\n",
        "    r_se3 = r'[:-D]'\n",
        "    r_se4 = r'[:D]'\n",
        "    r_se5 = r'[=D]'\n",
        "    r_se6 = r'[:)]'\n",
        "\n",
        "    r_sae2 = r'[:(]'\n",
        "    r_sae3 = r'[:[]'\n",
        "    r_sae4 = r'[=(]'\n",
        "    \n",
        "    r_ae = r'[>:(]'\n",
        "    r_ae2 = r'[>:(]'\n",
        "    \n",
        "    r_le = r'[(y)]'\n",
        "    r_le2 = r'[(Y)]'\n",
        "    \n",
        "    for t in Tweets:\n",
        "        \n",
        "        \n",
        "        clean_tweets = re.sub(r'|'.join((r_at, r_rt)),'',t)  \n",
        "        \n",
        "        clean_tweets = re.sub('https?:[A-Za-z0-9./]+','URL',clean_tweets)\n",
        "        clean_tweets = re.sub(r_hash, ' ', clean_tweets)\n",
        "        clean_tweets = re.sub(r_emoji, ' ', clean_tweets)\n",
        "        clean_tweets = re.sub('[\\s ]+', ' ',clean_tweets)\n",
        "        clean_tweets = clean_tweets.lower()\n",
        "  \n",
        "        Tweets_cleaned.append(clean_tweets)\n",
        "\n",
        "    return Tweets_cleaned#, tokens"
      ],
      "execution_count": 29,
      "outputs": []
    },
    {
      "cell_type": "code",
      "metadata": {
        "id": "T8iQs5Q3ymNe"
      },
      "source": [
        "cleaned_sentences = clean_data(list(df['Sentences']))"
      ],
      "execution_count": 30,
      "outputs": []
    },
    {
      "cell_type": "code",
      "metadata": {
        "colab": {
          "base_uri": "https://localhost:8080/"
        },
        "id": "NOY1wCUBykLZ",
        "outputId": "0a6ddff1-1c22-4aae-f9e9-383a2ec98688"
      },
      "source": [
        "cleaned_sentences[0:10]"
      ],
      "execution_count": 31,
      "outputs": [
        {
          "output_type": "execute_result",
          "data": {
            "text/plain": [
              "['a stirring funny and finally transporting re imagining of beauty and the beast and s horror films',\n",
              " 'apparently reassembled from the cutting room floor of any given daytime soap',\n",
              " 'they presume their audience wo n t sit still for a sociology lesson however entertainingly presented so they trot out the conventional science fiction elements of bug eyed monsters and futuristic women in skimpy clothes',\n",
              " 'this is a visually stunning rumination on love memory history and the war between art and commerce',\n",
              " 'jonathan parker s bartleby should have been the be all end all of the modern office anomie films',\n",
              " 'campanella gets the tone just right funny in the middle of sad in the middle of hopeful',\n",
              " 'a fan film that for the uninitiated plays better on video with the sound turned down',\n",
              " 'b art and berling are both superb while huppert is magnificent',\n",
              " 'a little less extreme than in the past with longer exposition sequences between them and with fewer gags to break the tedium',\n",
              " 'the film is strictly routine']"
            ]
          },
          "metadata": {
            "tags": []
          },
          "execution_count": 31
        }
      ]
    },
    {
      "cell_type": "code",
      "metadata": {
        "colab": {
          "base_uri": "https://localhost:8080/",
          "height": 356
        },
        "id": "cB4HN89JzW4B",
        "outputId": "2ea0e2d5-fc72-407c-fedd-ec69a3b1f626"
      },
      "source": [
        "batch = pd.DataFrame()\n",
        "batch['cleaned_sentences'] = cleaned_sentences\n",
        "batch['labels'] = df['Labels']\n",
        "batch.head(10)"
      ],
      "execution_count": 32,
      "outputs": [
        {
          "output_type": "execute_result",
          "data": {
            "text/html": [
              "<div>\n",
              "<style scoped>\n",
              "    .dataframe tbody tr th:only-of-type {\n",
              "        vertical-align: middle;\n",
              "    }\n",
              "\n",
              "    .dataframe tbody tr th {\n",
              "        vertical-align: top;\n",
              "    }\n",
              "\n",
              "    .dataframe thead th {\n",
              "        text-align: right;\n",
              "    }\n",
              "</style>\n",
              "<table border=\"1\" class=\"dataframe\">\n",
              "  <thead>\n",
              "    <tr style=\"text-align: right;\">\n",
              "      <th></th>\n",
              "      <th>cleaned_sentences</th>\n",
              "      <th>labels</th>\n",
              "    </tr>\n",
              "  </thead>\n",
              "  <tbody>\n",
              "    <tr>\n",
              "      <th>0</th>\n",
              "      <td>a stirring funny and finally transporting re i...</td>\n",
              "      <td>Not Affected</td>\n",
              "    </tr>\n",
              "    <tr>\n",
              "      <th>1</th>\n",
              "      <td>apparently reassembled from the cutting room f...</td>\n",
              "      <td>Affected</td>\n",
              "    </tr>\n",
              "    <tr>\n",
              "      <th>2</th>\n",
              "      <td>they presume their audience wo n t sit still f...</td>\n",
              "      <td>Affected</td>\n",
              "    </tr>\n",
              "    <tr>\n",
              "      <th>3</th>\n",
              "      <td>this is a visually stunning rumination on love...</td>\n",
              "      <td>Not Affected</td>\n",
              "    </tr>\n",
              "    <tr>\n",
              "      <th>4</th>\n",
              "      <td>jonathan parker s bartleby should have been th...</td>\n",
              "      <td>Not Affected</td>\n",
              "    </tr>\n",
              "    <tr>\n",
              "      <th>5</th>\n",
              "      <td>campanella gets the tone just right funny in t...</td>\n",
              "      <td>Not Affected</td>\n",
              "    </tr>\n",
              "    <tr>\n",
              "      <th>6</th>\n",
              "      <td>a fan film that for the uninitiated plays bett...</td>\n",
              "      <td>Affected</td>\n",
              "    </tr>\n",
              "    <tr>\n",
              "      <th>7</th>\n",
              "      <td>b art and berling are both superb while hupper...</td>\n",
              "      <td>Not Affected</td>\n",
              "    </tr>\n",
              "    <tr>\n",
              "      <th>8</th>\n",
              "      <td>a little less extreme than in the past with lo...</td>\n",
              "      <td>Affected</td>\n",
              "    </tr>\n",
              "    <tr>\n",
              "      <th>9</th>\n",
              "      <td>the film is strictly routine</td>\n",
              "      <td>Affected</td>\n",
              "    </tr>\n",
              "  </tbody>\n",
              "</table>\n",
              "</div>"
            ],
            "text/plain": [
              "                                   cleaned_sentences        labels\n",
              "0  a stirring funny and finally transporting re i...  Not Affected\n",
              "1  apparently reassembled from the cutting room f...      Affected\n",
              "2  they presume their audience wo n t sit still f...      Affected\n",
              "3  this is a visually stunning rumination on love...  Not Affected\n",
              "4  jonathan parker s bartleby should have been th...  Not Affected\n",
              "5  campanella gets the tone just right funny in t...  Not Affected\n",
              "6  a fan film that for the uninitiated plays bett...      Affected\n",
              "7  b art and berling are both superb while hupper...  Not Affected\n",
              "8  a little less extreme than in the past with lo...      Affected\n",
              "9                       the film is strictly routine      Affected"
            ]
          },
          "metadata": {
            "tags": []
          },
          "execution_count": 32
        }
      ]
    },
    {
      "cell_type": "code",
      "metadata": {
        "colab": {
          "base_uri": "https://localhost:8080/"
        },
        "id": "t5wfAnSJzelv",
        "outputId": "b9d7d68b-18f1-4b41-f995-b8c17f731887"
      },
      "source": [
        "batch['labels'].value_counts()"
      ],
      "execution_count": 36,
      "outputs": [
        {
          "output_type": "execute_result",
          "data": {
            "text/plain": [
              "Not Affected    1041\n",
              "Affected         959\n",
              "Name: labels, dtype: int64"
            ]
          },
          "metadata": {
            "tags": []
          },
          "execution_count": 36
        }
      ]
    },
    {
      "cell_type": "markdown",
      "metadata": {
        "id": "6reWJT7fyqCq"
      },
      "source": [
        "lOADING PRE-TRAINED MODEL"
      ]
    },
    {
      "cell_type": "code",
      "metadata": {
        "id": "j-zIGO489lZk"
      },
      "source": [
        "\n",
        "model_class, tokenizer_class, pretrained_weights = (ppb.DistilBertModel, ppb.DistilBertTokenizer, 'distilbert-base-uncased')\n",
        "\n",
        "## Want BERT instead of distilBERT? Uncomment the following line:\n",
        "#model_class, tokenizer_class, pretrained_weights = (ppb.BertModel, ppb.BertTokenizer, 'bert-base-uncased')\n",
        "\n",
        "# Load pretrained model/tokenizer\n",
        "tokenizer = tokenizer_class.from_pretrained(pretrained_weights)\n",
        "model = model_class.from_pretrained(pretrained_weights)"
      ],
      "execution_count": 37,
      "outputs": []
    },
    {
      "cell_type": "code",
      "metadata": {
        "id": "Zwqq9cLS-Fkz"
      },
      "source": [
        "X_train, X_test, y_train, y_test  = train_test_split(batch['cleaned_sentences'], batch['labels'],test_size=0.10)"
      ],
      "execution_count": 38,
      "outputs": []
    },
    {
      "cell_type": "markdown",
      "metadata": {
        "id": "BzRPaqSnTcKL"
      },
      "source": [
        "# **TRAIN_BERT**"
      ]
    },
    {
      "cell_type": "code",
      "metadata": {
        "colab": {
          "base_uri": "https://localhost:8080/"
        },
        "id": "U1mEfvYAFh2T",
        "outputId": "ecb99862-d9e0-4a03-e9db-b92d12c11ac3"
      },
      "source": [
        "tokenized_Train = X_train.apply((lambda x: tokenizer.encode(x, add_special_tokens=True)))\n",
        "max_len = 0\n",
        "for i in tokenized_Train.values:\n",
        "    if len(i) > max_len:\n",
        "        max_len = len(i)\n",
        "\n",
        "padded_train = np.array([i + [0]*(max_len-len(i)) for i in tokenized_Train.values])\n",
        "print(padded_train[0])\n",
        "np.array(padded_train).shape\n",
        "attention_mask_train = np.where(padded_train != 0, 1, 0)\n",
        "print(attention_mask_train.shape)\n",
        "input_ids = torch.tensor(padded_train)  \n",
        "attention_mask_train = torch.tensor(attention_mask_train)\n",
        "\n",
        "with torch.no_grad():\n",
        "    last_hidden_states = model(input_ids, attention_mask=attention_mask_train)\n",
        "features = last_hidden_states[0][:,0,:].numpy()\n",
        "bert_X_train = features"
      ],
      "execution_count": 39,
      "outputs": [
        {
          "output_type": "stream",
          "text": [
            "[  101  2195  4895 18447 18702  3436  4406  3085  2111  2079  2919  2477\n",
            "  2000  1998  2007  2169  2060  1999  4895  7011  8939  3993   102     0\n",
            "     0     0     0     0     0     0     0     0     0     0     0     0\n",
            "     0     0     0     0     0     0     0     0     0     0     0     0\n",
            "     0     0     0     0     0     0     0     0]\n",
            "(1800, 56)\n"
          ],
          "name": "stdout"
        }
      ]
    },
    {
      "cell_type": "markdown",
      "metadata": {
        "id": "bKU7FsJ6TUZc"
      },
      "source": [
        "# **BERT_TEST**"
      ]
    },
    {
      "cell_type": "code",
      "metadata": {
        "colab": {
          "base_uri": "https://localhost:8080/"
        },
        "id": "sy-iIc1CFWWr",
        "outputId": "34105e1e-7e35-44c5-a1ea-4386f6cdac39"
      },
      "source": [
        "tokenized_test = X_test.apply((lambda x: tokenizer.encode(x, add_special_tokens=True)))\n",
        "max_len = 0\n",
        "for i in tokenized_test.values:\n",
        "    if len(i) > max_len:\n",
        "        max_len = len(i)\n",
        "\n",
        "padded_test = np.array([i + [0]*(max_len-len(i)) for i in tokenized_test.values])\n",
        "print(padded_test[0])\n",
        "np.array(padded_test).shape\n",
        "attention_mask_test = np.where(padded_test != 0, 1, 0)\n",
        "print(attention_mask_test.shape)\n",
        "input_ids = torch.tensor(padded_test)  \n",
        "attention_mask_test = torch.tensor(attention_mask_test)\n",
        "\n",
        "with torch.no_grad():\n",
        "    last_hidden_states = model(input_ids, attention_mask=attention_mask_test)\n",
        "features = last_hidden_states[0][:,0,:].numpy()\n",
        "bert_X_test = features"
      ],
      "execution_count": 40,
      "outputs": [
        {
          "output_type": "stream",
          "text": [
            "[  101  9020  2000 12208  2302  2172  1997  1037  2466   102     0     0\n",
            "     0     0     0     0     0     0     0     0     0     0     0     0\n",
            "     0     0     0     0     0     0     0     0     0     0     0     0\n",
            "     0     0     0     0     0     0     0     0     0     0     0     0\n",
            "     0     0     0]\n",
            "(200, 51)\n"
          ],
          "name": "stdout"
        }
      ]
    },
    {
      "cell_type": "markdown",
      "metadata": {
        "id": "-IWMfHDq136d"
      },
      "source": [
        "# SVM classifier"
      ]
    },
    {
      "cell_type": "code",
      "metadata": {
        "id": "O2NVZ3q5-u6Q"
      },
      "source": [
        "from sklearn import model_selection\n",
        "from sklearn import svm\n",
        "from sklearn.model_selection import cross_val_score"
      ],
      "execution_count": 41,
      "outputs": []
    },
    {
      "cell_type": "code",
      "metadata": {
        "colab": {
          "base_uri": "https://localhost:8080/"
        },
        "id": "Ni6XIbKR-ZHL",
        "outputId": "5f4e0495-043b-4e5f-a94e-dbe7fc5d5c91"
      },
      "source": [
        "classifier = svm.LinearSVC()\n",
        "classifier.fit(bert_X_train, y_train)"
      ],
      "execution_count": 42,
      "outputs": [
        {
          "output_type": "execute_result",
          "data": {
            "text/plain": [
              "LinearSVC(C=1.0, class_weight=None, dual=True, fit_intercept=True,\n",
              "          intercept_scaling=1, loss='squared_hinge', max_iter=1000,\n",
              "          multi_class='ovr', penalty='l2', random_state=None, tol=0.0001,\n",
              "          verbose=0)"
            ]
          },
          "metadata": {
            "tags": []
          },
          "execution_count": 42
        }
      ]
    },
    {
      "cell_type": "code",
      "metadata": {
        "id": "aaaWyIrM-yTk"
      },
      "source": [
        "y_pred = list(classifier.predict(bert_X_test))\n"
      ],
      "execution_count": 43,
      "outputs": []
    },
    {
      "cell_type": "code",
      "metadata": {
        "colab": {
          "base_uri": "https://localhost:8080/"
        },
        "id": "K3BWa_tMILUf",
        "outputId": "fbc8a6b9-3624-49cf-d1b7-5cbef6dfe0ad"
      },
      "source": [
        "print(X_test[1:10])"
      ],
      "execution_count": 44,
      "outputs": [
        {
          "output_type": "stream",
          "text": [
            "1777    in the new release of cinema paradiso the tale...\n",
            "1196    to build a feel good fantasy around a vain dic...\n",
            "1468    this quiet introspective and entertaining inde...\n",
            "1598    this is an ungainly movie ill fitting with its...\n",
            "1395    it s about as convincing as any other arnie mu...\n",
            "607                overwrought melodramatic bodice ripper\n",
            "1394    anyone who welcomes a dash of the avant garde ...\n",
            "62      it s a square sentimental drama that satisfies...\n",
            "1296                         david spade as citizen kane \n",
            "Name: cleaned_sentences, dtype: object\n"
          ],
          "name": "stdout"
        }
      ]
    },
    {
      "cell_type": "code",
      "metadata": {
        "colab": {
          "base_uri": "https://localhost:8080/"
        },
        "id": "rf9ygFFVGfOf",
        "outputId": "d70e79ef-2ce2-427e-bd45-d83e2a232717"
      },
      "source": [
        "print(y_test[1:10])\n",
        "print(y_pred[1:10])\n"
      ],
      "execution_count": 45,
      "outputs": [
        {
          "output_type": "stream",
          "text": [
            "1777    Not Affected\n",
            "1196        Affected\n",
            "1468    Not Affected\n",
            "1598        Affected\n",
            "1395        Affected\n",
            "607         Affected\n",
            "1394    Not Affected\n",
            "62      Not Affected\n",
            "1296        Affected\n",
            "Name: labels, dtype: object\n",
            "['Not Affected', 'Affected', 'Not Affected', 'Affected', 'Affected', 'Affected', 'Not Affected', 'Not Affected', 'Not Affected']\n"
          ],
          "name": "stdout"
        }
      ]
    },
    {
      "cell_type": "markdown",
      "metadata": {
        "id": "VmitHOOlTgwm"
      },
      "source": [
        "# **TESTING INPUT DATA**"
      ]
    },
    {
      "cell_type": "markdown",
      "metadata": {
        "id": "XFjU0ZiVTm_4"
      },
      "source": [
        "# **# Confusion matrix**"
      ]
    },
    {
      "cell_type": "code",
      "metadata": {
        "colab": {
          "base_uri": "https://localhost:8080/"
        },
        "id": "XBqhmGd1_X8u",
        "outputId": "a4fd1da9-fab0-4f41-b6c2-b5be9a5d5a4b"
      },
      "source": [
        "\n",
        "from sklearn.metrics import confusion_matrix, classification_report, accuracy_score\n",
        "cm = confusion_matrix(y_test, y_pred)\n",
        "cr = classification_report(y_test, y_pred)\n",
        "\n",
        "\n",
        "# print('Training score:',classifier.score(X_train, y_train))\n",
        "test_accuracy = accuracy_score(y_test, y_pred)\n",
        "print(\"Test accuracy:\" , test_accuracy)\n",
        "print('\\n')\n",
        "print(cr)"
      ],
      "execution_count": 46,
      "outputs": [
        {
          "output_type": "stream",
          "text": [
            "Test accuracy: 0.825\n",
            "\n",
            "\n",
            "              precision    recall  f1-score   support\n",
            "\n",
            "    Affected       0.81      0.82      0.82        96\n",
            "Not Affected       0.83      0.83      0.83       104\n",
            "\n",
            "    accuracy                           0.82       200\n",
            "   macro avg       0.82      0.82      0.82       200\n",
            "weighted avg       0.83      0.82      0.83       200\n",
            "\n"
          ],
          "name": "stdout"
        }
      ]
    },
    {
      "cell_type": "code",
      "metadata": {
        "id": "uTqtWsqUBCaj"
      },
      "source": [
        "from sklearn.metrics import confusion_matrix,classification_report,accuracy_score\n",
        "from mlxtend.plotting import plot_confusion_matrix\n",
        "import matplotlib.pyplot as plt"
      ],
      "execution_count": 47,
      "outputs": []
    },
    {
      "cell_type": "code",
      "metadata": {
        "colab": {
          "base_uri": "https://localhost:8080/",
          "height": 598
        },
        "id": "gcn9W0dfP3SB",
        "outputId": "cb4a8dc8-b66d-456f-a75d-4b2e70cb3e36"
      },
      "source": [
        "cm = confusion_matrix(y_test, y_pred)\n",
        "plt.figure()\n",
        "plot_confusion_matrix(cm,figsize=(12,8), hide_ticks=True,cmap=plt.cm.Reds)\n",
        "plt.xticks(range(len(pd.unique(df['Labels']))), df['Labels'], fontsize=15)\n",
        "plt.yticks(range(len(pd.unique(df['Labels']))), df['Labels'], fontsize=15)\n",
        "plt.xticks(rotation=90)\n",
        "plt.show()"
      ],
      "execution_count": 48,
      "outputs": [
        {
          "output_type": "display_data",
          "data": {
            "text/plain": [
              "<Figure size 432x288 with 0 Axes>"
            ]
          },
          "metadata": {
            "tags": []
          }
        },
        {
          "output_type": "display_data",
          "data": {
            "image/png": "[encoded data removed]",
            "text/plain": [
              "<Figure size 864x576 with 1 Axes>"
            ]
          },
          "metadata": {
            "tags": [],
            "needs_background": "light"
          }
        }
      ]
    },
    {
      "cell_type": "markdown",
      "metadata": {
        "id": "s1m1GjcAS_e9"
      },
      "source": [
        "## **TOKENIZER FOR TESTING**"
      ]
    },
    {
      "cell_type": "code",
      "metadata": {
        "id": "pWKKDvl_XgNL"
      },
      "source": [
        "def predict_tokenizer(series):\n",
        "  tokenized_predict = series.apply((lambda x: tokenizer.encode(x, add_special_tokens=True)))\n",
        "  max_len = 0\n",
        "  for i in tokenized_predict.values:\n",
        "      if len(i) > max_len:\n",
        "          max_len = len(i)\n",
        "\n",
        "  padded1 = np.array([i + [0]*(max_len-len(i)) for i in tokenized_predict.values])\n",
        "  attention_mask1 = np.where(padded1 != 0, 1, 0)\n",
        "  input_ids1 = torch.tensor(padded1)  \n",
        "  attention_mask1 = torch.tensor(attention_mask1)\n",
        "\n",
        "  with torch.no_grad():\n",
        "    last_hidden_states1 = model(input_ids1, attention_mask=attention_mask1)  \n",
        "  features1 = last_hidden_states1[0][:,0,:].numpy()\n",
        "  label1 = classifier.predict(features1)\n",
        "  return label1[0]"
      ],
      "execution_count": 51,
      "outputs": []
    },
    {
      "cell_type": "markdown",
      "metadata": {
        "id": "XyxPPIHTxYsj"
      },
      "source": [
        "# **Testing Data**"
      ]
    },
    {
      "cell_type": "code",
      "metadata": {
        "id": "XlKNkOsRuUWa"
      },
      "source": [
        "# sentence = str(input('Enter sentence: '))\n",
        "# series = pd.Series(sentence)\n",
        "# Predict_features = predict_tokenizer(series)\n",
        "# print(Predict_features)"
      ],
      "execution_count": 50,
      "outputs": []
    },
    {
      "cell_type": "code",
      "metadata": {
        "id": "NFK313715Inz"
      },
      "source": [
        "df_test = pd.read_excel('Precautions.xlsx')\n"
      ],
      "execution_count": 70,
      "outputs": []
    },
    {
      "cell_type": "markdown",
      "metadata": {
        "id": "9B1ilzdd6Aww"
      },
      "source": [
        "# Using only 2000 rows"
      ]
    },
    {
      "cell_type": "code",
      "metadata": {
        "id": "NsfeUHO-5v8u"
      },
      "source": [
        "df_test = df_test[['content']].head(2000)"
      ],
      "execution_count": 78,
      "outputs": []
    },
    {
      "cell_type": "code",
      "metadata": {
        "colab": {
          "base_uri": "https://localhost:8080/"
        },
        "id": "YT4992Ff5-A1",
        "outputId": "7a5e9d1b-d1d6-4306-e25d-ec09f88664b5"
      },
      "source": [
        "df_test.shape"
      ],
      "execution_count": 79,
      "outputs": [
        {
          "output_type": "execute_result",
          "data": {
            "text/plain": [
              "(2000, 1)"
            ]
          },
          "metadata": {
            "tags": []
          },
          "execution_count": 79
        }
      ]
    },
    {
      "cell_type": "code",
      "metadata": {
        "colab": {
          "base_uri": "https://localhost:8080/"
        },
        "id": "b5lbX1q-7HPJ",
        "outputId": "027a3178-fcc3-47ae-82b3-3c2b6f0f9ee7"
      },
      "source": [
        "cleaned_sentences = clean_data(list(df_test['content']))\n",
        "cleaned_sentences[0:10]"
      ],
      "execution_count": 84,
      "outputs": [
        {
          "output_type": "execute_result",
          "data": {
            "text/plain": [
              "['update temperatures overnight and into tomorrow afternoon have warmed up slightly overnight lows are in the s and s while tomorrow s afternoon highs will be in the s and s url',\n",
              " ' url',\n",
              " 'nws fcst thisafternoonsunny hi f tonightmstly cloudy then patchy fog lo f sunmstly cloudy then slight chc light rain hi f url ',\n",
              " ' url',\n",
              " 'good advice for those in the counties the major disaster declaration declared covers but we re still not sure what will happen to the impacted counties he forgot about url url',\n",
              " ' url',\n",
              " ' url',\n",
              " ' url',\n",
              " 'it won t be near as cold tonight we will avoid dropping into the s for the first time in nearly two weeks url',\n",
              " 'patchy fog and light drizzle sunday morning a cold front sunday afternoon brings low rain chances and strong wind gusts but plenty of sunshine this week with temps in the s and s full forecast url live stream url url']"
            ]
          },
          "metadata": {
            "tags": []
          },
          "execution_count": 84
        }
      ]
    },
    {
      "cell_type": "code",
      "metadata": {
        "id": "C9jIaTZzXLR3"
      },
      "source": [
        "predict_list = []\n",
        "for i in cleaned_sentences:\n",
        "    # print(i)\n",
        "    series = pd.Series(i)\n",
        "    predicted_intent = predict_tokenizer(series)\n",
        "    predict_list.append(predicted_intent)\n",
        "    \n",
        "    \n",
        "    "
      ],
      "execution_count": 87,
      "outputs": []
    },
    {
      "cell_type": "code",
      "metadata": {
        "colab": {
          "base_uri": "https://localhost:8080/"
        },
        "id": "snzvr0my6K-1",
        "outputId": "98447509-3da5-490f-9ef3-10e9a2a4bfac"
      },
      "source": [
        "predict_list[0:10]"
      ],
      "execution_count": 90,
      "outputs": [
        {
          "output_type": "execute_result",
          "data": {
            "text/plain": [
              "['Affected',\n",
              " 'Not Affected',\n",
              " 'Affected',\n",
              " 'Not Affected',\n",
              " 'Affected',\n",
              " 'Not Affected',\n",
              " 'Not Affected',\n",
              " 'Not Affected',\n",
              " 'Not Affected',\n",
              " 'Affected']"
            ]
          },
          "metadata": {
            "tags": []
          },
          "execution_count": 90
        }
      ]
    },
    {
      "cell_type": "code",
      "metadata": {
        "id": "IiN_6Y-o3Y1P"
      },
      "source": [
        "df_test['sentiment'] = predict_list"
      ],
      "execution_count": 91,
      "outputs": []
    },
    {
      "cell_type": "code",
      "metadata": {
        "colab": {
          "base_uri": "https://localhost:8080/",
          "height": 356
        },
        "id": "B4AhsLXJ8h6L",
        "outputId": "1c0e9e92-c2df-4708-9db7-d7c170cd3e6a"
      },
      "source": [
        "df_test.head(10)"
      ],
      "execution_count": 92,
      "outputs": [
        {
          "output_type": "execute_result",
          "data": {
            "text/html": [
              "<div>\n",
              "<style scoped>\n",
              "    .dataframe tbody tr th:only-of-type {\n",
              "        vertical-align: middle;\n",
              "    }\n",
              "\n",
              "    .dataframe tbody tr th {\n",
              "        vertical-align: top;\n",
              "    }\n",
              "\n",
              "    .dataframe thead th {\n",
              "        text-align: right;\n",
              "    }\n",
              "</style>\n",
              "<table border=\"1\" class=\"dataframe\">\n",
              "  <thead>\n",
              "    <tr style=\"text-align: right;\">\n",
              "      <th></th>\n",
              "      <th>content</th>\n",
              "      <th>sentiment</th>\n",
              "    </tr>\n",
              "  </thead>\n",
              "  <tbody>\n",
              "    <tr>\n",
              "      <th>0</th>\n",
              "      <td>Update: Temperatures overnight and into tomorr...</td>\n",
              "      <td>Affected</td>\n",
              "    </tr>\n",
              "    <tr>\n",
              "      <th>1</th>\n",
              "      <td>👀 #txwx https://t.co/0ABcjEgjQd</td>\n",
              "      <td>Not Affected</td>\n",
              "    </tr>\n",
              "    <tr>\n",
              "      <th>2</th>\n",
              "      <td>NWS fcst: ThisAfternoonSunny : , Hi 59°F; Toni...</td>\n",
              "      <td>Affected</td>\n",
              "    </tr>\n",
              "    <tr>\n",
              "      <th>3</th>\n",
              "      <td>* #TEXAS: #winterstorm2021 #winterstorm2021 \\n...</td>\n",
              "      <td>Not Affected</td>\n",
              "    </tr>\n",
              "    <tr>\n",
              "      <th>4</th>\n",
              "      <td>Good advice for those in the 77 counties the M...</td>\n",
              "      <td>Affected</td>\n",
              "    </tr>\n",
              "    <tr>\n",
              "      <th>5</th>\n",
              "      <td>* #TEXAS: #winterstorm2021 #winterstorm2021 \\n...</td>\n",
              "      <td>Not Affected</td>\n",
              "    </tr>\n",
              "    <tr>\n",
              "      <th>6</th>\n",
              "      <td>* @GovAbbott @GregAbbott_TX\\n#Texas #AngelinaC...</td>\n",
              "      <td>Not Affected</td>\n",
              "    </tr>\n",
              "    <tr>\n",
              "      <th>7</th>\n",
              "      <td>*#TEXAS / #EastTexas:  #WinterStorm #Snow\\n-#L...</td>\n",
              "      <td>Not Affected</td>\n",
              "    </tr>\n",
              "    <tr>\n",
              "      <th>8</th>\n",
              "      <td>It won't be near as cold tonight! We will avoi...</td>\n",
              "      <td>Not Affected</td>\n",
              "    </tr>\n",
              "    <tr>\n",
              "      <th>9</th>\n",
              "      <td>Patchy fog and light drizzle Sunday morning. A...</td>\n",
              "      <td>Affected</td>\n",
              "    </tr>\n",
              "  </tbody>\n",
              "</table>\n",
              "</div>"
            ],
            "text/plain": [
              "                                             content     sentiment\n",
              "0  Update: Temperatures overnight and into tomorr...      Affected\n",
              "1                    👀 #txwx https://t.co/0ABcjEgjQd  Not Affected\n",
              "2  NWS fcst: ThisAfternoonSunny : , Hi 59°F; Toni...      Affected\n",
              "3  * #TEXAS: #winterstorm2021 #winterstorm2021 \\n...  Not Affected\n",
              "4  Good advice for those in the 77 counties the M...      Affected\n",
              "5  * #TEXAS: #winterstorm2021 #winterstorm2021 \\n...  Not Affected\n",
              "6  * @GovAbbott @GregAbbott_TX\\n#Texas #AngelinaC...  Not Affected\n",
              "7  *#TEXAS / #EastTexas:  #WinterStorm #Snow\\n-#L...  Not Affected\n",
              "8  It won't be near as cold tonight! We will avoi...  Not Affected\n",
              "9  Patchy fog and light drizzle Sunday morning. A...      Affected"
            ]
          },
          "metadata": {
            "tags": []
          },
          "execution_count": 92
        }
      ]
    },
    {
      "cell_type": "code",
      "metadata": {
        "id": "k_E0u1Q58qbt"
      },
      "source": [
        "\n",
        "data_count = df_test.groupby('sentiment').count()\n"
      ],
      "execution_count": 93,
      "outputs": []
    },
    {
      "cell_type": "code",
      "metadata": {
        "id": "eMVPaxWvRSCg",
        "colab": {
          "base_uri": "https://localhost:8080/"
        },
        "outputId": "d57f1e01-8549-4ee2-87f0-21cc18d66fee"
      },
      "source": [
        "data_count['content']"
      ],
      "execution_count": 94,
      "outputs": [
        {
          "output_type": "execute_result",
          "data": {
            "text/plain": [
              "sentiment\n",
              "Affected        1376\n",
              "Not Affected     624\n",
              "Name: content, dtype: int64"
            ]
          },
          "metadata": {
            "tags": []
          },
          "execution_count": 94
        }
      ]
    },
    {
      "cell_type": "code",
      "metadata": {
        "id": "BvjDJuxeXB6r",
        "colab": {
          "base_uri": "https://localhost:8080/",
          "height": 348
        },
        "outputId": "3e278a9f-129e-488e-d5b3-a4875ced9caa"
      },
      "source": [
        "plt.bar(data_count.index.values,data_count['content'])\n",
        "plt.title('Description with Type')\n",
        "plt.xlabel('People got affected by the storm')\n",
        "plt.ylabel('Number of People')\n",
        "plt.plot()\n",
        "plt.xticks(rotation=90)\n",
        "plt.show()"
      ],
      "execution_count": 95,
      "outputs": [
        {
          "output_type": "display_data",
          "data": {
            "image/png": "[encoded data removed]",
            "text/plain": [
              "<Figure size 432x288 with 1 Axes>"
            ]
          },
          "metadata": {
            "tags": [],
            "needs_background": "light"
          }
        }
      ]
    },
    {
      "cell_type": "code",
      "metadata": {
        "id": "o-Iwxv5JRwUr"
      },
      "source": [
        ""
      ],
      "execution_count": null,
      "outputs": []
    }
  ]
}