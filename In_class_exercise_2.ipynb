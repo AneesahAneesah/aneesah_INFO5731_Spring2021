{
  "nbformat": 4,
  "nbformat_minor": 0,
  "metadata": {
    "colab": {
      "name": "In_class_exercise_2.ipynb",
      "provenance": [],
      "authorship_tag": "ABX9TyMVpOpFeOgSHpmlDRoJfDcp",
      "include_colab_link": true
    },
    "kernelspec": {
      "name": "python3",
      "display_name": "Python 3"
    }
  },
  "cells": [
    {
      "cell_type": "markdown",
      "metadata": {
        "id": "view-in-github",
        "colab_type": "text"
      },
      "source": [
        "<a href=\"https://colab.research.google.com/github/AneesahAneesah/aneesah_INFO5731_Spring2021/blob/main/In_class_exercise_2.ipynb\" target=\"_parent\"><img src=\"https://colab.research.google.com/assets/colab-badge.svg\" alt=\"Open In Colab\"/></a>"
      ]
    },
    {
      "cell_type": "markdown",
      "metadata": {
        "id": "p_d6RCrDslQC"
      },
      "source": [
        " Write a Python program to find the duplicate elements in a given array of integers. Return -1 If there are no such elements."
      ]
    },
    {
      "cell_type": "code",
      "metadata": {
        "colab": {
          "base_uri": "https://localhost:8080/"
        },
        "id": "eKABj9X5SgVP",
        "outputId": "2e5f453e-40fb-4d9a-a81f-3242546dd7ae"
      },
      "source": [
        "import collections\r\n",
        "\r\n",
        "def printDuplicates(arr):\r\n",
        "        print(\"Duplicates in given array are:\")\r\n",
        "        duplicates = [x for x, count in collections.Counter(arr).items() if count > 1]\r\n",
        "        if len(duplicates) > 0:\r\n",
        "                print(duplicates)\r\n",
        "        else:\r\n",
        "                print(-1)\r\n",
        "\t\r\n",
        "isRun = \"\"\r\n",
        "while isRun.lower() != \"n\":\r\n",
        "\tarrayList = []\r\n",
        "\tn = int(input(\"Enter number of elements in an array: \"))\r\n",
        "\t\r\n",
        "\tfor i in range(0, n):\r\n",
        "\t\tval = int(input(\"Enter array element \" + str(i+1) + \": \"))\r\n",
        "\t\tarrayList.append(val)\r\n",
        "\t\t\r\n",
        "\tprintDuplicates(arrayList)\r\n",
        "\tisRun =input(\"Enter n to exit the program or enter any key to run the program: \")\r\n",
        "\tprint(isRun)\r\n"
      ],
      "execution_count": null,
      "outputs": [
        {
          "output_type": "stream",
          "text": [
            "Enter number of elements in an array: 5\n",
            "Enter array element 1: 5\n",
            "Enter array element 2: 2\n",
            "Enter array element 3: 4\n",
            "Enter array element 4: 2\n",
            "Enter array element 5: 8\n",
            "Duplicates in given array are:\n",
            "[2]\n",
            "Enter n to exit the program or enter any key to run the program:  \n",
            " \n",
            "Enter number of elements in an array: 9\n",
            "Enter array element 1: 45\n",
            "Enter array element 2: 48\n",
            "Enter array element 3: 25\n",
            "Enter array element 4: 45\n",
            "Enter array element 5: 45\n",
            "Enter array element 6: 78\n",
            "Enter array element 7: 49\n",
            "Enter array element 8: 45\n",
            "Enter array element 9: 75\n",
            "Duplicates in given array are:\n",
            "[45]\n",
            "Enter n to exit the program or enter any key to run the program: 4\n",
            "4\n",
            "Enter number of elements in an array: 4\n",
            "Enter array element 1: 1\n",
            "Enter array element 2: 2\n",
            "Enter array element 3: 3\n",
            "Enter array element 4: 4\n",
            "Duplicates in given array are:\n",
            "-1\n",
            "Enter n to exit the program or enter any key to run the program: n\n",
            "n\n"
          ],
          "name": "stdout"
        }
      ]
    },
    {
      "cell_type": "markdown",
      "metadata": {
        "id": "eP8kJAiLsjgt"
      },
      "source": [
        "Write a Python program to select all the Sundays of a specified year."
      ]
    },
    {
      "cell_type": "code",
      "metadata": {
        "colab": {
          "base_uri": "https://localhost:8080/"
        },
        "id": "OEawNiyfT05w",
        "outputId": "3e2bd1e7-3711-416d-ce12-d2ba014a4247"
      },
      "source": [
        "#python dates are available and can be used using certain derivatives\r\n",
        "#importing date from datetime module\r\n",
        "from datetime import date\r\n",
        "#the input could be any year, so include calender module \r\n",
        "\r\n",
        "import calendar\r\n",
        "Year= 1994\r\n",
        "\r\n",
        "#select the dates of a sunday in the year. So use SUNDAY\r\n",
        "\r\n",
        "A=calendar.TextCalendar(calendar.SUNDAY)\r\n",
        "\r\n",
        "#two for loops are used\r\n",
        "\r\n",
        "for week_sun in range(1,13):\r\n",
        "    for i in A.itermonthdays(Year,week_sun):\r\n",
        "        if i!=0:\r\n",
        "            day=date(Year,week_sun,i)\r\n",
        "            if day.weekday()==6:\r\n",
        "\r\n",
        "                #%s is used to print a string and %d used to print an integer\r\n",
        "\r\n",
        "                print(\"%s,\\t%d-%d-%d\" % (calendar.day_name[6] ,i,week_sun,Year))\r\n"
      ],
      "execution_count": null,
      "outputs": [
        {
          "output_type": "stream",
          "text": [
            "Sunday,\t2-1-1994\n",
            "Sunday,\t9-1-1994\n",
            "Sunday,\t16-1-1994\n",
            "Sunday,\t23-1-1994\n",
            "Sunday,\t30-1-1994\n",
            "Sunday,\t6-2-1994\n",
            "Sunday,\t13-2-1994\n",
            "Sunday,\t20-2-1994\n",
            "Sunday,\t27-2-1994\n",
            "Sunday,\t6-3-1994\n",
            "Sunday,\t13-3-1994\n",
            "Sunday,\t20-3-1994\n",
            "Sunday,\t27-3-1994\n",
            "Sunday,\t3-4-1994\n",
            "Sunday,\t10-4-1994\n",
            "Sunday,\t17-4-1994\n",
            "Sunday,\t24-4-1994\n",
            "Sunday,\t1-5-1994\n",
            "Sunday,\t8-5-1994\n",
            "Sunday,\t15-5-1994\n",
            "Sunday,\t22-5-1994\n",
            "Sunday,\t29-5-1994\n",
            "Sunday,\t5-6-1994\n",
            "Sunday,\t12-6-1994\n",
            "Sunday,\t19-6-1994\n",
            "Sunday,\t26-6-1994\n",
            "Sunday,\t3-7-1994\n",
            "Sunday,\t10-7-1994\n",
            "Sunday,\t17-7-1994\n",
            "Sunday,\t24-7-1994\n",
            "Sunday,\t31-7-1994\n",
            "Sunday,\t7-8-1994\n",
            "Sunday,\t14-8-1994\n",
            "Sunday,\t21-8-1994\n",
            "Sunday,\t28-8-1994\n",
            "Sunday,\t4-9-1994\n",
            "Sunday,\t11-9-1994\n",
            "Sunday,\t18-9-1994\n",
            "Sunday,\t25-9-1994\n",
            "Sunday,\t2-10-1994\n",
            "Sunday,\t9-10-1994\n",
            "Sunday,\t16-10-1994\n",
            "Sunday,\t23-10-1994\n",
            "Sunday,\t30-10-1994\n",
            "Sunday,\t6-11-1994\n",
            "Sunday,\t13-11-1994\n",
            "Sunday,\t20-11-1994\n",
            "Sunday,\t27-11-1994\n",
            "Sunday,\t4-12-1994\n",
            "Sunday,\t11-12-1994\n",
            "Sunday,\t18-12-1994\n",
            "Sunday,\t25-12-1994\n"
          ],
          "name": "stdout"
        }
      ]
    },
    {
      "cell_type": "markdown",
      "metadata": {
        "id": "4AtG6Zaks0-T"
      },
      "source": [
        "Write a program to read all the txt files and save the sentences in all the files into one csv file with two columns, the first column is sentence id (txt file name+sentence line number), the second column is the sentence text content. \r\n",
        "Remove all the punctuations from the sentences, save the processed sentences into a new column in the same csv file. \r\n",
        "Ask the user to enter a word, return all the sentences that include this word, three kinds of information should be returned: sentence id, sentence text content, the count that user input word appear in the sentence."
      ]
    },
    {
      "cell_type": "code",
      "metadata": {
        "id": "XpC0tlDIs_q7"
      },
      "source": [
        ""
      ],
      "execution_count": null,
      "outputs": []
    },
    {
      "cell_type": "markdown",
      "metadata": {
        "id": "NPjAg7Puzpcn"
      },
      "source": [
        "Installing Packages\r\n"
      ]
    },
    {
      "cell_type": "code",
      "metadata": {
        "colab": {
          "base_uri": "https://localhost:8080/"
        },
        "id": "56xVd7mymyro",
        "outputId": "066bf7a7-97fd-46fb-ad85-abf24b9746a9"
      },
      "source": [
        "!pip install textblob\r\n",
        "from textblob import TextBlob\r\n",
        "\r\n",
        "pck = TextBlob(\"Python is a high-level, general-purpose programming language.\")\r\n",
        "print(pck)\r\n",
        "\r\n",
        "b = TextBlob(\"I caan spel goood.!\")\r\n",
        "print(b.correct())\r\n"
      ],
      "execution_count": null,
      "outputs": [
        {
          "output_type": "stream",
          "text": [
            "Requirement already satisfied: textblob in /usr/local/lib/python3.6/dist-packages (0.15.3)\n",
            "Requirement already satisfied: nltk>=3.1 in /usr/local/lib/python3.6/dist-packages (from textblob) (3.2.5)\n",
            "Requirement already satisfied: six in /usr/local/lib/python3.6/dist-packages (from nltk>=3.1->textblob) (1.15.0)\n",
            "Python is a high-level, general-purpose programming language.\n",
            "I can spell good.!\n"
          ],
          "name": "stdout"
        }
      ]
    },
    {
      "cell_type": "code",
      "metadata": {
        "colab": {
          "base_uri": "https://localhost:8080/"
        },
        "id": "Po5uGMvpthU9",
        "outputId": "e8d6e410-ee4a-484d-db73-bde28ed912c8"
      },
      "source": [
        "! pip install nltk\r\n",
        "\r\n",
        "#importing tweet tokenizer from nltk\r\n",
        "\r\n",
        "from nltk.tokenize import TweetTokenizer\r\n",
        "tokenizer_twt = TweetTokenizer()\r\n",
        "tkn = \"Check package installation nltk\"\r\n",
        "print(tokenizer_twt.tokenize(tkn))\r\n"
      ],
      "execution_count": null,
      "outputs": [
        {
          "output_type": "stream",
          "text": [
            "Requirement already satisfied: nltk in /usr/local/lib/python3.6/dist-packages (3.2.5)\n",
            "Requirement already satisfied: six in /usr/local/lib/python3.6/dist-packages (from nltk) (1.15.0)\n",
            "['Check', 'package', 'installation', 'nltk']\n"
          ],
          "name": "stdout"
        }
      ]
    },
    {
      "cell_type": "code",
      "metadata": {
        "colab": {
          "base_uri": "https://localhost:8080/"
        },
        "id": "iuNZNe0Qt9JZ",
        "outputId": "af9223e8-9fff-41f5-95d4-88847ae0e1b4"
      },
      "source": [
        "! pip install numpy\r\n",
        "\r\n",
        "import numpy as num_py\r\n",
        "#random fn gives a random number\r\n",
        "\r\n",
        "random = np.random.random()\r\n",
        "print(random)\r\n"
      ],
      "execution_count": 46,
      "outputs": [
        {
          "output_type": "stream",
          "text": [
            "Requirement already satisfied: numpy in /usr/local/lib/python3.6/dist-packages (1.19.5)\n",
            "0.5233071367674587\n"
          ],
          "name": "stdout"
        }
      ]
    },
    {
      "cell_type": "code",
      "metadata": {
        "colab": {
          "base_uri": "https://localhost:8080/"
        },
        "id": "7VnD6lCXv6DY",
        "outputId": "a81ab028-3e9c-4203-d4d5-326dc44bc790"
      },
      "source": [
        "! pip install pandas\r\n",
        "\r\n",
        "import pandas as pan_da\r\n",
        "d = {'c1': [5,6], 'c2': [4,5]}\r\n",
        "data_frame = pd.DataFrame(data=d)\r\n",
        "print(data_frame)\r\n"
      ],
      "execution_count": 45,
      "outputs": [
        {
          "output_type": "stream",
          "text": [
            "Requirement already satisfied: pandas in /usr/local/lib/python3.6/dist-packages (1.1.5)\n",
            "Requirement already satisfied: python-dateutil>=2.7.3 in /usr/local/lib/python3.6/dist-packages (from pandas) (2.8.1)\n",
            "Requirement already satisfied: numpy>=1.15.4 in /usr/local/lib/python3.6/dist-packages (from pandas) (1.19.5)\n",
            "Requirement already satisfied: pytz>=2017.2 in /usr/local/lib/python3.6/dist-packages (from pandas) (2018.9)\n",
            "Requirement already satisfied: six>=1.5 in /usr/local/lib/python3.6/dist-packages (from python-dateutil>=2.7.3->pandas) (1.15.0)\n",
            "   c1  c2\n",
            "0   5   4\n",
            "1   6   5\n"
          ],
          "name": "stdout"
        }
      ]
    }
  ]
}