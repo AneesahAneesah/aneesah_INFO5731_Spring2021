{
  "nbformat": 4,
  "nbformat_minor": 0,
  "metadata": {
    "colab": {
      "name": "In_class_exercise_4.ipynb",
      "provenance": [],
      "authorship_tag": "ABX9TyM7R4iYwnR/x4VCiUt4Lgxd",
      "include_colab_link": true
    },
    "kernelspec": {
      "name": "python3",
      "display_name": "Python 3"
    }
  },
  "cells": [
    {
      "cell_type": "markdown",
      "metadata": {
        "id": "view-in-github",
        "colab_type": "text"
      },
      "source": [
        "<a href=\"https://colab.research.google.com/github/AneesahAneesah/aneesah_INFO5731_Spring2021/blob/main/In_class_exercise_4.ipynb\" target=\"_parent\"><img src=\"https://colab.research.google.com/assets/colab-badge.svg\" alt=\"Open In Colab\"/></a>"
      ]
    },
    {
      "cell_type": "code",
      "metadata": {
        "id": "2IRsbstGamxl"
      },
      "source": [
        "!mkdir data"
      ],
      "execution_count": 1,
      "outputs": []
    },
    {
      "cell_type": "code",
      "metadata": {
        "colab": {
          "resources": {
            "http://localhost:8080/nbextensions/google.colab/files.js": {
              "data": "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",
              "ok": true,
              "headers": [
                [
                  "content-type",
                  "application/javascript"
                ]
              ],
              "status": 200,
              "status_text": ""
            }
          },
          "base_uri": "https://localhost:8080/",
          "height": 73
        },
        "id": "0S3UQM7LcmmE",
        "outputId": "14c85a6e-3bd6-499e-d340-d47b3b256d0a"
      },
      "source": [
        "from google.colab import files\r\n",
        "uploaded = files.upload()"
      ],
      "execution_count": 39,
      "outputs": [
        {
          "output_type": "display_data",
          "data": {
            "text/html": [
              "\n",
              "     <input type=\"file\" id=\"files-8ef79494-35c2-49ad-82ff-64172ee001b0\" name=\"files[]\" multiple disabled\n",
              "        style=\"border:none\" />\n",
              "     <output id=\"result-8ef79494-35c2-49ad-82ff-64172ee001b0\">\n",
              "      Upload widget is only available when the cell has been executed in the\n",
              "      current browser session. Please rerun this cell to enable.\n",
              "      </output>\n",
              "      <script src=\"/nbextensions/google.colab/files.js\"></script> "
            ],
            "text/plain": [
              "<IPython.core.display.HTML object>"
            ]
          },
          "metadata": {
            "tags": []
          }
        },
        {
          "output_type": "stream",
          "text": [
            "Saving legalcase.txt to legalcase (1).txt\n"
          ],
          "name": "stdout"
        }
      ]
    },
    {
      "cell_type": "code",
      "metadata": {
        "colab": {
          "base_uri": "https://localhost:8080/"
        },
        "id": "6qyzbG6hdZwo",
        "outputId": "ea84580b-89db-4312-f509-37737934f804"
      },
      "source": [
        "uploaded"
      ],
      "execution_count": 40,
      "outputs": [
        {
          "output_type": "execute_result",
          "data": {
            "text/plain": [
              "{'legalcase.txt': b'\\r\\n5 Ala. 740\\r\\nSupreme Court of Alabama.\\r\\nADAMS\\r\\nv.\\r\\nTANNER AND HORTON.\\r\\nJune Term, 1843.\\r\\nSynopsis\\r\\nWRIT of Error to the Circuit Court of Sumter.\\r\\n\\xc2\\xa0\\r\\n\\r\\n\\r\\nWest Headnotes (2)\\r\\n\\r\\n\\r\\n[1]\\r\\nChattel Mortgages\\r\\nCrops\\r\\nA growing crop has such an existence as to be the subject-matter of a mortgage or other contract which passes an interest to vest in possession, either immediately or at a future time.\\r\\n4 Cases that cite this headnote\\r\\n\\r\\n[2]\\r\\nCreditors\\xe2\\x80\\x99 Remedies\\r\\nLien and Priority\\r\\nUnder St.1821, prohibiting a levy on a crop until it has been gathered, no lien attaches in favor of a fi. fa. on a growing crop, nor does such lien attach until after the crop has been gathered.\\r\\n5 Cases that cite this headnote\\r\\n\\r\\n**1 This was a trial of the right of property under the statute. In November, 1840, an execution issued from the circuit court of Sumter, at the suit of the plaintiff in error, requiring the sheriff of that county, to make of the goods, &c., of Allen Harrison and others, the sum of thirty-seven hundred and seventy-seven 80-100 dollars, besides costs. This execution was levied on thirty bales of cotton, as the property of Allen Harrison, which was claimed, and a bond given to try the right. An issue was made up to try the question of the liability of the cotton to the plaintiff\\xe2\\x80\\x99s execution, and submitted to a jury. On the trial, a bill of exceptions was sealed at the instance of the plaintiff. The plaintiff proved that he recovered his judgment in October, 1839; that an execution *741 was issued thereon on the 7th Nov. thereafter, and that alias and pluries fieri facias\\xe2\\x80\\x99, issued regularly up to the time levy was made; that the cotton levied on was growed on the plantation of Harrison, and cultivated by the hands in his service. It was proved by the claimants, by the production of a written contract, that Harrison, on the twenty-second of May, 1840, in consideration that the claimants were involved, as indorsers for Burton & Harrison of Sumter county, and were then exposed to an execution, amounting to upwards of fourteen thousand dollars, bargained and sold to the claimants all his growing crop of cotton &c., consisting of one hundred and twenty acres, &c. Allen Harrison promised and obliged himself to give up his crop to the use of the claimants at any time to save them from suffering as his indorsers; if the crop matured and was gathered he undertook to deliver the cotton in Gainesville. The claimants came from Tennessee, (where they resided) about the first of September, 1840, bringing with them three or four white laborers, and took possession of the crop and slaves, and with the latter, and white laborers, gathered the cotton, prepared it for market, and when levied on, it was in a ware-house in Gainesville. The plaintiff then proved by Harrison, that the claimants took possession of the crop, while he was absent, and disposed of it without his consent. It was admitted, that the contract was made in good faith.\\r\\nThe court charged the jury, that the plaintiff had no lien by virtue of his judgment, and execution on the growing crop; that Harrison had a right to convey it, without being in any manner restrained by them; that the writing adduced, was a sale of the crop, but if it was not, and the lien of the fieri facias would have attached upon it, when gathered, yet if the claimants obtained possession on the first of September, and controlled the gathering of the crop, then no lien attached, and it was not subject to the levy.\\r\\nAttorneys and Law Firms\\r\\nR. H. SMITH, for the plaintiff, in error, made the following points.--1. The crop of Harrison, must, in May, 1840, have been in an immature state, and it is insisted, was not the subject of a sale. 2. By the common law, a growing crop could be levied on and sold, [1 Salk. Rep. 361; 1 Bos. & P. Rep. 307; 6 East\\xe2\\x80\\x99s Rep. 604, note 1; 2 Johns. Rep. 418, 422; 7 Mass. Rep. 34,] and our statue, [[[Aik. Dig. \\xc2\\xa7 41, p. 167,] which forbids the levy of an *742 execution on a growing crop, is to receive a strict construction. It merely inhibits the levy, but the lien attaches, and a levy and sale may be made after the crop matures, and is gathered. 3. The contract does not purport to convey the growing crop, but is a mere executory agreement, requiring some act to be done by Harrison, in order to invest the claimants with the right of property. [Chit. on Con. 112, 207; 3 Johns. Rep. 338, 424; 5 Wend. Rep. 26; 13 Johns. Rep. 235; 8 Dowl. Rep, 693;] and until this act was done, the crop, no matter by who gathered, because liable to be seized for Harrison\\xe2\\x80\\x99s debts. A court of chancery would not compel a specific performance of the contract at the claimant\\xe2\\x80\\x99s instance. 4. The charge of the court is also objectionable in deciding disputed facts.\\r\\nW. M. MURPHY, with whom was W. G. JONES, for the defendant--cited the act of 1821, [Aik. Dig. 167,] which declares it to be lawful to levy an execution on a planted crop, until it is gathered, and contended that no lien attached in favor of the plaintiff. This being the case, the defendant in execution was not restrained from making the contract which he did with the claimants.\\r\\n**2 The lien of an execution is destroyed by an injunction, because it takes away the right to levy it. In short, whenever the right to levy an execution is but temporarily suspended, or withdrawn, the lien is during that time lost. [[[[Whipple v. Foot, 2 Johns. Rep. 216; 3 Wash. C. C. Rep. 66; 4 How. Rep. 130.]\\r\\nIt is admitted that the contract between the defendant in execution, and the claimants, was in good faith, if so, the severance and removal of the cotton gave the latter a good title against all creditors of the former.\\r\\nOpinion\\r\\n\\r\\nCOLLIER, C. J.\\r\\n\\r\\nThere can be no doubt that a growing crop has such an existence as to be the subject matter of a sale, mortgage, or other contract which possess an interest to vest in possession, either immediately or at some future time. This proposition has frequently been assumed as unquestionable; the point of inquiry generally being, whether under a statute of frauds, such as the 29 Chas. 2, it is a mere chattel, and transferrable by parol without writing. [Chitty on Con. 241-2, 332; Whipple v. Foot, 2 Johns. Rep. 422; Stewart v. Doughty, 9 Johns. Rep. 112; *743 Austin v. Sawyer, 9 Cow. Rep. 39. See also Ravesies v. Lee & Alston, at last term.] The contract set out in the bill of exceptions, we are inclined to think evidences rather a mortgage than an absolute sale. It recites that the claimants are involved as indorsers of a mercantile firm, of which the defendant was a partner; that an execution for upwards of fourteen thousand dollars against their estate, is in the sheriff\\xe2\\x80\\x99s hands, and that a conveyance is made of the crop of cotton, corn and oats, which the grantor agrees to give up at any time to the use of the claimants, so as to prevent injury to them as indorsers. The defendant in execution might at any time have divested the interest which the contract vested in the claimants, by discharging their liability as his indorsers, or a judgment creditor might have satisfied the lien, and when the crop was gathered, have levied on, and sold it under a fieri facias.\\r\\nWe will then consider the writing under which the claimants assert a right, as a mortgage with a power to take possession any time during the year, unless they should be relieved from their engagements as indorsers. It is not pretended that their liability has been satisfied, and it is admitted that the parties have acted with good faith, so that it is a dry question of law, whether the right of the plaintiff, or the claimants shall prevail. Assuming for the present that the execution of the plaintiffs did not operate a lien upon the planted crop previous to the contract of May, 1840, we will inquire whether the defendant in execution had such an interest as could be levied on and sold.\\r\\nThe claimants had previous to the levy of the execution taken possession of the crop, prepared the cotton for market, and removed it to a ware-house. This possession, it is insisted, was a trespass, because it was acquired in the absence of the defendant in execution, and without his consent then given. Conceding the truth of the facts stated in the bill of exceptions, and we think it will not follow, that the possession of the claimants is a nullity, and that the case must be considered as if they had never interfered with the crop. The contract contains an express undertaking to give up the crop at any time the claimants might require it for their indemnity, and if they took possession of it in the absence of the grantor, (though without his consent,) if he subsequently acquiesced in it, the inference would be, if necessary, that their acts were approved by him. Taking this to be clear *744 law, and it will be seen, that the defendant in execution at the time of the levy had nothing more than a mere equitable right to redeem the cotton by paying the debts indorsed by the claimants. He had no possession coupled with this equity, but only a naked equity, which it has been held cannot be reached by an ordinary execution. [Perkins and Elliott v. Mayfield, 5 Porter\\xe2\\x80\\x99s Rep. 182.]\\r\\n**3 This brings us back to the question, whether the execution of the plaintiff was a lien on the growing crop, so as to defeat the mortgage to the claimants. It has been frequently mooted whether, at common law, corn, &c., before it is gathered, can be seized under a fieri facias. Mr. Dane, in remarking upon this point, says, \\xe2\\x80\\x9cThe American editor of Bacon\\xe2\\x80\\x99s Abridgment, says, \\xe2\\x80\\x98Wheat growing in the ground is a chattel, and subject to be taken in execution; and the sheriff may suffer it to grow till harvest, and then cut and sell it; or may perhaps sell it growing, and the purchaser will then be entitled to enter, for the purpose of cutting and carrying it away.\\xe2\\x80\\x9d [He cites Whipple v. Foot, ut supra, also Poole\\xe2\\x80\\x99s case, Salk. 368; 1 Bos. & P. 397; 6 East, 604, n.] But Whipple v. Foot seems to be the only case that supports his position, that unripe wheat or corn may be taken in execution; and the same editor states that nothing can be taken in execution which cannot be sold. This position, says the learned commentator, is no doubt law. But it is unnecessary to consider how this matter stands at common law. The first section of the act of 1821, \\xe2\\x80\\x9cTo prevent sheriffs and other officers from levying executions in certain cases, enacts, that \\xe2\\x80\\x9cIt shall not be lawful for any sheriff or other officer, to levy a writ of fieri facias or other execution on the planted crop of a debtor, or person against whom an execution may issue, until the crop is gathered.\\xe2\\x80\\x9d [Aik. Dig. 167.] Now here is an express inhibition to levy an execution on a crop while it remains on, or in the ground, and until it is severed from the soil to which it owes its growth. In respect to property thus situated, will the lien of an execution attach eo instanti upon its being placed in the hands of an officer? If so, the act cited, will only have the effect of keeping the right to levy it in abeyance until the crop is gathered. The lien of an execution does, not only operate so as to prevent the debtor from disposing of the property on which it attaches, but gives to the creditor the right to have it sold to satisfy his *745 judgment. The lien and the right to levy are intimately connected, and if the latter be taken away, or suspended, the effect, at common law, is the destruction of the former. This principle is fully established by Mansony and Hurtell v. The President, &c. of the Bank of the United States, and its assignees, and the citations contained in the opinion of the court in that case, as also in my opinion in Wood v. Gary, et al., both decided at the last term. That it was competent for the legislature to have made it unlawful to levy an execution on particular property, until its condition was changed, and still to give it a continuing lien, cannot be doubted; but there is nothing in the act in question to indicate that such is its intention. If the object was merely to suspend the sale, until the crop was gathered, it would have been very easy to have said so in explicit terms, but declaring as the statute does, in totidem verbis, that the execution shall not be levied, the legislature must be supposed to have meant what they have expressed. The act was induced by the doubts which existed as to what was the common law, and was intended to remove those doubts by declaring what should be the law in future. It does not create a lien or authorize a levy in a case in which the law, as it then existed, was silent. The idea that the lien attached upon the planted crop as soon as the execution was delivered to the sheriff, though the right to levy it was postponed until a severance took place, is attempted to be deduced from the last words of the section cited, viz: \\xe2\\x80\\x9cuntil the crop is gathered.\\xe2\\x80\\x9d These words cannot, upon any just principles of construction be regarded so potent as to give to an execution a retrospective effect. They do not refer to the lien, if they did they would postpone it until the crop was gathered; but it is the levy they relate to and postpone until that event takes place.\\r\\n**4 The right to levy an execution on a planted crop, then, being expressly taken away by the statute, the lien which is connected with and consequent upon that right, never attaches until severance. This being the case, the right of the defendant in execution to make the contract which he did, is unquestionable, and the title of the claimants, coupled as it was with the possession, was paramount to any lien which the execution could exert.\\r\\nThe circuit judge may have mistaken the law in supposing that the contract was a sale, but if he did, an error in that respect was very immaterial, for whether a sale or mortgage, as we have *746 seen, under the facts of the case, the defendant in execution has no interest that could be seised and sold under execution. There is no assumption of any material fact in the charge; but the possession of the claimant, the time when acquired, the gathering of the crop, &c., are all referred to the determination of the jury; who are instructed, if they find them according to the evidence adduced, that no lien ever attached in favor of the plaintiff. The bona fides of the contract was conceded, so that no charge was necessary on that point, and it could not with propriety enter into the inquiry of the jury.\\r\\nIt results from what has been said, that the judgment of the circuit court is affirmed.\\r\\n\\r\\nDISSENTING OPINION.\\r\\n\\r\\nORMOND, J.\\r\\n**4 The statute which presents the question before the court is, that \\xe2\\x80\\x9cit shall not be lawful for any sheriff or other officer to levy a writ of fieei facias or other execution, on the planted crop of a debtor, or person against whom an execution may issue, until the crop is gathered.\\xe2\\x80\\x9d [Clay\\xe2\\x80\\x99s Dig. 210, \\xc2\\xa7 46.]\\r\\nI shall not enter upon the enquiry, whether, at common law, an execution could be levied upon a growing crop, though I apprehend, it would not be difficult to maintain the affirmative of the proposition. It is sufficient for my purpose, that the statute supposes such to have been the law, as it doubtless was the practice.\\r\\nThis act must be considered in connection with the other acts upon the same subject. The policy of the State, as indicated by these statutes, is undeniably that all the property of a debtor, real and personal, to which he has a legal title, shall be subject to sale by execution, and it appears to me that it would be difficult to assign a reason for the exemption of this species of property from the claims of judgment creditors, and for giving to the defendant in execution the right to dispose of it. It appears to me, with all deference, that the argument that because the sheriff was prohibited from levying on a \\xe2\\x80\\x9c\\xe2\\x80\\x9cplanted crop,\\xe2\\x80\\x9d that therefore the execution had lost its lien, and the debtor had the right to sell it, is a non sequitur. The mischief which the statute designed to remedy was, the sacrifice which would be necessarily made by the sale of an immature crop: the statute enables the debtor to retain it until it matures, and by severing it from the soil to put it *747 in a condition to bring its value--the lien in the mean time continuing in the plaintiff in execution.\\r\\n**5 If further confirmation of the correctness of this view were necessary, it will be found, I think, in the language employed by the legislature. The sheriff is forbidden to levy on a \\xe2\\x80\\x9cplanted crop\\xe2\\x80\\x9d until the crop is gathered. Now, if the view taken by the majority of the court, is correct, the right secured to the plaintiff in execution, of levying on the crop after it is gathered, may be frustrated, as it was in this case, by a sale by the defendant in execution, whilst the crop is in an immature state. The construction which has been put upon the statute, involves the singular anomaly, that the legislature, for the protection of the debtor, has forbidden the plaintiff in execution to sell the property of his debtor, because it is not in a condition to bring its value, and yet permits the debtor, voluntarily, by a sale, to submit to the same sacrifice, for his own benefit. It is, in effect, a gift to the defendant in execution, of the growing crop, provided he does not gather it himself, but disposes of it in its then condition. This, I feel a thorough conviction, was not the intention of the legislature; but that it was to secure him from loss, by prohibiting a levy and sale of the crop, until it was gathered, when the temporary suspension of the right to sell, ceased.\\r\\nAll Citations\\r\\n5 Ala. 740, 1843 WL 284\\r\\nEnd of Document\\r\\n\\xc2\\xa9 2019 Thomson Reuters. No claim to original U.S. Government Works.\\r\\nCiting References (9)\\r\\nTreatment\\r\\nTitle\\r\\nDate\\r\\nType\\r\\nDepth\\r\\nHeadnote(s)\\r\\nCited by\\r\\n1.  Booker v. Jones\\xe2\\x80\\x99s Adm\\xe2\\x80\\x99x\\r\\n55 Ala. 266, 271 , Ala.\\r\\nTrover for Conversion of Cotton, with Counts in Case. APPEAL from the Circuit Court of Hale. Tried before the Hon. M. J. SAFFOLD.\\r\\nDec Term 1876\\r\\nCase\\r\\n\\xe2\\x80\\x94\\r\\nCited by\\r\\n2.  Lehman, Durr & Co. v. Marshall\\r\\n47 Ala. 362, 376 , Ala.\\r\\n[TROVER FOR CONVERSION OF COTTON.] APPEAL from the City Court of Montgomery. Tried before Hon. JOHN D. CUNNINGHAM.\\r\\nJan Term 1872\\r\\nCase\\r\\n\\xe2\\x80\\x94\\r\\nCited by\\r\\n3.  Bibb v. Janney\\r\\n45 Ala. 329, 334 , Ala.\\r\\n[GARNISHMENT; WAGES; WAIVER OF EXEMPTION.] APPEAL from City Court of Montgomery. Tried before Hon. JOHN D. CUNNINGHAM.\\r\\nJan Term 1871\\r\\nCase\\r\\n\\xe2\\x80\\x94\\r\\nCited by\\r\\n4.  McKenzie v. Lampley\\r\\n31 Ala. 526, 527 , Ala.\\r\\n[TRIAL OF RIGHT OF PROPERTY IN COTTON.] APPEAL from the Circuit Court of Barbour. Tried before the Hon. S. D. HALE.\\r\\nJan Term 1858\\r\\nCase\\r\\n\\xe2\\x80\\x94\\r\\nCited by\\r\\n5.  Evans v. Lamar\\r\\n21 Ala. 333, 335+ , Ala.\\r\\nERROR to the Circuit Court of Autauga. Tried before the Hon. A. B. MOORE.\\r\\nJun Term 1852\\r\\nCase\\r\\n\\xe2\\x80\\x94\\r\\nCited by\\r\\n 6.  Dewey v. Bowman\\r\\n8 Cal. 145, 147 , Cal.\\r\\nThe judgment of the Court below, against Jacob S. Cohen, should be reversed, for the following reasons: Because the finding of the Court was, so far as Cohen was concerned,...\\r\\nJul Term 1857\\r\\nCase\\r\\n\\xe2\\x80\\x94\\r\\nMentioned by\\r\\n7.  Rees v. Coats\\r\\n65 Ala. 256, 258 , Ala.\\r\\nTrover for Conversion of Three Bales of Cotton. APPEAL from the Circuit Court of Etowah. Tried before the Hon. WM. L. WHITLOCK.\\r\\nNov Term 1880\\r\\nCase\\r\\n\\xe2\\x80\\x94\\r\\nMentioned by\\r\\n8.  Edwards v. Thompson\\r\\n4 S.W. 913, 914 , Tenn.\\r\\nAppeal from circuit court, Weakley county.\\r\\nMay 1887\\r\\nCase\\r\\n\\xe2\\x80\\x94\\r\\n\\xe2\\x80\\x94\\r\\n9.  Growing crops as subject to levy and seizure under attachment or execution\\r\\n103 A.L.R. 464\\r\\nGenerally, at common law, growing crops raised by annual planting, while still attached to the soil, are regarded as personal chattels, subject to levy and seizure under attachment...\\r\\n1936\\r\\nALR\\r\\n\\xe2\\x80\\x94\\r\\n\\xe2\\x80\\x94\\r\\nTable of Authorities (3)\\r\\nTreatment\\r\\nReferenced Title\\r\\nType\\r\\nDepth\\r\\nQuoted\\r\\nPage Number\\r\\nMentioned\\r\\n1.  Austin v. Sawyer\\r\\n9 Cow. 39, N.Y.Sup., 1828\\r\\nParol evidence is not admissible to contradict, or substantially vary, a written contract. And where A. quit-claimed land to W., on which a crop of wheat was growing, reserving the...\\r\\nCase\\r\\n2\\r\\nCited\\r\\n 2.  Perkins v. Mayfield\\r\\n5 Port. 182, Ala., 1837\\r\\nOn writ of error to the Circuit Court of Tuskaloosa.\\r\\nCase\\r\\n2+\\r\\nMentioned\\r\\n3.  Stewart v. Doughty\\r\\n9 Johns. 108, N.Y.Sup., 1812\\r\\nA. let to B. a farm for six years, and A. agreed \\xe2\\x80\\x9cto render, yield and pay to A. the one half of all the wheat, rye, corn and other grain, raised on the farm in each year, in the...\\r\\nCase\\r\\n2\\r\\nFilings\\r\\nThere are no Filings for this citation.\\r\\nNegative Treatment\\r\\nThere are no Negative Treatment results for this citation.\\r\\nHistory\\r\\nThere are no History results for this citation.\\r\\n'}"
            ]
          },
          "metadata": {
            "tags": []
          },
          "execution_count": 40
        }
      ]
    },
    {
      "cell_type": "markdown",
      "metadata": {
        "id": "h74fpXJpClng"
      },
      "source": [
        "Basic feature extraction using text data "
      ]
    },
    {
      "cell_type": "code",
      "metadata": {
        "colab": {
          "base_uri": "https://localhost:8080/"
        },
        "id": "83jcuOK7djJd",
        "outputId": "24ecada3-04f0-4a4c-b0ba-c91652cd6df8"
      },
      "source": [
        "#number of words in each sentence\r\n",
        "#number of stopwords\r\n",
        "\r\n",
        "file = open ('legalcase.txt', 'r')\r\n",
        "lines= list (file)\r\n",
        "file_contents = file.read()\r\n",
        "print(lines)\r\n",
        "file.close()\r\n",
        "words_all = 0\r\n",
        "for line in lines:\r\n",
        "    words_all = words_all + len(line.split())\r\n",
        "    print ('Total words:   ', words_all)\r\n",
        "full_stops = 0\r\n",
        "for stop in lines:\r\n",
        "    full_stops = full_stops + len(stop.split('.'))\r\n",
        "print ('total stops:    ', full_stops)"
      ],
      "execution_count": 5,
      "outputs": [
        {
          "output_type": "stream",
          "text": [
            "['\\n', '5 Ala. 740\\n', 'Supreme Court of Alabama.\\n', 'ADAMS\\n', 'v.\\n', 'TANNER AND HORTON.\\n', 'June Term, 1843.\\n', 'Synopsis\\n', 'WRIT of Error to the Circuit Court of Sumter.\\n', '\\xa0\\n', '\\n', '\\n', 'West Headnotes (2)\\n', '\\n', '\\n', '[1]\\n', 'Chattel Mortgages\\n', 'Crops\\n', 'A growing crop has such an existence as to be the subject-matter of a mortgage or other contract which passes an interest to vest in possession, either immediately or at a future time.\\n', '4 Cases that cite this headnote\\n', '\\n', '[2]\\n', 'Creditors’ Remedies\\n', 'Lien and Priority\\n', 'Under St.1821, prohibiting a levy on a crop until it has been gathered, no lien attaches in favor of a fi. fa. on a growing crop, nor does such lien attach until after the crop has been gathered.\\n', '5 Cases that cite this headnote\\n', '\\n', '**1 This was a trial of the right of property under the statute. In November, 1840, an execution issued from the circuit court of Sumter, at the suit of the plaintiff in error, requiring the sheriff of that county, to make of the goods, &c., of Allen Harrison and others, the sum of thirty-seven hundred and seventy-seven 80-100 dollars, besides costs. This execution was levied on thirty bales of cotton, as the property of Allen Harrison, which was claimed, and a bond given to try the right. An issue was made up to try the question of the liability of the cotton to the plaintiff’s execution, and submitted to a jury. On the trial, a bill of exceptions was sealed at the instance of the plaintiff. The plaintiff proved that he recovered his judgment in October, 1839; that an execution *741 was issued thereon on the 7th Nov. thereafter, and that alias and pluries fieri facias’, issued regularly up to the time levy was made; that the cotton levied on was growed on the plantation of Harrison, and cultivated by the hands in his service. It was proved by the claimants, by the production of a written contract, that Harrison, on the twenty-second of May, 1840, in consideration that the claimants were involved, as indorsers for Burton & Harrison of Sumter county, and were then exposed to an execution, amounting to upwards of fourteen thousand dollars, bargained and sold to the claimants all his growing crop of cotton &c., consisting of one hundred and twenty acres, &c. Allen Harrison promised and obliged himself to give up his crop to the use of the claimants at any time to save them from suffering as his indorsers; if the crop matured and was gathered he undertook to deliver the cotton in Gainesville. The claimants came from Tennessee, (where they resided) about the first of September, 1840, bringing with them three or four white laborers, and took possession of the crop and slaves, and with the latter, and white laborers, gathered the cotton, prepared it for market, and when levied on, it was in a ware-house in Gainesville. The plaintiff then proved by Harrison, that the claimants took possession of the crop, while he was absent, and disposed of it without his consent. It was admitted, that the contract was made in good faith.\\n', 'The court charged the jury, that the plaintiff had no lien by virtue of his judgment, and execution on the growing crop; that Harrison had a right to convey it, without being in any manner restrained by them; that the writing adduced, was a sale of the crop, but if it was not, and the lien of the fieri facias would have attached upon it, when gathered, yet if the claimants obtained possession on the first of September, and controlled the gathering of the crop, then no lien attached, and it was not subject to the levy.\\n', 'Attorneys and Law Firms\\n', 'R. H. SMITH, for the plaintiff, in error, made the following points.--1. The crop of Harrison, must, in May, 1840, have been in an immature state, and it is insisted, was not the subject of a sale. 2. By the common law, a growing crop could be levied on and sold, [1 Salk. Rep. 361; 1 Bos. & P. Rep. 307; 6 East’s Rep. 604, note 1; 2 Johns. Rep. 418, 422; 7 Mass. Rep. 34,] and our statue, [[[Aik. Dig. § 41, p. 167,] which forbids the levy of an *742 execution on a growing crop, is to receive a strict construction. It merely inhibits the levy, but the lien attaches, and a levy and sale may be made after the crop matures, and is gathered. 3. The contract does not purport to convey the growing crop, but is a mere executory agreement, requiring some act to be done by Harrison, in order to invest the claimants with the right of property. [Chit. on Con. 112, 207; 3 Johns. Rep. 338, 424; 5 Wend. Rep. 26; 13 Johns. Rep. 235; 8 Dowl. Rep, 693;] and until this act was done, the crop, no matter by who gathered, because liable to be seized for Harrison’s debts. A court of chancery would not compel a specific performance of the contract at the claimant’s instance. 4. The charge of the court is also objectionable in deciding disputed facts.\\n', 'W. M. MURPHY, with whom was W. G. JONES, for the defendant--cited the act of 1821, [Aik. Dig. 167,] which declares it to be lawful to levy an execution on a planted crop, until it is gathered, and contended that no lien attached in favor of the plaintiff. This being the case, the defendant in execution was not restrained from making the contract which he did with the claimants.\\n', '**2 The lien of an execution is destroyed by an injunction, because it takes away the right to levy it. In short, whenever the right to levy an execution is but temporarily suspended, or withdrawn, the lien is during that time lost. [[[[Whipple v. Foot, 2 Johns. Rep. 216; 3 Wash. C. C. Rep. 66; 4 How. Rep. 130.]\\n', 'It is admitted that the contract between the defendant in execution, and the claimants, was in good faith, if so, the severance and removal of the cotton gave the latter a good title against all creditors of the former.\\n', 'Opinion\\n', '\\n', 'COLLIER, C. J.\\n', '\\n', 'There can be no doubt that a growing crop has such an existence as to be the subject matter of a sale, mortgage, or other contract which possess an interest to vest in possession, either immediately or at some future time. This proposition has frequently been assumed as unquestionable; the point of inquiry generally being, whether under a statute of frauds, such as the 29 Chas. 2, it is a mere chattel, and transferrable by parol without writing. [Chitty on Con. 241-2, 332; Whipple v. Foot, 2 Johns. Rep. 422; Stewart v. Doughty, 9 Johns. Rep. 112; *743 Austin v. Sawyer, 9 Cow. Rep. 39. See also Ravesies v. Lee & Alston, at last term.] The contract set out in the bill of exceptions, we are inclined to think evidences rather a mortgage than an absolute sale. It recites that the claimants are involved as indorsers of a mercantile firm, of which the defendant was a partner; that an execution for upwards of fourteen thousand dollars against their estate, is in the sheriff’s hands, and that a conveyance is made of the crop of cotton, corn and oats, which the grantor agrees to give up at any time to the use of the claimants, so as to prevent injury to them as indorsers. The defendant in execution might at any time have divested the interest which the contract vested in the claimants, by discharging their liability as his indorsers, or a judgment creditor might have satisfied the lien, and when the crop was gathered, have levied on, and sold it under a fieri facias.\\n', 'We will then consider the writing under which the claimants assert a right, as a mortgage with a power to take possession any time during the year, unless they should be relieved from their engagements as indorsers. It is not pretended that their liability has been satisfied, and it is admitted that the parties have acted with good faith, so that it is a dry question of law, whether the right of the plaintiff, or the claimants shall prevail. Assuming for the present that the execution of the plaintiffs did not operate a lien upon the planted crop previous to the contract of May, 1840, we will inquire whether the defendant in execution had such an interest as could be levied on and sold.\\n', 'The claimants had previous to the levy of the execution taken possession of the crop, prepared the cotton for market, and removed it to a ware-house. This possession, it is insisted, was a trespass, because it was acquired in the absence of the defendant in execution, and without his consent then given. Conceding the truth of the facts stated in the bill of exceptions, and we think it will not follow, that the possession of the claimants is a nullity, and that the case must be considered as if they had never interfered with the crop. The contract contains an express undertaking to give up the crop at any time the claimants might require it for their indemnity, and if they took possession of it in the absence of the grantor, (though without his consent,) if he subsequently acquiesced in it, the inference would be, if necessary, that their acts were approved by him. Taking this to be clear *744 law, and it will be seen, that the defendant in execution at the time of the levy had nothing more than a mere equitable right to redeem the cotton by paying the debts indorsed by the claimants. He had no possession coupled with this equity, but only a naked equity, which it has been held cannot be reached by an ordinary execution. [Perkins and Elliott v. Mayfield, 5 Porter’s Rep. 182.]\\n', '**3 This brings us back to the question, whether the execution of the plaintiff was a lien on the growing crop, so as to defeat the mortgage to the claimants. It has been frequently mooted whether, at common law, corn, &c., before it is gathered, can be seized under a fieri facias. Mr. Dane, in remarking upon this point, says, “The American editor of Bacon’s Abridgment, says, ‘Wheat growing in the ground is a chattel, and subject to be taken in execution; and the sheriff may suffer it to grow till harvest, and then cut and sell it; or may perhaps sell it growing, and the purchaser will then be entitled to enter, for the purpose of cutting and carrying it away.” [He cites Whipple v. Foot, ut supra, also Poole’s case, Salk. 368; 1 Bos. & P. 397; 6 East, 604, n.] But Whipple v. Foot seems to be the only case that supports his position, that unripe wheat or corn may be taken in execution; and the same editor states that nothing can be taken in execution which cannot be sold. This position, says the learned commentator, is no doubt law. But it is unnecessary to consider how this matter stands at common law. The first section of the act of 1821, “To prevent sheriffs and other officers from levying executions in certain cases, enacts, that “It shall not be lawful for any sheriff or other officer, to levy a writ of fieri facias or other execution on the planted crop of a debtor, or person against whom an execution may issue, until the crop is gathered.” [Aik. Dig. 167.] Now here is an express inhibition to levy an execution on a crop while it remains on, or in the ground, and until it is severed from the soil to which it owes its growth. In respect to property thus situated, will the lien of an execution attach eo instanti upon its being placed in the hands of an officer? If so, the act cited, will only have the effect of keeping the right to levy it in abeyance until the crop is gathered. The lien of an execution does, not only operate so as to prevent the debtor from disposing of the property on which it attaches, but gives to the creditor the right to have it sold to satisfy his *745 judgment. The lien and the right to levy are intimately connected, and if the latter be taken away, or suspended, the effect, at common law, is the destruction of the former. This principle is fully established by Mansony and Hurtell v. The President, &c. of the Bank of the United States, and its assignees, and the citations contained in the opinion of the court in that case, as also in my opinion in Wood v. Gary, et al., both decided at the last term. That it was competent for the legislature to have made it unlawful to levy an execution on particular property, until its condition was changed, and still to give it a continuing lien, cannot be doubted; but there is nothing in the act in question to indicate that such is its intention. If the object was merely to suspend the sale, until the crop was gathered, it would have been very easy to have said so in explicit terms, but declaring as the statute does, in totidem verbis, that the execution shall not be levied, the legislature must be supposed to have meant what they have expressed. The act was induced by the doubts which existed as to what was the common law, and was intended to remove those doubts by declaring what should be the law in future. It does not create a lien or authorize a levy in a case in which the law, as it then existed, was silent. The idea that the lien attached upon the planted crop as soon as the execution was delivered to the sheriff, though the right to levy it was postponed until a severance took place, is attempted to be deduced from the last words of the section cited, viz: “until the crop is gathered.” These words cannot, upon any just principles of construction be regarded so potent as to give to an execution a retrospective effect. They do not refer to the lien, if they did they would postpone it until the crop was gathered; but it is the levy they relate to and postpone until that event takes place.\\n', '**4 The right to levy an execution on a planted crop, then, being expressly taken away by the statute, the lien which is connected with and consequent upon that right, never attaches until severance. This being the case, the right of the defendant in execution to make the contract which he did, is unquestionable, and the title of the claimants, coupled as it was with the possession, was paramount to any lien which the execution could exert.\\n', 'The circuit judge may have mistaken the law in supposing that the contract was a sale, but if he did, an error in that respect was very immaterial, for whether a sale or mortgage, as we have *746 seen, under the facts of the case, the defendant in execution has no interest that could be seised and sold under execution. There is no assumption of any material fact in the charge; but the possession of the claimant, the time when acquired, the gathering of the crop, &c., are all referred to the determination of the jury; who are instructed, if they find them according to the evidence adduced, that no lien ever attached in favor of the plaintiff. The bona fides of the contract was conceded, so that no charge was necessary on that point, and it could not with propriety enter into the inquiry of the jury.\\n', 'It results from what has been said, that the judgment of the circuit court is affirmed.\\n', '\\n', 'DISSENTING OPINION.\\n', '\\n', 'ORMOND, J.\\n', '**4 The statute which presents the question before the court is, that “it shall not be lawful for any sheriff or other officer to levy a writ of fieei facias or other execution, on the planted crop of a debtor, or person against whom an execution may issue, until the crop is gathered.” [Clay’s Dig. 210, § 46.]\\n', 'I shall not enter upon the enquiry, whether, at common law, an execution could be levied upon a growing crop, though I apprehend, it would not be difficult to maintain the affirmative of the proposition. It is sufficient for my purpose, that the statute supposes such to have been the law, as it doubtless was the practice.\\n', 'This act must be considered in connection with the other acts upon the same subject. The policy of the State, as indicated by these statutes, is undeniably that all the property of a debtor, real and personal, to which he has a legal title, shall be subject to sale by execution, and it appears to me that it would be difficult to assign a reason for the exemption of this species of property from the claims of judgment creditors, and for giving to the defendant in execution the right to dispose of it. It appears to me, with all deference, that the argument that because the sheriff was prohibited from levying on a ““planted crop,” that therefore the execution had lost its lien, and the debtor had the right to sell it, is a non sequitur. The mischief which the statute designed to remedy was, the sacrifice which would be necessarily made by the sale of an immature crop: the statute enables the debtor to retain it until it matures, and by severing it from the soil to put it *747 in a condition to bring its value--the lien in the mean time continuing in the plaintiff in execution.\\n', '**5 If further confirmation of the correctness of this view were necessary, it will be found, I think, in the language employed by the legislature. The sheriff is forbidden to levy on a “planted crop” until the crop is gathered. Now, if the view taken by the majority of the court, is correct, the right secured to the plaintiff in execution, of levying on the crop after it is gathered, may be frustrated, as it was in this case, by a sale by the defendant in execution, whilst the crop is in an immature state. The construction which has been put upon the statute, involves the singular anomaly, that the legislature, for the protection of the debtor, has forbidden the plaintiff in execution to sell the property of his debtor, because it is not in a condition to bring its value, and yet permits the debtor, voluntarily, by a sale, to submit to the same sacrifice, for his own benefit. It is, in effect, a gift to the defendant in execution, of the growing crop, provided he does not gather it himself, but disposes of it in its then condition. This, I feel a thorough conviction, was not the intention of the legislature; but that it was to secure him from loss, by prohibiting a levy and sale of the crop, until it was gathered, when the temporary suspension of the right to sell, ceased.\\n', 'All Citations\\n', '5 Ala. 740, 1843 WL 284\\n', 'End of Document\\n', '© 2019 Thomson Reuters. No claim to original U.S. Government Works.\\n', 'Citing References (9)\\n', 'Treatment\\n', 'Title\\n', 'Date\\n', 'Type\\n', 'Depth\\n', 'Headnote(s)\\n', 'Cited by\\n', '1.  Booker v. Jones’s Adm’x\\n', '55 Ala. 266, 271 , Ala.\\n', 'Trover for Conversion of Cotton, with Counts in Case. APPEAL from the Circuit Court of Hale. Tried before the Hon. M. J. SAFFOLD.\\n', 'Dec Term 1876\\n', 'Case\\n', '—\\n', 'Cited by\\n', '2.  Lehman, Durr & Co. v. Marshall\\n', '47 Ala. 362, 376 , Ala.\\n', '[TROVER FOR CONVERSION OF COTTON.] APPEAL from the City Court of Montgomery. Tried before Hon. JOHN D. CUNNINGHAM.\\n', 'Jan Term 1872\\n', 'Case\\n', '—\\n', 'Cited by\\n', '3.  Bibb v. Janney\\n', '45 Ala. 329, 334 , Ala.\\n', '[GARNISHMENT; WAGES; WAIVER OF EXEMPTION.] APPEAL from City Court of Montgomery. Tried before Hon. JOHN D. CUNNINGHAM.\\n', 'Jan Term 1871\\n', 'Case\\n', '—\\n', 'Cited by\\n', '4.  McKenzie v. Lampley\\n', '31 Ala. 526, 527 , Ala.\\n', '[TRIAL OF RIGHT OF PROPERTY IN COTTON.] APPEAL from the Circuit Court of Barbour. Tried before the Hon. S. D. HALE.\\n', 'Jan Term 1858\\n', 'Case\\n', '—\\n', 'Cited by\\n', '5.  Evans v. Lamar\\n', '21 Ala. 333, 335+ , Ala.\\n', 'ERROR to the Circuit Court of Autauga. Tried before the Hon. A. B. MOORE.\\n', 'Jun Term 1852\\n', 'Case\\n', '—\\n', 'Cited by\\n', ' 6.  Dewey v. Bowman\\n', '8 Cal. 145, 147 , Cal.\\n', 'The judgment of the Court below, against Jacob S. Cohen, should be reversed, for the following reasons: Because the finding of the Court was, so far as Cohen was concerned,...\\n', 'Jul Term 1857\\n', 'Case\\n', '—\\n', 'Mentioned by\\n', '7.  Rees v. Coats\\n', '65 Ala. 256, 258 , Ala.\\n', 'Trover for Conversion of Three Bales of Cotton. APPEAL from the Circuit Court of Etowah. Tried before the Hon. WM. L. WHITLOCK.\\n', 'Nov Term 1880\\n', 'Case\\n', '—\\n', 'Mentioned by\\n', '8.  Edwards v. Thompson\\n', '4 S.W. 913, 914 , Tenn.\\n', 'Appeal from circuit court, Weakley county.\\n', 'May 1887\\n', 'Case\\n', '—\\n', '—\\n', '9.  Growing crops as subject to levy and seizure under attachment or execution\\n', '103 A.L.R. 464\\n', 'Generally, at common law, growing crops raised by annual planting, while still attached to the soil, are regarded as personal chattels, subject to levy and seizure under attachment...\\n', '1936\\n', 'ALR\\n', '—\\n', '—\\n', 'Table of Authorities (3)\\n', 'Treatment\\n', 'Referenced Title\\n', 'Type\\n', 'Depth\\n', 'Quoted\\n', 'Page Number\\n', 'Mentioned\\n', '1.  Austin v. Sawyer\\n', '9 Cow. 39, N.Y.Sup., 1828\\n', 'Parol evidence is not admissible to contradict, or substantially vary, a written contract. And where A. quit-claimed land to W., on which a crop of wheat was growing, reserving the...\\n', 'Case\\n', '2\\n', 'Cited\\n', ' 2.  Perkins v. Mayfield\\n', '5 Port. 182, Ala., 1837\\n', 'On writ of error to the Circuit Court of Tuskaloosa.\\n', 'Case\\n', '2+\\n', 'Mentioned\\n', '3.  Stewart v. Doughty\\n', '9 Johns. 108, N.Y.Sup., 1812\\n', 'A. let to B. a farm for six years, and A. agreed “to render, yield and pay to A. the one half of all the wheat, rye, corn and other grain, raised on the farm in each year, in the...\\n', 'Case\\n', '2\\n', 'Filings\\n', 'There are no Filings for this citation.\\n', 'Negative Treatment\\n', 'There are no Negative Treatment results for this citation.\\n', 'History\\n', 'There are no History results for this citation.\\n']\n",
            "Total words:    0\n",
            "Total words:    3\n",
            "Total words:    7\n",
            "Total words:    8\n",
            "Total words:    9\n",
            "Total words:    12\n",
            "Total words:    15\n",
            "Total words:    16\n",
            "Total words:    25\n",
            "Total words:    25\n",
            "Total words:    25\n",
            "Total words:    25\n",
            "Total words:    28\n",
            "Total words:    28\n",
            "Total words:    28\n",
            "Total words:    29\n",
            "Total words:    31\n",
            "Total words:    32\n",
            "Total words:    65\n",
            "Total words:    71\n",
            "Total words:    71\n",
            "Total words:    72\n",
            "Total words:    74\n",
            "Total words:    77\n",
            "Total words:    115\n",
            "Total words:    121\n",
            "Total words:    121\n",
            "Total words:    512\n",
            "Total words:    609\n",
            "Total words:    613\n",
            "Total words:    849\n",
            "Total words:    918\n",
            "Total words:    977\n",
            "Total words:    1016\n",
            "Total words:    1017\n",
            "Total words:    1017\n",
            "Total words:    1020\n",
            "Total words:    1020\n",
            "Total words:    1284\n",
            "Total words:    1408\n",
            "Total words:    1639\n",
            "Total words:    2387\n",
            "Total words:    2464\n",
            "Total words:    2612\n",
            "Total words:    2628\n",
            "Total words:    2628\n",
            "Total words:    2630\n",
            "Total words:    2630\n",
            "Total words:    2632\n",
            "Total words:    2690\n",
            "Total words:    2747\n",
            "Total words:    2946\n",
            "Total words:    3181\n",
            "Total words:    3183\n",
            "Total words:    3189\n",
            "Total words:    3192\n",
            "Total words:    3203\n",
            "Total words:    3206\n",
            "Total words:    3207\n",
            "Total words:    3208\n",
            "Total words:    3209\n",
            "Total words:    3210\n",
            "Total words:    3211\n",
            "Total words:    3212\n",
            "Total words:    3214\n",
            "Total words:    3219\n",
            "Total words:    3225\n",
            "Total words:    3248\n",
            "Total words:    3251\n",
            "Total words:    3252\n",
            "Total words:    3253\n",
            "Total words:    3255\n",
            "Total words:    3262\n",
            "Total words:    3268\n",
            "Total words:    3286\n",
            "Total words:    3289\n",
            "Total words:    3290\n",
            "Total words:    3291\n",
            "Total words:    3293\n",
            "Total words:    3297\n",
            "Total words:    3303\n",
            "Total words:    3320\n",
            "Total words:    3323\n",
            "Total words:    3324\n",
            "Total words:    3325\n",
            "Total words:    3327\n",
            "Total words:    3331\n",
            "Total words:    3337\n",
            "Total words:    3358\n",
            "Total words:    3361\n",
            "Total words:    3362\n",
            "Total words:    3363\n",
            "Total words:    3365\n",
            "Total words:    3369\n",
            "Total words:    3375\n",
            "Total words:    3389\n",
            "Total words:    3392\n",
            "Total words:    3393\n",
            "Total words:    3394\n",
            "Total words:    3396\n",
            "Total words:    3400\n",
            "Total words:    3406\n",
            "Total words:    3436\n",
            "Total words:    3439\n",
            "Total words:    3440\n",
            "Total words:    3441\n",
            "Total words:    3443\n",
            "Total words:    3447\n",
            "Total words:    3453\n",
            "Total words:    3475\n",
            "Total words:    3478\n",
            "Total words:    3479\n",
            "Total words:    3480\n",
            "Total words:    3482\n",
            "Total words:    3486\n",
            "Total words:    3492\n",
            "Total words:    3498\n",
            "Total words:    3500\n",
            "Total words:    3501\n",
            "Total words:    3502\n",
            "Total words:    3503\n",
            "Total words:    3516\n",
            "Total words:    3519\n",
            "Total words:    3547\n",
            "Total words:    3548\n",
            "Total words:    3549\n",
            "Total words:    3550\n",
            "Total words:    3551\n",
            "Total words:    3555\n",
            "Total words:    3556\n",
            "Total words:    3558\n",
            "Total words:    3559\n",
            "Total words:    3560\n",
            "Total words:    3561\n",
            "Total words:    3563\n",
            "Total words:    3564\n",
            "Total words:    3568\n",
            "Total words:    3573\n",
            "Total words:    3603\n",
            "Total words:    3604\n",
            "Total words:    3605\n",
            "Total words:    3606\n",
            "Total words:    3610\n",
            "Total words:    3615\n",
            "Total words:    3625\n",
            "Total words:    3626\n",
            "Total words:    3627\n",
            "Total words:    3628\n",
            "Total words:    3632\n",
            "Total words:    3637\n",
            "Total words:    3677\n",
            "Total words:    3678\n",
            "Total words:    3679\n",
            "Total words:    3680\n",
            "Total words:    3687\n",
            "Total words:    3689\n",
            "Total words:    3698\n",
            "Total words:    3699\n",
            "Total words:    3707\n",
            "total stops:     450\n"
          ],
          "name": "stdout"
        }
      ]
    },
    {
      "cell_type": "code",
      "metadata": {
        "colab": {
          "base_uri": "https://localhost:8080/"
        },
        "id": "XVc9sI4YfP3F",
        "outputId": "1ae97e73-4f08-44f0-e521-3cce15460675"
      },
      "source": [
        "#number of sentences\r\n",
        "#nmber of words\r\n",
        "\r\n",
        "if __name__ == \"__main__\":\r\n",
        "   f = open(\"legalcase.txt\")\r\n",
        "   ch=wo=0\r\n",
        "   sen=1\r\n",
        "   sentence = False\r\n",
        "   for x in f:\r\n",
        "      x = x.strip()\r\n",
        "      if x != \"\":\r\n",
        "        words = x.split()\r\n",
        "        wo = wo+len(words)\r\n",
        "        ch = ch + sum([len(word) for word in words])\r\n",
        "        sentence = True\r\n",
        "      else:\r\n",
        "        if sentence:\r\n",
        "           sen = sen+1\r\n",
        "        sentence = False\r\n",
        "\r\n",
        "   if not sentence:\r\n",
        "      sen = sen-1\r\n",
        "   print (\"%d:%d:%d\" % (ch,wo,sen))"
      ],
      "execution_count": 12,
      "outputs": [
        {
          "output_type": "stream",
          "text": [
            "16720:3707:9\n"
          ],
          "name": "stdout"
        }
      ]
    },
    {
      "cell_type": "code",
      "metadata": {
        "colab": {
          "base_uri": "https://localhost:8080/"
        },
        "id": "Ph29e1JFx3Yy",
        "outputId": "3a0c1aeb-1b9b-43e6-e46d-ed799e127f7c"
      },
      "source": [
        "#number of words\r\n",
        "\r\n",
        "file = open(\"legalcase.txt\", \"rt\")\r\n",
        "textfile = file.read()\r\n",
        "#splitting the words of the file\r\n",
        "words = textfile.split()\r\n",
        "\r\n",
        "print('Number of words in the file :', len(words))\r\n"
      ],
      "execution_count": 6,
      "outputs": [
        {
          "output_type": "stream",
          "text": [
            "Number of words in text file : 3707\n"
          ],
          "name": "stdout"
        }
      ]
    },
    {
      "cell_type": "code",
      "metadata": {
        "colab": {
          "base_uri": "https://localhost:8080/"
        },
        "id": "SuupIHpngewv",
        "outputId": "422a5493-cae3-4430-88ee-da470806af58"
      },
      "source": [
        "#number of characters\r\n",
        "#including spaces\r\n",
        "#reading the file\r\n",
        "file = open(\"legalcase.txt\", \"r\")\r\n",
        "\r\n",
        "#read the content of file\r\n",
        "textfile = file.read() \r\n",
        "\r\n",
        "#getting the length of the data\r\n",
        "num_of_char = len(textfile)\r\n",
        "\r\n",
        "print('Number of characters in the file :', num_of_char)\r\n"
      ],
      "execution_count": 4,
      "outputs": [
        {
          "output_type": "stream",
          "text": [
            "Number of characters in text file : 20454\n"
          ],
          "name": "stdout"
        }
      ]
    },
    {
      "cell_type": "code",
      "metadata": {
        "colab": {
          "base_uri": "https://localhost:8080/"
        },
        "id": "-xUuAiPHvAdu",
        "outputId": "5a104d19-4647-4916-f488-a169404e234d"
      },
      "source": [
        "#characters without spaces\r\n",
        "#number of characters\r\n",
        "#reading the file\r\n",
        "file = open(\"legalcase.txt\", \"r\")\r\n",
        "\r\n",
        "#read the content of file\r\n",
        "textfile = file.read().replace(\" \",\"\")\r\n",
        "\r\n",
        "#getting the length of the data\r\n",
        "num_of_char = len(textfile)\r\n",
        "\r\n",
        "print('Number of characters in the file :', num_of_char)\r\n"
      ],
      "execution_count": 5,
      "outputs": [
        {
          "output_type": "stream",
          "text": [
            "Number of characters in the file : 16880\n"
          ],
          "name": "stdout"
        }
      ]
    },
    {
      "cell_type": "code",
      "metadata": {
        "colab": {
          "base_uri": "https://localhost:8080/"
        },
        "id": "JsKTfL21xqfO",
        "outputId": "00a6a057-8a59-4076-adcd-e2406360fb82"
      },
      "source": [
        "#average word length\r\n",
        "#reading the file \r\n",
        "with open('legalcase.txt','r') as f:\r\n",
        "    w = [len(word) for line in f for word in line.rstrip().split(\" \")]\r\n",
        "    w_avg = sum(w)/len(w)\r\n",
        "\r\n",
        "print('Average word length: ')\r\n",
        "print(w_avg)"
      ],
      "execution_count": 9,
      "outputs": [
        {
          "output_type": "stream",
          "text": [
            "Average word length: \n",
            "4.478971336726493\n"
          ],
          "name": "stdout"
        }
      ]
    },
    {
      "cell_type": "code",
      "metadata": {
        "colab": {
          "base_uri": "https://localhost:8080/"
        },
        "id": "BRGzY6p-1dmx",
        "outputId": "3a8b4d8b-eab7-4599-c11b-c1d669d95196"
      },
      "source": [
        "#number of special characters\r\n",
        "\r\n",
        "special_char = 0\r\n",
        "with open('legalcase.txt','r') as f:\r\n",
        "    for line in f:\r\n",
        "       special_char += sum(not x.isalnum() for x in line)\r\n",
        "\r\n",
        "print('Number of special characters: ')\r\n",
        "print(special_char)"
      ],
      "execution_count": 14,
      "outputs": [
        {
          "output_type": "stream",
          "text": [
            "Number of special characters: \n",
            "4551\n"
          ],
          "name": "stdout"
        }
      ]
    },
    {
      "cell_type": "code",
      "metadata": {
        "colab": {
          "base_uri": "https://localhost:8080/"
        },
        "id": "f-vX6F2j3Qxf",
        "outputId": "9a223396-5143-43a4-e07b-d179f1e3395f"
      },
      "source": [
        "#the given example in class was of a tweet\r\n",
        "#a file has many more words and\r\n",
        "#I do not know what type of extraction is needed \r\n",
        "#so I am giving the sum of all the numbers\r\n",
        "\r\n",
        "file_num = open('legalcase.txt', 'r') \r\n",
        "  \r\n",
        "# Reading from the file \r\n",
        "data = file_num.readlines() \r\n",
        "  \r\n",
        "# Varaible for storing the sum \r\n",
        "a = 0\r\n",
        "#going through the entire file\r\n",
        "for line in data: \r\n",
        "      \r\n",
        "    for i in line: \r\n",
        "          \r\n",
        "        #checking for digits in the file\r\n",
        "        if i.isdigit() == True: \r\n",
        "             #if condition is true, add the retrieved values \r\n",
        "            a += int(i) \r\n",
        "  \r\n",
        "print(\"Sum of the numerics:\", a) "
      ],
      "execution_count": 17,
      "outputs": [
        {
          "output_type": "stream",
          "text": [
            "The sum is: 1409\n"
          ],
          "name": "stdout"
        }
      ]
    },
    {
      "cell_type": "code",
      "metadata": {
        "colab": {
          "base_uri": "https://localhost:8080/"
        },
        "id": "qfMR3thA3U8A",
        "outputId": "6a4859e8-3010-4fbf-b120-42f52516af22"
      },
      "source": [
        "#number of uppercase words\r\n",
        "with open('legalcase.txt') as countletter:\r\n",
        "    count = sum(character.isupper() for character in set(countletter.read()))\r\n",
        "    print('Number of uppercase words: ',count)"
      ],
      "execution_count": 41,
      "outputs": [
        {
          "output_type": "stream",
          "text": [
            "Number of uppercase words:  0\n"
          ],
          "name": "stdout"
        }
      ]
    },
    {
      "cell_type": "markdown",
      "metadata": {
        "id": "Uzwi4yjNF8ld"
      },
      "source": [
        "Write a Python program to remove leading zeros from an IP address."
      ]
    },
    {
      "cell_type": "code",
      "metadata": {
        "colab": {
          "base_uri": "https://localhost:8080/"
        },
        "id": "Mz_1FuXLGOS7",
        "outputId": "d7ace3d0-9959-45f6-8ce7-35425ecaa86e"
      },
      "source": [
        "#importing regular expression\r\n",
        "\r\n",
        "import re\r\n",
        "ip_add = \"260.08.094.109\"\r\n",
        "\r\n",
        "#sub in function stands for substring\r\n",
        "#pattern searched in the given string\r\n",
        "\r\n",
        "str=re.sub('\\.[0]*','.',ip_add)\r\n",
        "print(str)\r\n"
      ],
      "execution_count": 20,
      "outputs": [
        {
          "output_type": "stream",
          "text": [
            "260.8.94.109\n"
          ],
          "name": "stdout"
        }
      ]
    },
    {
      "cell_type": "markdown",
      "metadata": {
        "id": "BrantTUmHKvb"
      },
      "source": [
        "Write a Python Program to extract all the years from the following sentence."
      ]
    },
    {
      "cell_type": "code",
      "metadata": {
        "colab": {
          "base_uri": "https://localhost:8080/"
        },
        "id": "nvGqnwNdHMSP",
        "outputId": "8c9bfcff-5c32-453f-b02b-2a48f9db1d68"
      },
      "source": [
        "import re\r\n",
        "\r\n",
        "strin=\"\"\"The 2010s were a dramatic decade, filled with ups and downs, more than 1000 stroies have happened.\r\n",
        " As the decade comes to a close, Insider took a look back at some of the biggest headline-grabbing stories, from 2010 to 2019.\r\n",
        "  The result was 119 news stories that ranged from the heartwarming rescue of a \r\n",
        "  Thai boys' soccer team from a flooded cave to the divisive election of President Donald Trump.\"\"\"\r\n",
        "\r\n",
        "a1=strin.replace(\"2010\", \" \",2).replace(\"2019\",\" \")\r\n",
        "\r\n",
        "\r\n",
        "print(a1)\r\n"
      ],
      "execution_count": 33,
      "outputs": [
        {
          "output_type": "stream",
          "text": [
            "The  s were a dramatic decade, filled with ups and downs, more than 1000 stroies have happened.\n",
            " As the decade comes to a close, Insider took a look back at some of the biggest headline-grabbing stories, from   to  .\n",
            "  The result was 119 news stories that ranged from the heartwarming rescue of a \n",
            "  Thai boys' soccer team from a flooded cave to the divisive election of President Donald Trump.\n"
          ],
          "name": "stdout"
        }
      ]
    }
  ]
}