{
  "nbformat": 4,
  "nbformat_minor": 0,
  "metadata": {
    "colab": {
      "name": "Texans Attitude towards winterstorm.ipynb",
      "provenance": []
    },
    "kernelspec": {
      "name": "python3",
      "display_name": "Python 3"
    },
    "language_info": {
      "name": "python"
    }
  },
  "cells": [
    {
      "cell_type": "markdown",
      "metadata": {
        "id": "nBuKCRnBBGB4"
      },
      "source": [
        "What is the attitude of Texans towards Winterstorm 2021?\n"
      ]
    },
    {
      "cell_type": "markdown",
      "metadata": {
        "id": "d3hE6udrCE1D"
      },
      "source": [
        "1) Know the python version\n"
      ]
    },
    {
      "cell_type": "code",
      "metadata": {
        "colab": {
          "base_uri": "https://localhost:8080/"
        },
        "id": "RyY_x2Dz6Brt",
        "outputId": "782b62f9-d754-484e-8fda-3cf8dc452b8b"
      },
      "source": [
        "!python --version"
      ],
      "execution_count": null,
      "outputs": [
        {
          "output_type": "stream",
          "text": [
            "Python 3.7.10\n"
          ],
          "name": "stdout"
        }
      ]
    },
    {
      "cell_type": "markdown",
      "metadata": {
        "id": "RXJqR4FMCamz"
      },
      "source": [
        "b) Update to 3.8"
      ]
    },
    {
      "cell_type": "code",
      "metadata": {
        "colab": {
          "base_uri": "https://localhost:8080/"
        },
        "id": "HohfdGNN6Lyw",
        "outputId": "f5fd999e-4d80-49ee-fea8-c40f205efc8b"
      },
      "source": [
        "!wget -O mini.sh https://repo.anaconda.com/miniconda/Miniconda3-py38_4.8.2-Linux-x86_64.sh\n",
        "!chmod +x mini.sh\n",
        "!bash ./mini.sh -b -f -p /usr/local"
      ],
      "execution_count": null,
      "outputs": [
        {
          "output_type": "stream",
          "text": [
            "--2021-04-18 07:36:27--  https://repo.anaconda.com/miniconda/Miniconda3-py38_4.8.2-Linux-x86_64.sh\n",
            "Resolving repo.anaconda.com (repo.anaconda.com)... 104.16.130.3, 104.16.131.3, 2606:4700::6810:8203, ...\n",
            "Connecting to repo.anaconda.com (repo.anaconda.com)|104.16.130.3|:443... connected.\n",
            "HTTP request sent, awaiting response... 200 OK\n",
            "Length: 89817099 (86M) [application/x-sh]\n",
            "Saving to: ‘mini.sh’\n",
            "\n",
            "mini.sh             100%[===================>]  85.66M   166MB/s    in 0.5s    \n",
            "\n",
            "2021-04-18 07:36:28 (166 MB/s) - ‘mini.sh’ saved [89817099/89817099]\n",
            "\n",
            "PREFIX=/usr/local\n",
            "Unpacking payload ...\n",
            "Collecting package metadata (current_repodata.json): - \b\b\\ \b\b| \b\bdone\n",
            "Solving environment: - \b\b\\ \b\bdone\n",
            "\n",
            "## Package Plan ##\n",
            "\n",
            "  environment location: /usr/local\n",
            "\n",
            "  added / updated specs:\n",
            "    - _libgcc_mutex==0.1=main\n",
            "    - asn1crypto==1.3.0=py38_0\n",
            "    - ca-certificates==2020.1.1=0\n",
            "    - certifi==2019.11.28=py38_0\n",
            "    - cffi==1.14.0=py38h2e261b9_0\n",
            "    - chardet==3.0.4=py38_1003\n",
            "    - conda-package-handling==1.6.0=py38h7b6447c_0\n",
            "    - conda==4.8.2=py38_0\n",
            "    - cryptography==2.8=py38h1ba5d50_0\n",
            "    - idna==2.8=py38_1000\n",
            "    - ld_impl_linux-64==2.33.1=h53a641e_7\n",
            "    - libedit==3.1.20181209=hc058e9b_0\n",
            "    - libffi==3.2.1=hd88cf55_4\n",
            "    - libgcc-ng==9.1.0=hdf63c60_0\n",
            "    - libstdcxx-ng==9.1.0=hdf63c60_0\n",
            "    - ncurses==6.2=he6710b0_0\n",
            "    - openssl==1.1.1d=h7b6447c_4\n",
            "    - pip==20.0.2=py38_1\n",
            "    - pycosat==0.6.3=py38h7b6447c_0\n",
            "    - pycparser==2.19=py_0\n",
            "    - pyopenssl==19.1.0=py38_0\n",
            "    - pysocks==1.7.1=py38_0\n",
            "    - python==3.8.1=h0371630_1\n",
            "    - readline==7.0=h7b6447c_5\n",
            "    - requests==2.22.0=py38_1\n",
            "    - ruamel_yaml==0.15.87=py38h7b6447c_0\n",
            "    - setuptools==45.2.0=py38_0\n",
            "    - six==1.14.0=py38_0\n",
            "    - sqlite==3.31.1=h7b6447c_0\n",
            "    - tk==8.6.8=hbc83047_0\n",
            "    - tqdm==4.42.1=py_0\n",
            "    - urllib3==1.25.8=py38_0\n",
            "    - wheel==0.34.2=py38_0\n",
            "    - xz==5.2.4=h14c3975_4\n",
            "    - yaml==0.1.7=had09818_2\n",
            "    - zlib==1.2.11=h7b6447c_3\n",
            "\n",
            "\n",
            "The following NEW packages will be INSTALLED:\n",
            "\n",
            "  _libgcc_mutex      pkgs/main/linux-64::_libgcc_mutex-0.1-main\n",
            "  asn1crypto         pkgs/main/linux-64::asn1crypto-1.3.0-py38_0\n",
            "  ca-certificates    pkgs/main/linux-64::ca-certificates-2020.1.1-0\n",
            "  certifi            pkgs/main/linux-64::certifi-2019.11.28-py38_0\n",
            "  cffi               pkgs/main/linux-64::cffi-1.14.0-py38h2e261b9_0\n",
            "  chardet            pkgs/main/linux-64::chardet-3.0.4-py38_1003\n",
            "  conda              pkgs/main/linux-64::conda-4.8.2-py38_0\n",
            "  conda-package-han~ pkgs/main/linux-64::conda-package-handling-1.6.0-py38h7b6447c_0\n",
            "  cryptography       pkgs/main/linux-64::cryptography-2.8-py38h1ba5d50_0\n",
            "  idna               pkgs/main/linux-64::idna-2.8-py38_1000\n",
            "  ld_impl_linux-64   pkgs/main/linux-64::ld_impl_linux-64-2.33.1-h53a641e_7\n",
            "  libedit            pkgs/main/linux-64::libedit-3.1.20181209-hc058e9b_0\n",
            "  libffi             pkgs/main/linux-64::libffi-3.2.1-hd88cf55_4\n",
            "  libgcc-ng          pkgs/main/linux-64::libgcc-ng-9.1.0-hdf63c60_0\n",
            "  libstdcxx-ng       pkgs/main/linux-64::libstdcxx-ng-9.1.0-hdf63c60_0\n",
            "  ncurses            pkgs/main/linux-64::ncurses-6.2-he6710b0_0\n",
            "  openssl            pkgs/main/linux-64::openssl-1.1.1d-h7b6447c_4\n",
            "  pip                pkgs/main/linux-64::pip-20.0.2-py38_1\n",
            "  pycosat            pkgs/main/linux-64::pycosat-0.6.3-py38h7b6447c_0\n",
            "  pycparser          pkgs/main/noarch::pycparser-2.19-py_0\n",
            "  pyopenssl          pkgs/main/linux-64::pyopenssl-19.1.0-py38_0\n",
            "  pysocks            pkgs/main/linux-64::pysocks-1.7.1-py38_0\n",
            "  python             pkgs/main/linux-64::python-3.8.1-h0371630_1\n",
            "  readline           pkgs/main/linux-64::readline-7.0-h7b6447c_5\n",
            "  requests           pkgs/main/linux-64::requests-2.22.0-py38_1\n",
            "  ruamel_yaml        pkgs/main/linux-64::ruamel_yaml-0.15.87-py38h7b6447c_0\n",
            "  setuptools         pkgs/main/linux-64::setuptools-45.2.0-py38_0\n",
            "  six                pkgs/main/linux-64::six-1.14.0-py38_0\n",
            "  sqlite             pkgs/main/linux-64::sqlite-3.31.1-h7b6447c_0\n",
            "  tk                 pkgs/main/linux-64::tk-8.6.8-hbc83047_0\n",
            "  tqdm               pkgs/main/noarch::tqdm-4.42.1-py_0\n",
            "  urllib3            pkgs/main/linux-64::urllib3-1.25.8-py38_0\n",
            "  wheel              pkgs/main/linux-64::wheel-0.34.2-py38_0\n",
            "  xz                 pkgs/main/linux-64::xz-5.2.4-h14c3975_4\n",
            "  yaml               pkgs/main/linux-64::yaml-0.1.7-had09818_2\n",
            "  zlib               pkgs/main/linux-64::zlib-1.2.11-h7b6447c_3\n",
            "\n",
            "\n",
            "Preparing transaction: / \b\b- \b\b\\ \b\b| \b\b/ \b\bdone\n",
            "Executing transaction: \\ \b\b| \b\b/ \b\b- \b\b\\ \b\b| \b\b/ \b\b- \b\b\\ \b\b| \b\b/ \b\b- \b\b\\ \b\b| \b\b/ \b\b- \b\b\\ \b\b| \b\b/ \b\bdone\n",
            "installation finished.\n",
            "WARNING:\n",
            "    You currently have a PYTHONPATH environment variable set. This may cause\n",
            "    unexpected behavior when running the Python interpreter in Miniconda3.\n",
            "    For best results, please verify that your PYTHONPATH only points to\n",
            "    directories of packages that are compatible with the Python interpreter\n",
            "    in Miniconda3: /usr/local\n"
          ],
          "name": "stdout"
        }
      ]
    },
    {
      "cell_type": "markdown",
      "metadata": {
        "id": "AyQeQU7CCmU_"
      },
      "source": [
        "c) Installing Snscrape"
      ]
    },
    {
      "cell_type": "code",
      "metadata": {
        "colab": {
          "base_uri": "https://localhost:8080/"
        },
        "id": "fIe0bQoP6Wnh",
        "outputId": "85b0674b-70ec-4300-bd4f-c21143c846e6"
      },
      "source": [
        "pip install git+https://github.com/JustAnotherArchivist/snscrape.git"
      ],
      "execution_count": null,
      "outputs": [
        {
          "output_type": "stream",
          "text": [
            "Collecting git+https://github.com/JustAnotherArchivist/snscrape.git\n",
            "  Cloning https://github.com/JustAnotherArchivist/snscrape.git to /tmp/pip-req-build-bzk7y69e\n",
            "  Running command git clone -q https://github.com/JustAnotherArchivist/snscrape.git /tmp/pip-req-build-bzk7y69e\n",
            "Requirement already satisfied: requests[socks] in /usr/local/lib/python3.8/site-packages (from snscrape==0.3.5.dev100+g39a34a5) (2.22.0)\n",
            "Collecting lxml\n",
            "  Downloading lxml-4.6.3-cp38-cp38-manylinux1_x86_64.whl (5.4 MB)\n",
            "\u001b[K     |████████████████████████████████| 5.4 MB 7.9 MB/s \n",
            "\u001b[?25hCollecting beautifulsoup4\n",
            "  Downloading beautifulsoup4-4.9.3-py3-none-any.whl (115 kB)\n",
            "\u001b[K     |████████████████████████████████| 115 kB 46.1 MB/s \n",
            "\u001b[?25hCollecting pytz\n",
            "  Downloading pytz-2021.1-py2.py3-none-any.whl (510 kB)\n",
            "\u001b[K     |████████████████████████████████| 510 kB 37.2 MB/s \n",
            "\u001b[?25hRequirement already satisfied: chardet<3.1.0,>=3.0.2 in /usr/local/lib/python3.8/site-packages (from requests[socks]->snscrape==0.3.5.dev100+g39a34a5) (3.0.4)\n",
            "Requirement already satisfied: certifi>=2017.4.17 in /usr/local/lib/python3.8/site-packages (from requests[socks]->snscrape==0.3.5.dev100+g39a34a5) (2019.11.28)\n",
            "Requirement already satisfied: urllib3!=1.25.0,!=1.25.1,<1.26,>=1.21.1 in /usr/local/lib/python3.8/site-packages (from requests[socks]->snscrape==0.3.5.dev100+g39a34a5) (1.25.8)\n",
            "Requirement already satisfied: idna<2.9,>=2.5 in /usr/local/lib/python3.8/site-packages (from requests[socks]->snscrape==0.3.5.dev100+g39a34a5) (2.8)\n",
            "Requirement already satisfied: PySocks!=1.5.7,>=1.5.6; extra == \"socks\" in /usr/local/lib/python3.8/site-packages (from requests[socks]->snscrape==0.3.5.dev100+g39a34a5) (1.7.1)\n",
            "Collecting soupsieve>1.2; python_version >= \"3.0\"\n",
            "  Downloading soupsieve-2.2.1-py3-none-any.whl (33 kB)\n",
            "Building wheels for collected packages: snscrape\n",
            "  Building wheel for snscrape (setup.py) ... \u001b[?25l\u001b[?25hdone\n",
            "  Created wheel for snscrape: filename=snscrape-0.3.5.dev100+g39a34a5-py3-none-any.whl size=50455 sha256=8cec03317650bcdd9ec5555eaec65abb2fb6dd8a1fa63b339ea9545e0a8f83e4\n",
            "  Stored in directory: /tmp/pip-ephem-wheel-cache-sl3345ow/wheels/92/42/87/33fa9b18f7a75d02643a9ca3743339aec9be28c6796267c7d8\n",
            "Successfully built snscrape\n",
            "Installing collected packages: lxml, soupsieve, beautifulsoup4, pytz, snscrape\n",
            "Successfully installed beautifulsoup4-4.9.3 lxml-4.6.3 pytz-2021.1 snscrape-0.3.5.dev100+g39a34a5 soupsieve-2.2.1\n"
          ],
          "name": "stdout"
        }
      ]
    },
    {
      "cell_type": "markdown",
      "metadata": {
        "id": "olVQla1fCvgi"
      },
      "source": [
        ""
      ]
    },
    {
      "cell_type": "code",
      "metadata": {
        "colab": {
          "base_uri": "https://localhost:8080/"
        },
        "id": "3WyIVrBM6k1y",
        "outputId": "8d8a08b0-f280-446a-9bb7-261e8560baf5"
      },
      "source": [
        "import os\n",
        "\n",
        "# Using OS library to call CLI commands in Python\n",
        "os.system(\"snscrape --jsonl --max-results 50000 --since 2021-02-01 twitter-search 'texaswinterstorm2021 until:2021-04-17' > Texans_Attitude.json\")\n"
      ],
      "execution_count": null,
      "outputs": [
        {
          "output_type": "execute_result",
          "data": {
            "text/plain": [
              "0"
            ]
          },
          "metadata": {
            "tags": []
          },
          "execution_count": 54
        }
      ]
    },
    {
      "cell_type": "code",
      "metadata": {
        "colab": {
          "base_uri": "https://localhost:8080/",
          "height": 903
        },
        "id": "IV_C_W7v8waT",
        "outputId": "941b7052-bfa8-4515-e0b5-1a8de4754771"
      },
      "source": [
        "import pandas as pd\n",
        "\n",
        "# Reads the json generated from the CLI commands above and creates a pandas dataframe\n",
        "tweets_df = pd.read_json('Texans_Attitude.json', lines=True)\n",
        "tweets_df"
      ],
      "execution_count": null,
      "outputs": [
        {
          "output_type": "execute_result",
          "data": {
            "text/html": [
              "<div>\n",
              "<style scoped>\n",
              "    .dataframe tbody tr th:only-of-type {\n",
              "        vertical-align: middle;\n",
              "    }\n",
              "\n",
              "    .dataframe tbody tr th {\n",
              "        vertical-align: top;\n",
              "    }\n",
              "\n",
              "    .dataframe thead th {\n",
              "        text-align: right;\n",
              "    }\n",
              "</style>\n",
              "<table border=\"1\" class=\"dataframe\">\n",
              "  <thead>\n",
              "    <tr style=\"text-align: right;\">\n",
              "      <th></th>\n",
              "      <th>url</th>\n",
              "      <th>date</th>\n",
              "      <th>content</th>\n",
              "      <th>renderedContent</th>\n",
              "      <th>id</th>\n",
              "      <th>user</th>\n",
              "      <th>outlinks</th>\n",
              "      <th>tcooutlinks</th>\n",
              "      <th>replyCount</th>\n",
              "      <th>retweetCount</th>\n",
              "      <th>likeCount</th>\n",
              "      <th>quoteCount</th>\n",
              "      <th>conversationId</th>\n",
              "      <th>lang</th>\n",
              "      <th>source</th>\n",
              "      <th>sourceUrl</th>\n",
              "      <th>sourceLabel</th>\n",
              "      <th>media</th>\n",
              "      <th>retweetedTweet</th>\n",
              "      <th>quotedTweet</th>\n",
              "      <th>mentionedUsers</th>\n",
              "      <th>coordinates</th>\n",
              "      <th>place</th>\n",
              "    </tr>\n",
              "  </thead>\n",
              "  <tbody>\n",
              "    <tr>\n",
              "      <th>0</th>\n",
              "      <td>https://twitter.com/grrl54/status/138312507327...</td>\n",
              "      <td>2021-04-16 18:28:09+00:00</td>\n",
              "      <td>Shame #GOPFailedTexas #maketexasblue #TexasWin...</td>\n",
              "      <td>Shame #GOPFailedTexas #maketexasblue #TexasWin...</td>\n",
              "      <td>1383125073272262657</td>\n",
              "      <td>{'username': 'grrl54', 'displayname': 'Gobeck'...</td>\n",
              "      <td>[https://twitter.com/AnniseParker/status/13830...</td>\n",
              "      <td>[https://t.co/TNkjluPmpv]</td>\n",
              "      <td>0</td>\n",
              "      <td>0</td>\n",
              "      <td>0</td>\n",
              "      <td>0</td>\n",
              "      <td>1383125073272262657</td>\n",
              "      <td>en</td>\n",
              "      <td>&lt;a href=\"http://twitter.com/download/android\" ...</td>\n",
              "      <td>http://twitter.com/download/android</td>\n",
              "      <td>Twitter for Android</td>\n",
              "      <td>None</td>\n",
              "      <td>NaN</td>\n",
              "      <td>{'url': 'https://twitter.com/AnniseParker/stat...</td>\n",
              "      <td>None</td>\n",
              "      <td>None</td>\n",
              "      <td>None</td>\n",
              "    </tr>\n",
              "    <tr>\n",
              "      <th>1</th>\n",
              "      <td>https://twitter.com/SkandaVivek/status/1383064...</td>\n",
              "      <td>2021-04-16 14:25:40+00:00</td>\n",
              "      <td>What do #SolarWinds #cybersecurityleadership  ...</td>\n",
              "      <td>What do #SolarWinds #cybersecurityleadership  ...</td>\n",
              "      <td>1383064051572482053</td>\n",
              "      <td>{'username': 'SkandaVivek', 'displayname': 'Sk...</td>\n",
              "      <td>[https://medium.com/snipette/lighting-the-soci...</td>\n",
              "      <td>[https://t.co/As3C4Kxtbh]</td>\n",
              "      <td>0</td>\n",
              "      <td>0</td>\n",
              "      <td>1</td>\n",
              "      <td>0</td>\n",
              "      <td>1383064051572482053</td>\n",
              "      <td>en</td>\n",
              "      <td>&lt;a href=\"https://mobile.twitter.com\" rel=\"nofo...</td>\n",
              "      <td>https://mobile.twitter.com</td>\n",
              "      <td>Twitter Web App</td>\n",
              "      <td>None</td>\n",
              "      <td>NaN</td>\n",
              "      <td>None</td>\n",
              "      <td>[{'username': 'snipettemag', 'displayname': 'S...</td>\n",
              "      <td>None</td>\n",
              "      <td>None</td>\n",
              "    </tr>\n",
              "    <tr>\n",
              "      <th>2</th>\n",
              "      <td>https://twitter.com/Ailee23/status/13828870219...</td>\n",
              "      <td>2021-04-16 02:42:13+00:00</td>\n",
              "      <td>#ClimateCrisis #TexasWinterStorm2021  TO BE CO...</td>\n",
              "      <td>#ClimateCrisis #TexasWinterStorm2021  TO BE CO...</td>\n",
              "      <td>1382887021908258819</td>\n",
              "      <td>{'username': 'Ailee23', 'displayname': 'Ali👊🏾'...</td>\n",
              "      <td>[https://twitter.com/KristenCurrieTV/status/13...</td>\n",
              "      <td>[https://t.co/xiaaPBjReX]</td>\n",
              "      <td>0</td>\n",
              "      <td>0</td>\n",
              "      <td>1</td>\n",
              "      <td>0</td>\n",
              "      <td>1382887021908258819</td>\n",
              "      <td>en</td>\n",
              "      <td>&lt;a href=\"http://twitter.com/download/android\" ...</td>\n",
              "      <td>http://twitter.com/download/android</td>\n",
              "      <td>Twitter for Android</td>\n",
              "      <td>None</td>\n",
              "      <td>NaN</td>\n",
              "      <td>{'url': 'https://twitter.com/KristenCurrieTV/s...</td>\n",
              "      <td>None</td>\n",
              "      <td>None</td>\n",
              "      <td>None</td>\n",
              "    </tr>\n",
              "    <tr>\n",
              "      <th>3</th>\n",
              "      <td>https://twitter.com/jabre608/status/1382828509...</td>\n",
              "      <td>2021-04-15 22:49:42+00:00</td>\n",
              "      <td>@cpsenergy  It is in extreme bad taste and a s...</td>\n",
              "      <td>@cpsenergy  It is in extreme bad taste and a s...</td>\n",
              "      <td>1382828509035319297</td>\n",
              "      <td>{'username': 'jabre608', 'displayname': 'Jabre...</td>\n",
              "      <td>[]</td>\n",
              "      <td>[]</td>\n",
              "      <td>0</td>\n",
              "      <td>0</td>\n",
              "      <td>0</td>\n",
              "      <td>0</td>\n",
              "      <td>1382828509035319297</td>\n",
              "      <td>en</td>\n",
              "      <td>&lt;a href=\"http://twitter.com/download/android\" ...</td>\n",
              "      <td>http://twitter.com/download/android</td>\n",
              "      <td>Twitter for Android</td>\n",
              "      <td>[{'previewUrl': 'https://pbs.twimg.com/media/E...</td>\n",
              "      <td>NaN</td>\n",
              "      <td>None</td>\n",
              "      <td>[{'username': 'cpsenergy', 'displayname': 'CPS...</td>\n",
              "      <td>None</td>\n",
              "      <td>None</td>\n",
              "    </tr>\n",
              "    <tr>\n",
              "      <th>4</th>\n",
              "      <td>https://twitter.com/Emma1754/status/1382812833...</td>\n",
              "      <td>2021-04-15 21:47:25+00:00</td>\n",
              "      <td>Absolutely @SenTedCruz... like when you slithe...</td>\n",
              "      <td>Absolutely @SenTedCruz... like when you slithe...</td>\n",
              "      <td>1382812833797308420</td>\n",
              "      <td>{'username': 'Emma1754', 'displayname': 'Taty5...</td>\n",
              "      <td>[https://twitter.com/Acyn/status/1382781023847...</td>\n",
              "      <td>[https://t.co/f3VHbrEJTZ]</td>\n",
              "      <td>0</td>\n",
              "      <td>0</td>\n",
              "      <td>0</td>\n",
              "      <td>0</td>\n",
              "      <td>1382812833797308420</td>\n",
              "      <td>en</td>\n",
              "      <td>&lt;a href=\"http://twitter.com/download/android\" ...</td>\n",
              "      <td>http://twitter.com/download/android</td>\n",
              "      <td>Twitter for Android</td>\n",
              "      <td>None</td>\n",
              "      <td>NaN</td>\n",
              "      <td>{'url': 'https://twitter.com/Acyn/status/13827...</td>\n",
              "      <td>[{'username': 'SenTedCruz', 'displayname': 'Se...</td>\n",
              "      <td>None</td>\n",
              "      <td>None</td>\n",
              "    </tr>\n",
              "    <tr>\n",
              "      <th>...</th>\n",
              "      <td>...</td>\n",
              "      <td>...</td>\n",
              "      <td>...</td>\n",
              "      <td>...</td>\n",
              "      <td>...</td>\n",
              "      <td>...</td>\n",
              "      <td>...</td>\n",
              "      <td>...</td>\n",
              "      <td>...</td>\n",
              "      <td>...</td>\n",
              "      <td>...</td>\n",
              "      <td>...</td>\n",
              "      <td>...</td>\n",
              "      <td>...</td>\n",
              "      <td>...</td>\n",
              "      <td>...</td>\n",
              "      <td>...</td>\n",
              "      <td>...</td>\n",
              "      <td>...</td>\n",
              "      <td>...</td>\n",
              "      <td>...</td>\n",
              "      <td>...</td>\n",
              "      <td>...</td>\n",
              "    </tr>\n",
              "    <tr>\n",
              "      <th>32035</th>\n",
              "      <td>https://twitter.com/JaRaLineage/status/1361056...</td>\n",
              "      <td>2021-02-14 20:56:49+00:00</td>\n",
              "      <td>Shalom family!!\\nI hope you all are staying wa...</td>\n",
              "      <td>Shalom family!!\\nI hope you all are staying wa...</td>\n",
              "      <td>1361056827266519042</td>\n",
              "      <td>{'username': 'JaRaLineage', 'displayname': 'Ja...</td>\n",
              "      <td>[]</td>\n",
              "      <td>[]</td>\n",
              "      <td>0</td>\n",
              "      <td>0</td>\n",
              "      <td>0</td>\n",
              "      <td>0</td>\n",
              "      <td>1361056827266519042</td>\n",
              "      <td>en</td>\n",
              "      <td>&lt;a href=\"http://twitter.com/download/iphone\" r...</td>\n",
              "      <td>http://twitter.com/download/iphone</td>\n",
              "      <td>Twitter for iPhone</td>\n",
              "      <td>[{'previewUrl': 'https://pbs.twimg.com/media/E...</td>\n",
              "      <td>NaN</td>\n",
              "      <td>None</td>\n",
              "      <td>None</td>\n",
              "      <td>None</td>\n",
              "      <td>None</td>\n",
              "    </tr>\n",
              "    <tr>\n",
              "      <th>32036</th>\n",
              "      <td>https://twitter.com/EmmaHug94660867/status/136...</td>\n",
              "      <td>2021-02-13 16:14:52+00:00</td>\n",
              "      <td>All she needs is a string of pearls and the he...</td>\n",
              "      <td>All she needs is a string of pearls and the he...</td>\n",
              "      <td>1360623484628566019</td>\n",
              "      <td>{'username': 'EmmaHug94660867', 'displayname':...</td>\n",
              "      <td>[]</td>\n",
              "      <td>[]</td>\n",
              "      <td>0</td>\n",
              "      <td>0</td>\n",
              "      <td>0</td>\n",
              "      <td>0</td>\n",
              "      <td>1360623484628566019</td>\n",
              "      <td>en</td>\n",
              "      <td>&lt;a href=\"http://twitter.com/download/iphone\" r...</td>\n",
              "      <td>http://twitter.com/download/iphone</td>\n",
              "      <td>Twitter for iPhone</td>\n",
              "      <td>[{'previewUrl': 'https://pbs.twimg.com/media/E...</td>\n",
              "      <td>NaN</td>\n",
              "      <td>None</td>\n",
              "      <td>None</td>\n",
              "      <td>None</td>\n",
              "      <td>None</td>\n",
              "    </tr>\n",
              "    <tr>\n",
              "      <th>32037</th>\n",
              "      <td>https://twitter.com/oleskoolangel/status/13602...</td>\n",
              "      <td>2021-02-12 17:49:55+00:00</td>\n",
              "      <td>Good thing I bought cake mix! #beingyourownval...</td>\n",
              "      <td>Good thing I bought cake mix! #beingyourownval...</td>\n",
              "      <td>1360285015351848961</td>\n",
              "      <td>{'username': 'oleskoolangel', 'displayname': '...</td>\n",
              "      <td>[https://www.instagram.com/p/CLM33fCMcheZ7seCX...</td>\n",
              "      <td>[https://t.co/dalgbdUbz3]</td>\n",
              "      <td>0</td>\n",
              "      <td>0</td>\n",
              "      <td>0</td>\n",
              "      <td>0</td>\n",
              "      <td>1360285015351848961</td>\n",
              "      <td>en</td>\n",
              "      <td>&lt;a href=\"http://instagram.com\" rel=\"nofollow\"&gt;...</td>\n",
              "      <td>http://instagram.com</td>\n",
              "      <td>Instagram</td>\n",
              "      <td>None</td>\n",
              "      <td>NaN</td>\n",
              "      <td>None</td>\n",
              "      <td>None</td>\n",
              "      <td>{'longitude': -96.63268926, 'latitude': 32.794...</td>\n",
              "      <td>Mesquite, TX</td>\n",
              "    </tr>\n",
              "    <tr>\n",
              "      <th>32038</th>\n",
              "      <td>https://twitter.com/jesyka17/status/1360243694...</td>\n",
              "      <td>2021-02-12 15:05:43+00:00</td>\n",
              "      <td>Oh my goodness! 😲 Please people, stay home if ...</td>\n",
              "      <td>Oh my goodness! 😲 Please people, stay home if ...</td>\n",
              "      <td>1360243694738235392</td>\n",
              "      <td>{'username': 'jesyka17', 'displayname': 'Jess ...</td>\n",
              "      <td>[https://twitter.com/TxStormChasers/status/136...</td>\n",
              "      <td>[https://t.co/lulPwiwSvS]</td>\n",
              "      <td>0</td>\n",
              "      <td>0</td>\n",
              "      <td>0</td>\n",
              "      <td>0</td>\n",
              "      <td>1360243694738235392</td>\n",
              "      <td>en</td>\n",
              "      <td>&lt;a href=\"https://mobile.twitter.com\" rel=\"nofo...</td>\n",
              "      <td>https://mobile.twitter.com</td>\n",
              "      <td>Twitter Web App</td>\n",
              "      <td>None</td>\n",
              "      <td>NaN</td>\n",
              "      <td>{'url': 'https://twitter.com/TxStormChasers/st...</td>\n",
              "      <td>None</td>\n",
              "      <td>None</td>\n",
              "      <td>None</td>\n",
              "    </tr>\n",
              "    <tr>\n",
              "      <th>32039</th>\n",
              "      <td>https://twitter.com/StayStrongKari/status/1359...</td>\n",
              "      <td>2021-02-11 19:56:55+00:00</td>\n",
              "      <td>#TexasWeather #Icicles #TexasWinterStorm2021 h...</td>\n",
              "      <td>#TexasWeather #Icicles #TexasWinterStorm2021 h...</td>\n",
              "      <td>1359954591476043777</td>\n",
              "      <td>{'username': 'StayStrongKari', 'displayname': ...</td>\n",
              "      <td>[]</td>\n",
              "      <td>[]</td>\n",
              "      <td>0</td>\n",
              "      <td>0</td>\n",
              "      <td>0</td>\n",
              "      <td>0</td>\n",
              "      <td>1359954591476043777</td>\n",
              "      <td>und</td>\n",
              "      <td>&lt;a href=\"http://twitter.com/download/iphone\" r...</td>\n",
              "      <td>http://twitter.com/download/iphone</td>\n",
              "      <td>Twitter for iPhone</td>\n",
              "      <td>[{'thumbnailUrl': 'https://pbs.twimg.com/ext_t...</td>\n",
              "      <td>NaN</td>\n",
              "      <td>None</td>\n",
              "      <td>None</td>\n",
              "      <td>{'longitude': -106.645646, 'latitude': 25.837092}</td>\n",
              "      <td>Texas, USA</td>\n",
              "    </tr>\n",
              "  </tbody>\n",
              "</table>\n",
              "<p>32040 rows × 23 columns</p>\n",
              "</div>"
            ],
            "text/plain": [
              "                                                     url  ...         place\n",
              "0      https://twitter.com/grrl54/status/138312507327...  ...          None\n",
              "1      https://twitter.com/SkandaVivek/status/1383064...  ...          None\n",
              "2      https://twitter.com/Ailee23/status/13828870219...  ...          None\n",
              "3      https://twitter.com/jabre608/status/1382828509...  ...          None\n",
              "4      https://twitter.com/Emma1754/status/1382812833...  ...          None\n",
              "...                                                  ...  ...           ...\n",
              "32035  https://twitter.com/JaRaLineage/status/1361056...  ...          None\n",
              "32036  https://twitter.com/EmmaHug94660867/status/136...  ...          None\n",
              "32037  https://twitter.com/oleskoolangel/status/13602...  ...  Mesquite, TX\n",
              "32038  https://twitter.com/jesyka17/status/1360243694...  ...          None\n",
              "32039  https://twitter.com/StayStrongKari/status/1359...  ...    Texas, USA\n",
              "\n",
              "[32040 rows x 23 columns]"
            ]
          },
          "metadata": {
            "tags": []
          },
          "execution_count": 55
        }
      ]
    },
    {
      "cell_type": "code",
      "metadata": {
        "id": "Uoc_wwdISSrv"
      },
      "source": [
        "import pandas as pd\n",
        "\n",
        "df = pd.read_json('/content/Texans_Attitude.json', lines=True)"
      ],
      "execution_count": null,
      "outputs": []
    },
    {
      "cell_type": "code",
      "metadata": {
        "colab": {
          "base_uri": "https://localhost:8080/"
        },
        "id": "xKa15DX8Tqge",
        "outputId": "06a7f43c-6cb6-43a5-e1cc-08ff9baeac06"
      },
      "source": [
        "df.dtypes"
      ],
      "execution_count": null,
      "outputs": [
        {
          "output_type": "execute_result",
          "data": {
            "text/plain": [
              "url                             object\n",
              "date               datetime64[ns, UTC]\n",
              "content                         object\n",
              "renderedContent                 object\n",
              "id                               int64\n",
              "user                            object\n",
              "outlinks                        object\n",
              "tcooutlinks                     object\n",
              "replyCount                       int64\n",
              "retweetCount                     int64\n",
              "likeCount                        int64\n",
              "quoteCount                       int64\n",
              "conversationId                   int64\n",
              "lang                            object\n",
              "source                          object\n",
              "sourceUrl                       object\n",
              "sourceLabel                     object\n",
              "media                           object\n",
              "retweetedTweet                 float64\n",
              "quotedTweet                     object\n",
              "mentionedUsers                  object\n",
              "coordinates                     object\n",
              "place                           object\n",
              "dtype: object"
            ]
          },
          "metadata": {
            "tags": []
          },
          "execution_count": 65
        }
      ]
    },
    {
      "cell_type": "code",
      "metadata": {
        "id": "lfMmblb1TyoH"
      },
      "source": [
        "df['date'] = df['date'].dt.tz_localize(None)"
      ],
      "execution_count": null,
      "outputs": []
    },
    {
      "cell_type": "code",
      "metadata": {
        "id": "GqJgHTphT14j"
      },
      "source": [
        "df.to_excel (\"attitude.xlsx\")\n"
      ],
      "execution_count": null,
      "outputs": []
    }
  ]
}